{
 "cells": [
  {
   "cell_type": "markdown",
   "metadata": {
    "id": "zsBLZL0WhWbf"
   },
   "source": [
    "### Data Types and Type Conversion\n",
    "\n",
    "- Every value in a program has a specific type.\n",
    "\n",
    "- Integer (int): represents positive or negative whole numbers.\n",
    "\n",
    "- Floating point number (float): represents real numbers like 3.14159.\n",
    "\n",
    "- Character string (usually called “string”, str): text.\n",
    "Written in either single quotes or double quotes (as long as they match).\n",
    "\n",
    "    - The quote marks aren’t printed when the string is displayed.\n",
    "\n"
   ]
  },
  {
   "cell_type": "code",
   "execution_count": 1,
   "metadata": {
    "id": "hkT7qfMlJUPk"
   },
   "outputs": [
    {
     "name": "stdout",
     "output_type": "stream",
     "text": [
      "<class 'int'> <class 'float'> <class 'str'>\n"
     ]
    }
   ],
   "source": [
    "print(type(5), type(5.2), type(\"5\"))"
   ]
  },
  {
   "cell_type": "code",
   "execution_count": 2,
   "metadata": {
    "id": "Klw-7xfaiOQz"
   },
   "outputs": [
    {
     "name": "stdout",
     "output_type": "stream",
     "text": [
      "5 <class 'int'>\n"
     ]
    }
   ],
   "source": [
    "a = \"5\"\n",
    "b = int(a)\n",
    "print(b, type(b))"
   ]
  },
  {
   "cell_type": "code",
   "execution_count": 3,
   "metadata": {
    "id": "JRV40OTdjZ_G"
   },
   "outputs": [
    {
     "name": "stdout",
     "output_type": "stream",
     "text": [
      "This is a string.\n"
     ]
    }
   ],
   "source": [
    "print(\"This is a string.\")"
   ]
  },
  {
   "cell_type": "code",
   "execution_count": 4,
   "metadata": {
    "id": "zk2Xhp4Giboe"
   },
   "outputs": [
    {
     "name": "stdout",
     "output_type": "stream",
     "text": [
      "7 \t 3 \t 10 \t 2.5 \t 2 \t 25\n"
     ]
    }
   ],
   "source": [
    "print(5+2,'\\t', 5-2,'\\t', 5*2,'\\t', 5/2,'\\t', 5//2,'\\t', 5**2)"
   ]
  },
  {
   "cell_type": "markdown",
   "metadata": {
    "id": "4UWeM0_3jpOJ"
   },
   "source": [
    "### Lists in Python \n",
    "- Lists are one of the most powerful tools in python. \n",
    "- They are just like the arrays declared in other languages. \n",
    "- The most powerful thing is that list need not be always homogeneous.\n",
    "-  Lists are mutable, i.e., they can be altered once declared."
   ]
  },
  {
   "cell_type": "code",
   "execution_count": 5,
   "metadata": {
    "id": "riVq6n7Ti_Uy"
   },
   "outputs": [
    {
     "name": "stdout",
     "output_type": "stream",
     "text": [
      "[1, 'a', 2, 5.3]\n"
     ]
    }
   ],
   "source": [
    "alist = [1, \"a\" , 2 , 5.3]\n",
    "print(alist)"
   ]
  },
  {
   "cell_type": "code",
   "execution_count": 6,
   "metadata": {
    "id": "RwLsgtoSkHx_"
   },
   "outputs": [
    {
     "name": "stdout",
     "output_type": "stream",
     "text": [
      "1 \t a \t ['a', 2] \t 4\n"
     ]
    }
   ],
   "source": [
    "print(alist[0],'\\t', alist[1], '\\t', alist[1:3], '\\t', len(alist))"
   ]
  },
  {
   "cell_type": "code",
   "execution_count": 7,
   "metadata": {
    "id": "i_WYQelLkW8G"
   },
   "outputs": [
    {
     "name": "stdout",
     "output_type": "stream",
     "text": [
      "[4]\n"
     ]
    }
   ],
   "source": [
    "blist = []\n",
    "blist.append(4)\n",
    "print(blist)"
   ]
  },
  {
   "cell_type": "code",
   "execution_count": 8,
   "metadata": {
    "id": "pEuQACLIkfQY"
   },
   "outputs": [
    {
     "data": {
      "text/plain": [
       "4"
      ]
     },
     "execution_count": 8,
     "metadata": {},
     "output_type": "execute_result"
    }
   ],
   "source": [
    "blist.pop()"
   ]
  },
  {
   "cell_type": "code",
   "execution_count": 9,
   "metadata": {
    "id": "3v4FpU-skwLf"
   },
   "outputs": [
    {
     "name": "stdout",
     "output_type": "stream",
     "text": [
      "[]\n"
     ]
    }
   ],
   "source": [
    "print(blist)"
   ]
  },
  {
   "cell_type": "code",
   "execution_count": 10,
   "metadata": {
    "id": "MNJBY2R3kxos"
   },
   "outputs": [
    {
     "data": {
      "text/plain": [
       "3"
      ]
     },
     "execution_count": 10,
     "metadata": {},
     "output_type": "execute_result"
    }
   ],
   "source": [
    "alist = [1, \"a\" , 2 , 5.3]\n",
    "alist.index(5.3)"
   ]
  },
  {
   "cell_type": "code",
   "execution_count": 11,
   "metadata": {
    "id": "WxyPdrQ6kzfY"
   },
   "outputs": [
    {
     "name": "stdout",
     "output_type": "stream",
     "text": [
      "[0, 'a', 2, 5.3]\n"
     ]
    }
   ],
   "source": [
    "alist[0] = 0\n",
    "print(alist)"
   ]
  },
  {
   "cell_type": "markdown",
   "metadata": {
    "id": "MPAtgwuNlJg4"
   },
   "source": [
    "### Tuples in Python \n",
    "- Tuples are just like lists with the exception that tuples cannot be changed once declared."
   ]
  },
  {
   "cell_type": "code",
   "execution_count": 12,
   "metadata": {
    "id": "4hmd9jq1k_Sk"
   },
   "outputs": [
    {
     "name": "stdout",
     "output_type": "stream",
     "text": [
      "(1, 'a', 'string', 3) \t <class 'tuple'>\n",
      "a\n"
     ]
    }
   ],
   "source": [
    "t = (1, \"a\", \"string\", 1+2)\n",
    "print(t,'\\t', type(t))\n",
    "print(t[1])"
   ]
  },
  {
   "cell_type": "code",
   "execution_count": 13,
   "metadata": {},
   "outputs": [
    {
     "ename": "TypeError",
     "evalue": "'tuple' object does not support item assignment",
     "output_type": "error",
     "traceback": [
      "\u001b[1;31m---------------------------------------------------------------------------\u001b[0m",
      "\u001b[1;31mTypeError\u001b[0m                                 Traceback (most recent call last)",
      "Cell \u001b[1;32mIn[13], line 1\u001b[0m\n\u001b[1;32m----> 1\u001b[0m t[\u001b[38;5;241m0\u001b[39m] \u001b[38;5;241m=\u001b[39m \u001b[38;5;241m4\u001b[39m\n",
      "\u001b[1;31mTypeError\u001b[0m: 'tuple' object does not support item assignment"
     ]
    }
   ],
   "source": [
    "t[0] = 4"
   ]
  },
  {
   "cell_type": "markdown",
   "metadata": {
    "id": "6o4eAd9Jlobk"
   },
   "source": [
    "### Dictionaries in Python\n",
    "- Dictionary holds key:value pairs.\n",
    "- Indexing of Python Dictionary is done with the help of keys."
   ]
  },
  {
   "cell_type": "code",
   "execution_count": 14,
   "metadata": {
    "id": "sQFnhIeflVqy"
   },
   "outputs": [
    {
     "name": "stdout",
     "output_type": "stream",
     "text": [
      "{'fall2021': 50, 'spring2022': 80}\n"
     ]
    }
   ],
   "source": [
    "d = {}\n",
    "d[\"fall2021\"] = 50 \n",
    "d[\"spring2022\"] = 80\n",
    "print(d)"
   ]
  },
  {
   "cell_type": "code",
   "execution_count": 15,
   "metadata": {
    "id": "z1QzJwyJmChe"
   },
   "outputs": [
    {
     "name": "stdout",
     "output_type": "stream",
     "text": [
      "dict_keys(['fall2021', 'spring2022'])\n"
     ]
    }
   ],
   "source": [
    "print(d.keys())"
   ]
  },
  {
   "cell_type": "code",
   "execution_count": 16,
   "metadata": {
    "id": "o2TXYo7jmHxG"
   },
   "outputs": [
    {
     "name": "stdout",
     "output_type": "stream",
     "text": [
      "dict_items([('fall2021', 50), ('spring2022', 80)])\n"
     ]
    }
   ],
   "source": [
    "print(d.items())"
   ]
  },
  {
   "cell_type": "code",
   "execution_count": 17,
   "metadata": {},
   "outputs": [],
   "source": [
    "b= \"how are you\""
   ]
  },
  {
   "cell_type": "code",
   "execution_count": 18,
   "metadata": {},
   "outputs": [
    {
     "ename": "TypeError",
     "evalue": "'str' object does not support item assignment",
     "output_type": "error",
     "traceback": [
      "\u001b[1;31m---------------------------------------------------------------------------\u001b[0m",
      "\u001b[1;31mTypeError\u001b[0m                                 Traceback (most recent call last)",
      "Cell \u001b[1;32mIn[18], line 1\u001b[0m\n\u001b[1;32m----> 1\u001b[0m b[\u001b[38;5;241m0\u001b[39m] \u001b[38;5;241m=\u001b[39m \u001b[38;5;124m'\u001b[39m\u001b[38;5;124mq\u001b[39m\u001b[38;5;124m'\u001b[39m\n",
      "\u001b[1;31mTypeError\u001b[0m: 'str' object does not support item assignment"
     ]
    }
   ],
   "source": [
    "b[0] = 'q'"
   ]
  },
  {
   "cell_type": "markdown",
   "metadata": {
    "id": "SPtaz2Pomcmq"
   },
   "source": [
    "### Sets in Python\n",
    "- Set does not allow any duplicate element."
   ]
  },
  {
   "cell_type": "code",
   "execution_count": 19,
   "metadata": {
    "id": "ZjABTSl3mKnA"
   },
   "outputs": [
    {
     "name": "stdout",
     "output_type": "stream",
     "text": [
      "{1, 2, 4, 6, 7}\n"
     ]
    }
   ],
   "source": [
    "my_set = set([1, 2, 2, 4, 4, 6, 7])\n",
    "print(my_set)"
   ]
  },
  {
   "cell_type": "code",
   "execution_count": 20,
   "metadata": {
    "id": "bOtotsKUmzVv"
   },
   "outputs": [
    {
     "data": {
      "text/plain": [
       "set"
      ]
     },
     "execution_count": 20,
     "metadata": {},
     "output_type": "execute_result"
    }
   ],
   "source": [
    "type(my_set)"
   ]
  },
  {
   "cell_type": "markdown",
   "metadata": {
    "id": "GaeNx9dZqh9O"
   },
   "source": [
    "### Iterate over a list in Python\n",
    "- Method 1: Using For loop \n",
    "- Method 2: For loop and range()\n",
    "- Method 3: Using while loop \n",
    "- Method 4: Using list comprehension\n",
    "- Method 5: Using enumerate()"
   ]
  },
  {
   "cell_type": "code",
   "execution_count": 21,
   "metadata": {
    "id": "8546fDyvm1eV"
   },
   "outputs": [],
   "source": [
    "alist = [1, 3, 5, 7, 9]"
   ]
  },
  {
   "cell_type": "code",
   "execution_count": 22,
   "metadata": {
    "id": "rxpqwy6qm3lQ"
   },
   "outputs": [
    {
     "name": "stdout",
     "output_type": "stream",
     "text": [
      "1\n",
      "3\n",
      "5\n",
      "7\n",
      "9\n"
     ]
    }
   ],
   "source": [
    "for item in alist:\n",
    "    print(item)"
   ]
  },
  {
   "cell_type": "code",
   "execution_count": 23,
   "metadata": {
    "id": "dxnUYoJrrvVf"
   },
   "outputs": [
    {
     "name": "stdout",
     "output_type": "stream",
     "text": [
      "1\n",
      "3\n",
      "5\n",
      "7\n",
      "9\n"
     ]
    }
   ],
   "source": [
    "for index in range(len(alist)):\n",
    "    print(alist[index])"
   ]
  },
  {
   "cell_type": "code",
   "execution_count": 24,
   "metadata": {
    "id": "TPcli0DVr0xY"
   },
   "outputs": [
    {
     "name": "stdout",
     "output_type": "stream",
     "text": [
      "1\n",
      "3\n",
      "5\n",
      "7\n",
      "9\n"
     ]
    }
   ],
   "source": [
    "i = 0 \n",
    "while i < len(alist):\n",
    "    print(alist[i])\n",
    "    i += 1"
   ]
  },
  {
   "cell_type": "code",
   "execution_count": 25,
   "metadata": {
    "id": "e7lkPjTlsJAH"
   },
   "outputs": [
    {
     "name": "stdout",
     "output_type": "stream",
     "text": [
      "index 0 , value: 1\n",
      "index 1 , value: 3\n",
      "index 2 , value: 5\n",
      "index 3 , value: 7\n",
      "index 4 , value: 9\n"
     ]
    }
   ],
   "source": [
    "for i, val in enumerate(alist):\n",
    "    print (\"index\", i, \", value:\",val)"
   ]
  },
  {
   "cell_type": "markdown",
   "metadata": {
    "id": "oBmv7i_8tYy4"
   },
   "source": [
    "### if statement"
   ]
  },
  {
   "cell_type": "code",
   "execution_count": 26,
   "metadata": {
    "id": "9M4LtZkAsY59"
   },
   "outputs": [
    {
     "name": "stdout",
     "output_type": "stream",
     "text": [
      "Positive\n"
     ]
    }
   ],
   "source": [
    "x = 5\n",
    "\n",
    "if x < 0:\n",
    "    print('Negative')\n",
    "elif x == 0:\n",
    "    print('Zero')\n",
    "else:\n",
    "    print('Positive')"
   ]
  },
  {
   "cell_type": "markdown",
   "metadata": {
    "id": "ctPF9qlStutC"
   },
   "source": [
    "### Defining Functions"
   ]
  },
  {
   "cell_type": "code",
   "execution_count": 27,
   "metadata": {
    "id": "oUr2PrPdtoa6"
   },
   "outputs": [],
   "source": [
    "def square(num):\n",
    "    num_new = num ** 2\n",
    "    return num_new"
   ]
  },
  {
   "cell_type": "code",
   "execution_count": 28,
   "metadata": {
    "id": "7D8zOWeqt5Ur"
   },
   "outputs": [
    {
     "data": {
      "text/plain": [
       "16"
      ]
     },
     "execution_count": 28,
     "metadata": {},
     "output_type": "execute_result"
    }
   ],
   "source": [
    "square(4)"
   ]
  },
  {
   "cell_type": "code",
   "execution_count": 29,
   "metadata": {
    "id": "44aXnMCz5FfG"
   },
   "outputs": [
    {
     "name": "stdout",
     "output_type": "stream",
     "text": [
      "running time 0.3857131004333496 seconds\n"
     ]
    }
   ],
   "source": [
    "import time \n",
    "start_time = time.time()\n",
    "\n",
    "for i in range(1000000):\n",
    "    square(i)\n",
    "\n",
    "end_time = time.time()\n",
    "print(\"running time %s seconds\" % (end_time - start_time))"
   ]
  },
  {
   "cell_type": "markdown",
   "metadata": {
    "id": "DK-evnNwt_V6"
   },
   "source": [
    "### Defining Classes"
   ]
  },
  {
   "cell_type": "code",
   "execution_count": 30,
   "metadata": {
    "id": "kWQA3Om2t6qf"
   },
   "outputs": [],
   "source": [
    "import time \n",
    "\"\"\"\n",
    "Record multiple running times.\n",
    "\"\"\"\n",
    "class Timer: \n",
    "    def __init__(self):\n",
    "        self.times = []\n",
    "\n",
    "    def start(self):\n",
    "        self.tik = time.time()\n",
    "    \n",
    "    def stop(self):\n",
    "        self.times.append(time.time() - self.tik)\n",
    "        return self.times[-1]"
   ]
  },
  {
   "cell_type": "code",
   "execution_count": 31,
   "metadata": {
    "id": "jWvaMb6R6f1f"
   },
   "outputs": [
    {
     "name": "stdout",
     "output_type": "stream",
     "text": [
      "0.0\n",
      "0.0042111873626708984\n",
      "0.3765733242034912\n"
     ]
    }
   ],
   "source": [
    "timer = Timer()\n",
    "\n",
    "timer.start()\n",
    "for i in range(100):\n",
    "    square(i)\n",
    "\n",
    "print(timer.stop())\n",
    "\n",
    "timer.start()\n",
    "for i in range(10000):\n",
    "    square(i)\n",
    "\n",
    "print(timer.stop())\n",
    "\n",
    "timer.start()\n",
    "for i in range(1000000):\n",
    "    square(i)\n",
    "\n",
    "print(timer.stop())"
   ]
  },
  {
   "cell_type": "code",
   "execution_count": 32,
   "metadata": {
    "id": "kcmTaBf76kdo"
   },
   "outputs": [
    {
     "data": {
      "text/plain": [
       "[0.0, 0.0042111873626708984, 0.3765733242034912]"
      ]
     },
     "execution_count": 32,
     "metadata": {},
     "output_type": "execute_result"
    }
   ],
   "source": [
    "timer.times"
   ]
  },
  {
   "cell_type": "code",
   "execution_count": null,
   "metadata": {},
   "outputs": [],
   "source": []
  }
 ],
 "metadata": {
  "colab": {
   "collapsed_sections": [],
   "name": "python_basics.ipynb",
   "provenance": []
  },
  "kernelspec": {
   "display_name": "Python 3 (ipykernel)",
   "language": "python",
   "name": "python3"
  },
  "language_info": {
   "codemirror_mode": {
    "name": "ipython",
    "version": 3
   },
   "file_extension": ".py",
   "mimetype": "text/x-python",
   "name": "python",
   "nbconvert_exporter": "python",
   "pygments_lexer": "ipython3",
   "version": "3.10.9"
  }
 },
 "nbformat": 4,
 "nbformat_minor": 1
}
