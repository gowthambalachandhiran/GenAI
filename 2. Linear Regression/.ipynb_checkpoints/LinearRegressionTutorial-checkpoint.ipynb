{
 "cells": [
  {
   "cell_type": "code",
<<<<<<< Updated upstream
   "execution_count": null,
=======
   "execution_count": 1,
>>>>>>> Stashed changes
   "id": "29aee909",
   "metadata": {
    "ExecuteTime": {
     "end_time": "2024-08-27T14:03:11.953882Z",
     "start_time": "2024-08-27T14:03:10.963651Z"
    },
    "execution": {
     "iopub.execute_input": "2024-08-25T15:23:49.250906Z",
     "iopub.status.busy": "2024-08-25T15:23:49.250703Z",
     "iopub.status.idle": "2024-08-25T15:23:50.191231Z",
     "shell.execute_reply": "2024-08-25T15:23:50.190588Z",
     "shell.execute_reply.started": "2024-08-25T15:23:49.250890Z"
    }
   },
   "outputs": [],
   "source": [
    "import matplotlib.pyplot as plt\n",
    "import numpy as np\n",
    "import pandas as pd\n",
    "from math import log\n",
    "from sklearn import linear_model\n",
    "\n",
    "#comment below if not using ipython notebook\n",
    "%matplotlib inline"
   ]
  },
  {
   "cell_type": "code",
<<<<<<< Updated upstream
   "execution_count": null,
=======
   "execution_count": 2,
>>>>>>> Stashed changes
   "id": "0f50ffeb",
   "metadata": {
    "ExecuteTime": {
     "end_time": "2024-08-27T14:03:14.119585Z",
     "start_time": "2024-08-27T14:03:11.955612Z"
    },
    "execution": {
     "iopub.execute_input": "2024-08-25T15:23:50.192406Z",
     "iopub.status.busy": "2024-08-25T15:23:50.192157Z",
     "iopub.status.idle": "2024-08-25T15:23:51.821996Z",
     "shell.execute_reply": "2024-08-25T15:23:51.821341Z",
     "shell.execute_reply.started": "2024-08-25T15:23:50.192389Z"
    }
   },
   "outputs": [],
   "source": [
    "#!pip -q install visualkeras\n",
    "import visualkeras"
   ]
  },
  {
   "cell_type": "markdown",
   "id": "c84274da",
   "metadata": {},
   "source": [
    "### let's load the data into a dataframe\n"
   ]
  },
  {
   "cell_type": "code",
<<<<<<< Updated upstream
   "execution_count": null,
=======
   "execution_count": 3,
>>>>>>> Stashed changes
   "id": "ac2aa1f2",
   "metadata": {
    "ExecuteTime": {
     "end_time": "2024-08-27T14:03:14.127744Z",
     "start_time": "2024-08-27T14:03:14.120598Z"
    },
    "execution": {
     "iopub.execute_input": "2024-08-25T15:23:51.822942Z",
     "iopub.status.busy": "2024-08-25T15:23:51.822645Z",
     "iopub.status.idle": "2024-08-25T15:23:51.832615Z",
     "shell.execute_reply": "2024-08-25T15:23:51.832202Z",
     "shell.execute_reply.started": "2024-08-25T15:23:51.822925Z"
    }
   },
<<<<<<< Updated upstream
   "outputs": [],
=======
   "outputs": [
    {
     "data": {
      "text/html": [
       "<div>\n",
       "<style scoped>\n",
       "    .dataframe tbody tr th:only-of-type {\n",
       "        vertical-align: middle;\n",
       "    }\n",
       "\n",
       "    .dataframe tbody tr th {\n",
       "        vertical-align: top;\n",
       "    }\n",
       "\n",
       "    .dataframe thead th {\n",
       "        text-align: right;\n",
       "    }\n",
       "</style>\n",
       "<table border=\"1\" class=\"dataframe\">\n",
       "  <thead>\n",
       "    <tr style=\"text-align: right;\">\n",
       "      <th></th>\n",
       "      <th>SpringPos</th>\n",
       "      <th>StockPrice</th>\n",
       "    </tr>\n",
       "  </thead>\n",
       "  <tbody>\n",
       "    <tr>\n",
       "      <th>0</th>\n",
       "      <td>2.27</td>\n",
       "      <td>3.48</td>\n",
       "    </tr>\n",
       "    <tr>\n",
       "      <th>1</th>\n",
       "      <td>6.38</td>\n",
       "      <td>2.99</td>\n",
       "    </tr>\n",
       "    <tr>\n",
       "      <th>2</th>\n",
       "      <td>8.61</td>\n",
       "      <td>5.86</td>\n",
       "    </tr>\n",
       "    <tr>\n",
       "      <th>3</th>\n",
       "      <td>8.65</td>\n",
       "      <td>1.79</td>\n",
       "    </tr>\n",
       "    <tr>\n",
       "      <th>4</th>\n",
       "      <td>13.17</td>\n",
       "      <td>3.47</td>\n",
       "    </tr>\n",
       "  </tbody>\n",
       "</table>\n",
       "</div>"
      ],
      "text/plain": [
       "   SpringPos  StockPrice\n",
       "0       2.27        3.48\n",
       "1       6.38        2.99\n",
       "2       8.61        5.86\n",
       "3       8.65        1.79\n",
       "4      13.17        3.47"
      ]
     },
     "execution_count": 3,
     "metadata": {},
     "output_type": "execute_result"
    }
   ],
>>>>>>> Stashed changes
   "source": [
    "data  = pd.read_csv('Assignment2.data', sep='\\t')\n",
    "data.head()"
   ]
  },
  {
   "cell_type": "code",
<<<<<<< Updated upstream
   "execution_count": null,
=======
   "execution_count": 4,
>>>>>>> Stashed changes
   "id": "63f4d796",
   "metadata": {
    "ExecuteTime": {
     "end_time": "2024-08-27T14:03:14.136048Z",
     "start_time": "2024-08-27T14:03:14.128983Z"
    },
    "execution": {
     "iopub.execute_input": "2024-08-25T15:23:51.833728Z",
     "iopub.status.busy": "2024-08-25T15:23:51.833565Z",
     "iopub.status.idle": "2024-08-25T15:23:51.842986Z",
     "shell.execute_reply": "2024-08-25T15:23:51.842600Z",
     "shell.execute_reply.started": "2024-08-25T15:23:51.833714Z"
    }
   },
<<<<<<< Updated upstream
   "outputs": [],
=======
   "outputs": [
    {
     "data": {
      "text/html": [
       "<div>\n",
       "<style scoped>\n",
       "    .dataframe tbody tr th:only-of-type {\n",
       "        vertical-align: middle;\n",
       "    }\n",
       "\n",
       "    .dataframe tbody tr th {\n",
       "        vertical-align: top;\n",
       "    }\n",
       "\n",
       "    .dataframe thead th {\n",
       "        text-align: right;\n",
       "    }\n",
       "</style>\n",
       "<table border=\"1\" class=\"dataframe\">\n",
       "  <thead>\n",
       "    <tr style=\"text-align: right;\">\n",
       "      <th></th>\n",
       "      <th>SpringPos</th>\n",
       "      <th>StockPrice</th>\n",
       "    </tr>\n",
       "  </thead>\n",
       "  <tbody>\n",
       "    <tr>\n",
       "      <th>count</th>\n",
       "      <td>226.000000</td>\n",
       "      <td>226.000000</td>\n",
       "    </tr>\n",
       "    <tr>\n",
       "      <th>mean</th>\n",
       "      <td>3.785221</td>\n",
       "      <td>14.187743</td>\n",
       "    </tr>\n",
       "    <tr>\n",
       "      <th>std</th>\n",
       "      <td>10.704778</td>\n",
       "      <td>7.447450</td>\n",
       "    </tr>\n",
       "    <tr>\n",
       "      <th>min</th>\n",
       "      <td>-19.910000</td>\n",
       "      <td>0.670000</td>\n",
       "    </tr>\n",
       "    <tr>\n",
       "      <th>25%</th>\n",
       "      <td>-3.960000</td>\n",
       "      <td>8.355000</td>\n",
       "    </tr>\n",
       "    <tr>\n",
       "      <th>50%</th>\n",
       "      <td>4.195000</td>\n",
       "      <td>13.970000</td>\n",
       "    </tr>\n",
       "    <tr>\n",
       "      <th>75%</th>\n",
       "      <td>11.295000</td>\n",
       "      <td>19.632500</td>\n",
       "    </tr>\n",
       "    <tr>\n",
       "      <th>max</th>\n",
       "      <td>26.100000</td>\n",
       "      <td>30.050000</td>\n",
       "    </tr>\n",
       "  </tbody>\n",
       "</table>\n",
       "</div>"
      ],
      "text/plain": [
       "        SpringPos  StockPrice\n",
       "count  226.000000  226.000000\n",
       "mean     3.785221   14.187743\n",
       "std     10.704778    7.447450\n",
       "min    -19.910000    0.670000\n",
       "25%     -3.960000    8.355000\n",
       "50%      4.195000   13.970000\n",
       "75%     11.295000   19.632500\n",
       "max     26.100000   30.050000"
      ]
     },
     "execution_count": 4,
     "metadata": {},
     "output_type": "execute_result"
    }
   ],
>>>>>>> Stashed changes
   "source": [
    "data.describe()"
   ]
  },
  {
   "cell_type": "code",
<<<<<<< Updated upstream
   "execution_count": null,
=======
   "execution_count": 5,
>>>>>>> Stashed changes
   "id": "8a494dbc",
   "metadata": {
    "ExecuteTime": {
     "end_time": "2024-08-27T14:03:14.251899Z",
     "start_time": "2024-08-27T14:03:14.136845Z"
    },
    "execution": {
     "iopub.execute_input": "2024-08-25T15:23:51.843649Z",
     "iopub.status.busy": "2024-08-25T15:23:51.843491Z",
     "iopub.status.idle": "2024-08-25T15:23:52.005729Z",
     "shell.execute_reply": "2024-08-25T15:23:52.005123Z",
     "shell.execute_reply.started": "2024-08-25T15:23:51.843635Z"
    }
   },
<<<<<<< Updated upstream
   "outputs": [],
=======
   "outputs": [
    {
     "data": {
      "image/png": "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",
      "text/plain": [
       "<Figure size 1000x500 with 2 Axes>"
      ]
     },
     "metadata": {},
     "output_type": "display_data"
    }
   ],
>>>>>>> Stashed changes
   "source": [
    "fig, (ax1, ax2) = plt.subplots(2, 1)\n",
    "fig.suptitle('Two Cyber Physical Systems')\n",
    "fig.set_figwidth(10)\n",
    "fig.set_figheight(5)\n",
    "\n",
    "ax1.plot(data.SpringPos, 'r+')\n",
    "ax1.set_ylabel('Spring Position')\n",
    "ax2.plot(data.StockPrice, 'b.')\n",
    "ax2.set_ylabel('Stock Price')\n",
    "ax2.set_xlabel('time')\n",
    "\n",
    "plt.show()"
   ]
  },
  {
   "cell_type": "markdown",
   "id": "a3008fd8",
   "metadata": {},
   "source": [
    "## Fit a linear model on the dataset"
   ]
  },
  {
   "cell_type": "code",
<<<<<<< Updated upstream
   "execution_count": null,
=======
   "execution_count": 6,
>>>>>>> Stashed changes
   "id": "87e432a7",
   "metadata": {
    "ExecuteTime": {
     "end_time": "2024-08-27T14:03:14.257462Z",
     "start_time": "2024-08-27T14:03:14.252761Z"
    },
    "execution": {
     "iopub.execute_input": "2024-08-25T15:23:52.006777Z",
     "iopub.status.busy": "2024-08-25T15:23:52.006568Z",
     "iopub.status.idle": "2024-08-25T15:23:52.012697Z",
     "shell.execute_reply": "2024-08-25T15:23:52.012337Z",
     "shell.execute_reply.started": "2024-08-25T15:23:52.006762Z"
    }
   },
<<<<<<< Updated upstream
   "outputs": [],
=======
   "outputs": [
    {
     "data": {
      "text/html": [
       "<div>\n",
       "<style scoped>\n",
       "    .dataframe tbody tr th:only-of-type {\n",
       "        vertical-align: middle;\n",
       "    }\n",
       "\n",
       "    .dataframe tbody tr th {\n",
       "        vertical-align: top;\n",
       "    }\n",
       "\n",
       "    .dataframe thead th {\n",
       "        text-align: right;\n",
       "    }\n",
       "</style>\n",
       "<table border=\"1\" class=\"dataframe\">\n",
       "  <thead>\n",
       "    <tr style=\"text-align: right;\">\n",
       "      <th></th>\n",
       "      <th>x</th>\n",
       "      <th>y</th>\n",
       "    </tr>\n",
       "  </thead>\n",
       "  <tbody>\n",
       "    <tr>\n",
       "      <th>0</th>\n",
       "      <td>0</td>\n",
       "      <td>3.48</td>\n",
       "    </tr>\n",
       "    <tr>\n",
       "      <th>1</th>\n",
       "      <td>1</td>\n",
       "      <td>2.99</td>\n",
       "    </tr>\n",
       "    <tr>\n",
       "      <th>2</th>\n",
       "      <td>2</td>\n",
       "      <td>5.86</td>\n",
       "    </tr>\n",
       "    <tr>\n",
       "      <th>3</th>\n",
       "      <td>3</td>\n",
       "      <td>1.79</td>\n",
       "    </tr>\n",
       "    <tr>\n",
       "      <th>4</th>\n",
       "      <td>4</td>\n",
       "      <td>3.47</td>\n",
       "    </tr>\n",
       "  </tbody>\n",
       "</table>\n",
       "</div>"
      ],
      "text/plain": [
       "   x     y\n",
       "0  0  3.48\n",
       "1  1  2.99\n",
       "2  2  5.86\n",
       "3  3  1.79\n",
       "4  4  3.47"
      ]
     },
     "execution_count": 6,
     "metadata": {},
     "output_type": "execute_result"
    }
   ],
>>>>>>> Stashed changes
   "source": [
    "y2 = pd.DataFrame({\"x\":range(226), \"y\":data.StockPrice})\n",
    "y2.head()"
   ]
  },
  {
   "cell_type": "markdown",
   "id": "2e0826b7",
   "metadata": {},
   "source": [
    "### transform the data into matrices"
   ]
  },
  {
   "cell_type": "code",
<<<<<<< Updated upstream
   "execution_count": null,
=======
   "execution_count": 7,
>>>>>>> Stashed changes
   "id": "8252b4cb",
   "metadata": {
    "ExecuteTime": {
     "end_time": "2024-08-27T14:03:14.261152Z",
     "start_time": "2024-08-27T14:03:14.258704Z"
    },
    "execution": {
     "iopub.execute_input": "2024-08-25T15:23:52.013481Z",
     "iopub.status.busy": "2024-08-25T15:23:52.013245Z",
     "iopub.status.idle": "2024-08-25T15:23:52.023818Z",
     "shell.execute_reply": "2024-08-25T15:23:52.023450Z",
     "shell.execute_reply.started": "2024-08-25T15:23:52.013467Z"
    }
   },
   "outputs": [],
   "source": [
    "yy = np.array(y2.y) \n",
    "xx = np.expand_dims(y2.x, 1)"
   ]
  },
  {
   "cell_type": "code",
   "execution_count": null,
   "id": "ce9a84dc",
   "metadata": {
    "ExecuteTime": {
     "end_time": "2024-08-11T07:18:05.170375Z",
     "start_time": "2024-08-11T07:18:05.166742Z"
    }
   },
   "outputs": [],
   "source": []
  },
  {
   "cell_type": "markdown",
   "id": "cc84a198",
   "metadata": {},
   "source": [
    "### run the closed form solution to estimate the beta parameter."
   ]
  },
  {
   "cell_type": "code",
<<<<<<< Updated upstream
   "execution_count": null,
=======
   "execution_count": 8,
>>>>>>> Stashed changes
   "id": "2e35f630",
   "metadata": {
    "ExecuteTime": {
     "end_time": "2024-08-27T14:03:14.267380Z",
     "start_time": "2024-08-27T14:03:14.262470Z"
    },
    "execution": {
     "iopub.execute_input": "2024-08-25T15:23:52.024532Z",
     "iopub.status.busy": "2024-08-25T15:23:52.024345Z",
     "iopub.status.idle": "2024-08-25T15:23:52.034029Z",
     "shell.execute_reply": "2024-08-25T15:23:52.033549Z",
     "shell.execute_reply.started": "2024-08-25T15:23:52.024519Z"
    }
   },
<<<<<<< Updated upstream
   "outputs": [],
=======
   "outputs": [
    {
     "name": "stdout",
     "output_type": "stream",
     "text": [
      "Beta =  0.11899412514961837\n",
      "SSE =  3850.335433080234\n"
     ]
    }
   ],
>>>>>>> Stashed changes
   "source": [
    "numerator = np.matmul(np.transpose(xx), yy)\n",
    "denom = np.matmul(np.transpose(xx), xx)\n",
    "denom_inv = np.linalg.inv(denom)\n",
    "beta = np.matmul(denom_inv, numerator)\n",
    "print(\"Beta = \", beta[0])\n",
    "sse = np.sum((xx*beta[0] - np.expand_dims(yy,1))**2)\n",
    "print(\"SSE = \", sse)"
   ]
  },
  {
   "cell_type": "markdown",
   "id": "41b917b1",
   "metadata": {},
   "source": [
    "### as we will be reusing the above procedure often, let's make it a function"
   ]
  },
  {
   "cell_type": "code",
<<<<<<< Updated upstream
   "execution_count": null,
=======
   "execution_count": 9,
>>>>>>> Stashed changes
   "id": "82ddc577",
   "metadata": {
    "ExecuteTime": {
     "end_time": "2024-08-27T14:03:14.272562Z",
     "start_time": "2024-08-27T14:03:14.268584Z"
    },
    "execution": {
     "iopub.execute_input": "2024-08-25T15:23:52.034960Z",
     "iopub.status.busy": "2024-08-25T15:23:52.034784Z",
     "iopub.status.idle": "2024-08-25T15:23:52.042615Z",
     "shell.execute_reply": "2024-08-25T15:23:52.042151Z",
     "shell.execute_reply.started": "2024-08-25T15:23:52.034946Z"
    }
   },
   "outputs": [],
   "source": [
    "# estimate the value of the beta vector assuming that X is made of independent features.\n",
    "def estimateBeta(X, y):\n",
    "    numerator = np.matmul(np.transpose(X), y)\n",
    "    denom = np.matmul(np.transpose(X), X)\n",
    "    denom_inv = np.linalg.inv(denom)\n",
    "    beta = np.matmul(denom_inv, numerator)\n",
    "    return beta\n",
    "\n",
    "# create a helper that would estimate yhat from X and beta.\n",
    "def predict(beta, X):\n",
    "    # reshape the input to a matrix, if it is appearing like an 1d array.\n",
    "    if len(X.shape) != 2:\n",
    "        X = np.expand_dims(X,1)\n",
    "    # convert the beta list in to an array.\n",
    "    beta = np.array(beta)\n",
    "    # perform estimation of yhat.\n",
    "    return np.matmul(X, beta)\n",
    "\n",
    "# compute the sum of squared error between y and yhat.\n",
    "def SSE(y, yhat):\n",
    "    return np.sum((y-yhat)**2)"
   ]
  },
  {
   "cell_type": "markdown",
   "id": "c89e0910",
   "metadata": {},
   "source": [
    "### Let's plot the raw data and the regression line on the same plot"
   ]
  },
  {
   "cell_type": "code",
<<<<<<< Updated upstream
   "execution_count": null,
=======
   "execution_count": 10,
>>>>>>> Stashed changes
   "id": "c3cf8a09",
   "metadata": {
    "ExecuteTime": {
     "end_time": "2024-08-27T14:03:14.343319Z",
     "start_time": "2024-08-27T14:03:14.275362Z"
    },
    "execution": {
     "iopub.execute_input": "2024-08-25T15:23:52.044390Z",
     "iopub.status.busy": "2024-08-25T15:23:52.044150Z",
     "iopub.status.idle": "2024-08-25T15:23:52.134974Z",
     "shell.execute_reply": "2024-08-25T15:23:52.134460Z",
     "shell.execute_reply.started": "2024-08-25T15:23:52.044375Z"
    }
   },
<<<<<<< Updated upstream
   "outputs": [],
=======
   "outputs": [
    {
     "data": {
      "text/plain": [
       "Text(0.5, 0, 'Time')"
      ]
     },
     "execution_count": 10,
     "metadata": {},
     "output_type": "execute_result"
    },
    {
     "data": {
      "image/png": "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",
      "text/plain": [
       "<Figure size 640x480 with 1 Axes>"
      ]
     },
     "metadata": {},
     "output_type": "display_data"
    }
   ],
>>>>>>> Stashed changes
   "source": [
    "plt.plot(y2.x, y2.y, 'r+')\n",
    "yhat1 = predict(beta, y2.x)\n",
    "plt.plot(y2.x, yhat1, 'b-')  # yhat = y2.x*beta[0]\n",
    "plt.ylabel('Stock Price')\n",
    "plt.xlabel('Time')"
   ]
  },
  {
   "cell_type": "markdown",
   "id": "181854de",
   "metadata": {
    "ExecuteTime": {
     "end_time": "2024-08-11T07:11:43.870023Z",
     "start_time": "2024-08-11T07:11:43.802765Z"
    }
   },
   "source": [
    "### let's add an intercept (bias) to the data and check if the SSE drops further."
   ]
  },
  {
   "cell_type": "code",
<<<<<<< Updated upstream
   "execution_count": null,
=======
   "execution_count": 11,
>>>>>>> Stashed changes
   "id": "386b272b",
   "metadata": {
    "ExecuteTime": {
     "end_time": "2024-08-27T14:03:14.350440Z",
     "start_time": "2024-08-27T14:03:14.344286Z"
    },
    "execution": {
     "iopub.execute_input": "2024-08-25T15:23:52.135887Z",
     "iopub.status.busy": "2024-08-25T15:23:52.135711Z",
     "iopub.status.idle": "2024-08-25T15:23:52.143374Z",
     "shell.execute_reply": "2024-08-25T15:23:52.143019Z",
     "shell.execute_reply.started": "2024-08-25T15:23:52.135874Z"
    }
   },
<<<<<<< Updated upstream
   "outputs": [],
=======
   "outputs": [
    {
     "data": {
      "text/html": [
       "<div>\n",
       "<style scoped>\n",
       "    .dataframe tbody tr th:only-of-type {\n",
       "        vertical-align: middle;\n",
       "    }\n",
       "\n",
       "    .dataframe tbody tr th {\n",
       "        vertical-align: top;\n",
       "    }\n",
       "\n",
       "    .dataframe thead th {\n",
       "        text-align: right;\n",
       "    }\n",
       "</style>\n",
       "<table border=\"1\" class=\"dataframe\">\n",
       "  <thead>\n",
       "    <tr style=\"text-align: right;\">\n",
       "      <th></th>\n",
       "      <th>bias</th>\n",
       "      <th>x</th>\n",
       "      <th>y</th>\n",
       "    </tr>\n",
       "  </thead>\n",
       "  <tbody>\n",
       "    <tr>\n",
       "      <th>0</th>\n",
       "      <td>1.0</td>\n",
       "      <td>0</td>\n",
       "      <td>3.48</td>\n",
       "    </tr>\n",
       "    <tr>\n",
       "      <th>1</th>\n",
       "      <td>1.0</td>\n",
       "      <td>1</td>\n",
       "      <td>2.99</td>\n",
       "    </tr>\n",
       "    <tr>\n",
       "      <th>2</th>\n",
       "      <td>1.0</td>\n",
       "      <td>2</td>\n",
       "      <td>5.86</td>\n",
       "    </tr>\n",
       "    <tr>\n",
       "      <th>3</th>\n",
       "      <td>1.0</td>\n",
       "      <td>3</td>\n",
       "      <td>1.79</td>\n",
       "    </tr>\n",
       "    <tr>\n",
       "      <th>4</th>\n",
       "      <td>1.0</td>\n",
       "      <td>4</td>\n",
       "      <td>3.47</td>\n",
       "    </tr>\n",
       "  </tbody>\n",
       "</table>\n",
       "</div>"
      ],
      "text/plain": [
       "   bias  x     y\n",
       "0   1.0  0  3.48\n",
       "1   1.0  1  2.99\n",
       "2   1.0  2  5.86\n",
       "3   1.0  3  1.79\n",
       "4   1.0  4  3.47"
      ]
     },
     "execution_count": 11,
     "metadata": {},
     "output_type": "execute_result"
    }
   ],
>>>>>>> Stashed changes
   "source": [
    "y2df = pd.DataFrame({\"bias\":np.ones(226), \"x\":range(226), \"y\":data.StockPrice})\n",
    "yy = np.array(y2df.y) \n",
    "xx = np.array(y2df[[\"bias\",\"x\"]])\n",
    "y2df.head()"
   ]
  },
  {
   "cell_type": "markdown",
   "id": "223df185",
   "metadata": {
    "ExecuteTime": {
     "end_time": "2024-08-11T07:15:37.075016Z",
     "start_time": "2024-08-11T07:15:37.071114Z"
    }
   },
   "source": [
    "### estimate the beta params and compute the loss again"
   ]
  },
  {
   "cell_type": "code",
<<<<<<< Updated upstream
   "execution_count": null,
=======
   "execution_count": 12,
>>>>>>> Stashed changes
   "id": "ce356d20",
   "metadata": {
    "ExecuteTime": {
     "end_time": "2024-08-27T14:03:14.355012Z",
     "start_time": "2024-08-27T14:03:14.351672Z"
    },
    "execution": {
     "iopub.execute_input": "2024-08-25T15:23:52.144146Z",
     "iopub.status.busy": "2024-08-25T15:23:52.143892Z",
     "iopub.status.idle": "2024-08-25T15:23:52.149981Z",
     "shell.execute_reply": "2024-08-25T15:23:52.149575Z",
     "shell.execute_reply.started": "2024-08-25T15:23:52.144131Z"
    }
   },
<<<<<<< Updated upstream
   "outputs": [],
=======
   "outputs": [
    {
     "name": "stdout",
     "output_type": "stream",
     "text": [
      "beta = [3.18244786 0.09782485]\n",
      "SSE = 3274.298469663405\n"
     ]
    }
   ],
>>>>>>> Stashed changes
   "source": [
    "beta2 = estimateBeta(xx, yy)\n",
    "print(\"beta =\", beta2)\n",
    "yhat2 = predict(beta2, xx)\n",
    "loss = SSE(yy, yhat2)\n",
    "print(\"SSE =\", loss)"
   ]
  },
  {
   "cell_type": "markdown",
   "id": "aae8b813",
   "metadata": {},
   "source": [
    "### interesting! the loss has dropped with a little bit on intercept.  Let's plot it side by side."
   ]
  },
  {
   "cell_type": "code",
<<<<<<< Updated upstream
   "execution_count": null,
=======
   "execution_count": 13,
>>>>>>> Stashed changes
   "id": "39ef5941",
   "metadata": {
    "ExecuteTime": {
     "end_time": "2024-08-27T14:03:14.426396Z",
     "start_time": "2024-08-27T14:03:14.356087Z"
    },
    "execution": {
     "iopub.execute_input": "2024-08-25T15:23:52.150769Z",
     "iopub.status.busy": "2024-08-25T15:23:52.150511Z",
     "iopub.status.idle": "2024-08-25T15:23:52.236640Z",
     "shell.execute_reply": "2024-08-25T15:23:52.236232Z",
     "shell.execute_reply.started": "2024-08-25T15:23:52.150756Z"
    }
   },
<<<<<<< Updated upstream
   "outputs": [],
=======
   "outputs": [
    {
     "data": {
      "text/plain": [
       "Text(0.5, 0, 'Time')"
      ]
     },
     "execution_count": 13,
     "metadata": {},
     "output_type": "execute_result"
    },
    {
     "data": {
      "image/png": "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",
      "text/plain": [
       "<Figure size 640x480 with 1 Axes>"
      ]
     },
     "metadata": {},
     "output_type": "display_data"
    }
   ],
>>>>>>> Stashed changes
   "source": [
    "plt.plot(y2df.x, y2df.y, 'r+')\n",
    "plt.plot(y2df.x, yhat1, 'b-')\n",
    "plt.plot(y2df.x, yhat2, 'g-')\n",
    "plt.ylabel('Stock Price')\n",
    "plt.xlabel('Time')"
   ]
  },
  {
   "cell_type": "markdown",
   "id": "bcf25ec8",
   "metadata": {},
   "source": [
    "### Let's model the periodicity\n",
    "\n",
    "Let's borrow the slope information from the fit to set up the scale of the time axis.\n",
    "\n",
    "Instead of using $x$ in integer scale, we shall use the floating point scale as $x_1 \\leftarrow \\beta_0 * x$\n",
    "\n",
    "Likewise, let's create a new data dimension to capture the periodicity as $x_2 \\leftarrow sin(x_1)$\n",
    "\n",
    "Based on the expanded feature space, now let's try to model $\\hat{y} = m_1 x_1 + m_2 x_2$, note that we don't have to use the intercept $c$ as our previous linear model passed through the origin.\n"
   ]
  },
  {
   "cell_type": "markdown",
   "id": "74da73a6",
   "metadata": {},
   "source": [
    "### create a feature space appropriately"
   ]
  },
  {
   "cell_type": "code",
<<<<<<< Updated upstream
   "execution_count": null,
=======
   "execution_count": 14,
>>>>>>> Stashed changes
   "id": "addf3914",
   "metadata": {
    "ExecuteTime": {
     "end_time": "2024-08-27T14:03:14.434749Z",
     "start_time": "2024-08-27T14:03:14.427274Z"
    },
    "execution": {
     "iopub.execute_input": "2024-08-25T15:23:52.237362Z",
     "iopub.status.busy": "2024-08-25T15:23:52.237204Z",
     "iopub.status.idle": "2024-08-25T15:23:52.245817Z",
     "shell.execute_reply": "2024-08-25T15:23:52.245462Z",
     "shell.execute_reply.started": "2024-08-25T15:23:52.237349Z"
    }
   },
<<<<<<< Updated upstream
   "outputs": [],
=======
   "outputs": [
    {
     "data": {
      "text/html": [
       "<div>\n",
       "<style scoped>\n",
       "    .dataframe tbody tr th:only-of-type {\n",
       "        vertical-align: middle;\n",
       "    }\n",
       "\n",
       "    .dataframe tbody tr th {\n",
       "        vertical-align: top;\n",
       "    }\n",
       "\n",
       "    .dataframe thead th {\n",
       "        text-align: right;\n",
       "    }\n",
       "</style>\n",
       "<table border=\"1\" class=\"dataframe\">\n",
       "  <thead>\n",
       "    <tr style=\"text-align: right;\">\n",
       "      <th></th>\n",
       "      <th>bias</th>\n",
       "      <th>x</th>\n",
       "      <th>x1</th>\n",
       "      <th>x2</th>\n",
       "      <th>y</th>\n",
       "    </tr>\n",
       "  </thead>\n",
       "  <tbody>\n",
       "    <tr>\n",
       "      <th>0</th>\n",
       "      <td>1.0</td>\n",
       "      <td>0</td>\n",
       "      <td>0.00</td>\n",
       "      <td>0.000000</td>\n",
       "      <td>3.48</td>\n",
       "    </tr>\n",
       "    <tr>\n",
       "      <th>1</th>\n",
       "      <td>1.0</td>\n",
       "      <td>1</td>\n",
       "      <td>0.10</td>\n",
       "      <td>0.099833</td>\n",
       "      <td>2.99</td>\n",
       "    </tr>\n",
       "    <tr>\n",
       "      <th>2</th>\n",
       "      <td>1.0</td>\n",
       "      <td>2</td>\n",
       "      <td>0.20</td>\n",
       "      <td>0.198669</td>\n",
       "      <td>5.86</td>\n",
       "    </tr>\n",
       "    <tr>\n",
       "      <th>3</th>\n",
       "      <td>1.0</td>\n",
       "      <td>3</td>\n",
       "      <td>0.29</td>\n",
       "      <td>0.285952</td>\n",
       "      <td>1.79</td>\n",
       "    </tr>\n",
       "    <tr>\n",
       "      <th>4</th>\n",
       "      <td>1.0</td>\n",
       "      <td>4</td>\n",
       "      <td>0.39</td>\n",
       "      <td>0.380188</td>\n",
       "      <td>3.47</td>\n",
       "    </tr>\n",
       "    <tr>\n",
       "      <th>5</th>\n",
       "      <td>1.0</td>\n",
       "      <td>5</td>\n",
       "      <td>0.49</td>\n",
       "      <td>0.470626</td>\n",
       "      <td>7.73</td>\n",
       "    </tr>\n",
       "    <tr>\n",
       "      <th>6</th>\n",
       "      <td>1.0</td>\n",
       "      <td>6</td>\n",
       "      <td>0.59</td>\n",
       "      <td>0.556361</td>\n",
       "      <td>7.83</td>\n",
       "    </tr>\n",
       "    <tr>\n",
       "      <th>7</th>\n",
       "      <td>1.0</td>\n",
       "      <td>7</td>\n",
       "      <td>0.68</td>\n",
       "      <td>0.628793</td>\n",
       "      <td>4.70</td>\n",
       "    </tr>\n",
       "    <tr>\n",
       "      <th>8</th>\n",
       "      <td>1.0</td>\n",
       "      <td>8</td>\n",
       "      <td>0.78</td>\n",
       "      <td>0.703279</td>\n",
       "      <td>8.97</td>\n",
       "    </tr>\n",
       "    <tr>\n",
       "      <th>9</th>\n",
       "      <td>1.0</td>\n",
       "      <td>9</td>\n",
       "      <td>0.88</td>\n",
       "      <td>0.770739</td>\n",
       "      <td>8.43</td>\n",
       "    </tr>\n",
       "  </tbody>\n",
       "</table>\n",
       "</div>"
      ],
      "text/plain": [
       "   bias  x    x1        x2     y\n",
       "0   1.0  0  0.00  0.000000  3.48\n",
       "1   1.0  1  0.10  0.099833  2.99\n",
       "2   1.0  2  0.20  0.198669  5.86\n",
       "3   1.0  3  0.29  0.285952  1.79\n",
       "4   1.0  4  0.39  0.380188  3.47\n",
       "5   1.0  5  0.49  0.470626  7.73\n",
       "6   1.0  6  0.59  0.556361  7.83\n",
       "7   1.0  7  0.68  0.628793  4.70\n",
       "8   1.0  8  0.78  0.703279  8.97\n",
       "9   1.0  9  0.88  0.770739  8.43"
      ]
     },
     "execution_count": 14,
     "metadata": {},
     "output_type": "execute_result"
    }
   ],
>>>>>>> Stashed changes
   "source": [
    "x1 = round(y2.x*beta2[1],2)\n",
    "x2 = np.sin(x1)\n",
    "\n",
    "y21 = pd.DataFrame({\"bias\":np.ones(226),\"x\":range(226), \"x1\":x1, \"x2\":x2, \"y\":data.StockPrice})\n",
    "y21.head(10)"
   ]
  },
  {
   "cell_type": "markdown",
   "id": "73b9ccf9",
   "metadata": {},
   "source": [
    "### create the data matrices from the data frame"
   ]
  },
  {
   "cell_type": "code",
<<<<<<< Updated upstream
   "execution_count": null,
=======
   "execution_count": 15,
>>>>>>> Stashed changes
   "id": "4d312769",
   "metadata": {
    "ExecuteTime": {
     "end_time": "2024-08-27T14:03:14.437988Z",
     "start_time": "2024-08-27T14:03:14.435618Z"
    },
    "execution": {
     "iopub.execute_input": "2024-08-25T15:23:52.246581Z",
     "iopub.status.busy": "2024-08-25T15:23:52.246343Z",
     "iopub.status.idle": "2024-08-25T15:23:52.251481Z",
     "shell.execute_reply": "2024-08-25T15:23:52.251106Z",
     "shell.execute_reply.started": "2024-08-25T15:23:52.246567Z"
    }
   },
   "outputs": [],
   "source": [
    "xx = np.array(y21[['bias', 'x1', 'x2']])\n",
    "yy = np.array(y2.y) "
   ]
  },
  {
   "cell_type": "code",
<<<<<<< Updated upstream
   "execution_count": null,
=======
   "execution_count": 16,
>>>>>>> Stashed changes
   "id": "3da1206a",
   "metadata": {
    "ExecuteTime": {
     "end_time": "2024-08-27T14:03:14.442311Z",
     "start_time": "2024-08-27T14:03:14.438852Z"
    },
    "execution": {
     "iopub.execute_input": "2024-08-25T15:23:52.252198Z",
     "iopub.status.busy": "2024-08-25T15:23:52.252031Z",
     "iopub.status.idle": "2024-08-25T15:23:52.258929Z",
     "shell.execute_reply": "2024-08-25T15:23:52.258221Z",
     "shell.execute_reply.started": "2024-08-25T15:23:52.252184Z"
    }
   },
<<<<<<< Updated upstream
   "outputs": [],
=======
   "outputs": [
    {
     "name": "stdout",
     "output_type": "stream",
     "text": [
      "Beta =  [2.74436632 1.00020159 4.82388129]\n",
      "SSE =  701.3625743495963\n"
     ]
    }
   ],
>>>>>>> Stashed changes
   "source": [
    "beta3 = estimateBeta(xx, yy)\n",
    "print(\"Beta = \", beta3)\n",
    "yhat3 = predict(beta3, xx)\n",
    "loss = SSE(yy, yhat3) #np.sum((np.matmul(xx,beta) - yy)**2)\n",
    "print(\"SSE = \", loss)"
   ]
  },
  {
   "cell_type": "markdown",
   "id": "3d462bdc",
   "metadata": {},
   "source": [
    "### Let's plot the raw data and the regression line on the same plot"
   ]
  },
  {
   "cell_type": "code",
<<<<<<< Updated upstream
   "execution_count": null,
=======
   "execution_count": 17,
>>>>>>> Stashed changes
   "id": "871af5b8",
   "metadata": {
    "ExecuteTime": {
     "end_time": "2024-08-27T14:03:14.514996Z",
     "start_time": "2024-08-27T14:03:14.443171Z"
    },
    "execution": {
     "iopub.execute_input": "2024-08-25T15:23:52.260274Z",
     "iopub.status.busy": "2024-08-25T15:23:52.259967Z",
     "iopub.status.idle": "2024-08-25T15:23:52.353231Z",
     "shell.execute_reply": "2024-08-25T15:23:52.352628Z",
     "shell.execute_reply.started": "2024-08-25T15:23:52.260249Z"
    }
   },
<<<<<<< Updated upstream
   "outputs": [],
=======
   "outputs": [
    {
     "data": {
      "text/plain": [
       "Text(0.5, 0, 'Time')"
      ]
     },
     "execution_count": 17,
     "metadata": {},
     "output_type": "execute_result"
    },
    {
     "data": {
      "image/png": "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",
      "text/plain": [
       "<Figure size 640x480 with 1 Axes>"
      ]
     },
     "metadata": {},
     "output_type": "display_data"
    }
   ],
>>>>>>> Stashed changes
   "source": [
    "plt.plot(y2.x, y2.y, 'r+')\n",
    "plt.plot(y2.x, yhat3, 'b-')\n",
    "plt.ylabel('Stock Price')\n",
    "plt.xlabel('Time')"
   ]
  },
  {
   "cell_type": "markdown",
   "id": "779ef3c0",
   "metadata": {},
   "source": [
    "### we were able to see the sin(x) from the visual.  what if we can't visualize? let's try the polynomial fit."
   ]
  },
  {
   "cell_type": "code",
<<<<<<< Updated upstream
   "execution_count": null,
=======
   "execution_count": 18,
>>>>>>> Stashed changes
   "id": "3b025ff9",
   "metadata": {
    "ExecuteTime": {
     "end_time": "2024-08-27T14:03:14.522447Z",
     "start_time": "2024-08-27T14:03:14.515937Z"
    },
    "execution": {
     "iopub.execute_input": "2024-08-25T15:23:52.354018Z",
     "iopub.status.busy": "2024-08-25T15:23:52.353856Z",
     "iopub.status.idle": "2024-08-25T15:23:52.361906Z",
     "shell.execute_reply": "2024-08-25T15:23:52.361583Z",
     "shell.execute_reply.started": "2024-08-25T15:23:52.354004Z"
    }
   },
<<<<<<< Updated upstream
   "outputs": [],
=======
   "outputs": [
    {
     "data": {
      "text/html": [
       "<div>\n",
       "<style scoped>\n",
       "    .dataframe tbody tr th:only-of-type {\n",
       "        vertical-align: middle;\n",
       "    }\n",
       "\n",
       "    .dataframe tbody tr th {\n",
       "        vertical-align: top;\n",
       "    }\n",
       "\n",
       "    .dataframe thead th {\n",
       "        text-align: right;\n",
       "    }\n",
       "</style>\n",
       "<table border=\"1\" class=\"dataframe\">\n",
       "  <thead>\n",
       "    <tr style=\"text-align: right;\">\n",
       "      <th></th>\n",
       "      <th>bias</th>\n",
       "      <th>x</th>\n",
       "      <th>x1</th>\n",
       "      <th>y</th>\n",
       "    </tr>\n",
       "  </thead>\n",
       "  <tbody>\n",
       "    <tr>\n",
       "      <th>0</th>\n",
       "      <td>1.0</td>\n",
       "      <td>0</td>\n",
       "      <td>0.00</td>\n",
       "      <td>3.48</td>\n",
       "    </tr>\n",
       "    <tr>\n",
       "      <th>1</th>\n",
       "      <td>1.0</td>\n",
       "      <td>1</td>\n",
       "      <td>0.10</td>\n",
       "      <td>2.99</td>\n",
       "    </tr>\n",
       "    <tr>\n",
       "      <th>2</th>\n",
       "      <td>1.0</td>\n",
       "      <td>2</td>\n",
       "      <td>0.20</td>\n",
       "      <td>5.86</td>\n",
       "    </tr>\n",
       "    <tr>\n",
       "      <th>3</th>\n",
       "      <td>1.0</td>\n",
       "      <td>3</td>\n",
       "      <td>0.29</td>\n",
       "      <td>1.79</td>\n",
       "    </tr>\n",
       "    <tr>\n",
       "      <th>4</th>\n",
       "      <td>1.0</td>\n",
       "      <td>4</td>\n",
       "      <td>0.39</td>\n",
       "      <td>3.47</td>\n",
       "    </tr>\n",
       "    <tr>\n",
       "      <th>5</th>\n",
       "      <td>1.0</td>\n",
       "      <td>5</td>\n",
       "      <td>0.49</td>\n",
       "      <td>7.73</td>\n",
       "    </tr>\n",
       "    <tr>\n",
       "      <th>6</th>\n",
       "      <td>1.0</td>\n",
       "      <td>6</td>\n",
       "      <td>0.59</td>\n",
       "      <td>7.83</td>\n",
       "    </tr>\n",
       "    <tr>\n",
       "      <th>7</th>\n",
       "      <td>1.0</td>\n",
       "      <td>7</td>\n",
       "      <td>0.68</td>\n",
       "      <td>4.70</td>\n",
       "    </tr>\n",
       "    <tr>\n",
       "      <th>8</th>\n",
       "      <td>1.0</td>\n",
       "      <td>8</td>\n",
       "      <td>0.78</td>\n",
       "      <td>8.97</td>\n",
       "    </tr>\n",
       "    <tr>\n",
       "      <th>9</th>\n",
       "      <td>1.0</td>\n",
       "      <td>9</td>\n",
       "      <td>0.88</td>\n",
       "      <td>8.43</td>\n",
       "    </tr>\n",
       "  </tbody>\n",
       "</table>\n",
       "</div>"
      ],
      "text/plain": [
       "   bias  x    x1     y\n",
       "0   1.0  0  0.00  3.48\n",
       "1   1.0  1  0.10  2.99\n",
       "2   1.0  2  0.20  5.86\n",
       "3   1.0  3  0.29  1.79\n",
       "4   1.0  4  0.39  3.47\n",
       "5   1.0  5  0.49  7.73\n",
       "6   1.0  6  0.59  7.83\n",
       "7   1.0  7  0.68  4.70\n",
       "8   1.0  8  0.78  8.97\n",
       "9   1.0  9  0.88  8.43"
      ]
     },
     "execution_count": 18,
     "metadata": {},
     "output_type": "execute_result"
    }
   ],
>>>>>>> Stashed changes
   "source": [
    "x1 = round(y2.x*beta2[1],2)\n",
    "\n",
    "y21 = pd.DataFrame({\"bias\":np.ones(226),\"x\":range(226), \"x1\":x1, \"y\":data.StockPrice})\n",
    "y21.head(10)"
   ]
  },
  {
   "cell_type": "markdown",
   "id": "822ad6fc",
   "metadata": {},
   "source": [
    "### create the data matrices from the data frame"
   ]
  },
  {
   "cell_type": "code",
<<<<<<< Updated upstream
   "execution_count": null,
=======
   "execution_count": 19,
>>>>>>> Stashed changes
   "id": "3b0fce3e",
   "metadata": {
    "ExecuteTime": {
     "end_time": "2024-08-27T14:03:14.525663Z",
     "start_time": "2024-08-27T14:03:14.523450Z"
    },
    "execution": {
     "iopub.execute_input": "2024-08-25T15:23:52.362597Z",
     "iopub.status.busy": "2024-08-25T15:23:52.362436Z",
     "iopub.status.idle": "2024-08-25T15:23:52.366657Z",
     "shell.execute_reply": "2024-08-25T15:23:52.366287Z",
     "shell.execute_reply.started": "2024-08-25T15:23:52.362583Z"
    }
   },
   "outputs": [],
   "source": [
    "# here we don't need the explicit bias feature column, as polynomial features would include it already (x^0 = 1)\n",
    "xx = np.array(y21[['x1']])\n",
    "yy = np.array(y2.y) "
   ]
  },
  {
   "cell_type": "markdown",
   "id": "4347b0be",
   "metadata": {},
   "source": [
    "### let's use the polynomial features generator instead of manually doing it."
   ]
  },
  {
   "cell_type": "code",
<<<<<<< Updated upstream
   "execution_count": null,
=======
   "execution_count": 20,
>>>>>>> Stashed changes
   "id": "04eb4141",
   "metadata": {
    "ExecuteTime": {
     "end_time": "2024-08-27T14:03:14.529859Z",
     "start_time": "2024-08-27T14:03:14.526659Z"
    },
    "execution": {
     "iopub.execute_input": "2024-08-25T15:23:52.367329Z",
     "iopub.status.busy": "2024-08-25T15:23:52.367177Z",
     "iopub.status.idle": "2024-08-25T15:23:52.371843Z",
     "shell.execute_reply": "2024-08-25T15:23:52.371475Z",
     "shell.execute_reply.started": "2024-08-25T15:23:52.367316Z"
    }
   },
   "outputs": [],
   "source": [
    "from sklearn.preprocessing import PolynomialFeatures\n",
    "poly_transformer = PolynomialFeatures(degree = 50)   # 10, 11\n",
    "X_poly = poly_transformer.fit_transform(xx)"
   ]
  },
  {
   "cell_type": "markdown",
   "id": "b4087aac",
   "metadata": {
    "ExecuteTime": {
     "end_time": "2024-08-11T10:00:53.281808Z",
     "start_time": "2024-08-11T10:00:53.277419Z"
    }
   },
   "source": [
    "### fit the model and estimate the loss"
   ]
  },
  {
   "cell_type": "code",
<<<<<<< Updated upstream
   "execution_count": null,
=======
   "execution_count": 21,
>>>>>>> Stashed changes
   "id": "11e22d7c",
   "metadata": {
    "ExecuteTime": {
     "end_time": "2024-08-27T14:03:14.551924Z",
     "start_time": "2024-08-27T14:03:14.531393Z"
    },
    "execution": {
     "iopub.execute_input": "2024-08-25T15:23:52.372612Z",
     "iopub.status.busy": "2024-08-25T15:23:52.372369Z",
     "iopub.status.idle": "2024-08-25T15:23:52.381636Z",
     "shell.execute_reply": "2024-08-25T15:23:52.380527Z",
     "shell.execute_reply.started": "2024-08-25T15:23:52.372598Z"
    }
   },
<<<<<<< Updated upstream
   "outputs": [],
=======
   "outputs": [
    {
     "name": "stdout",
     "output_type": "stream",
     "text": [
      "Intercept= 11.692743600207356 Beta =  [-1.27740737e-60 -1.07902277e-58  5.89079017e-60 -2.05522944e-61\n",
      "  4.70582632e-63  1.83549354e-62  2.49330714e-65  0.00000000e+00\n",
      "  1.10890520e-99  2.05248977e-98  3.78590340e-97  6.96222278e-96\n",
      "  1.27677425e-94  2.33511116e-93  4.25919213e-92  7.74715695e-91\n",
      "  1.40507276e-89  2.54052197e-88  4.57850463e-87  8.22229893e-86\n",
      "  1.47098283e-84  2.62074846e-83  4.64821989e-82  8.20373032e-81\n",
      "  1.44011210e-79  2.51311280e-78  4.35710943e-77  7.49997845e-76\n",
      "  1.28073251e-74  2.16772729e-73  3.63285383e-72  6.02090881e-71\n",
      "  9.85433280e-70  1.59003309e-68  2.52413115e-67  3.93245510e-66\n",
      "  5.99412012e-65  8.90463667e-64  1.28286008e-62  1.78065520e-61\n",
      "  2.36037475e-60  2.95118060e-59  3.41738426e-58  3.56143219e-57\n",
      "  3.17931150e-56  2.20206085e-55  9.04515636e-55 -1.73233732e-55\n",
      "  1.22084044e-56 -3.80619195e-58  4.44179322e-60]\n",
      "SSE =  6053.433492581949\n"
     ]
    }
   ],
>>>>>>> Stashed changes
   "source": [
    "from sklearn.linear_model import LinearRegression\n",
    "model = LinearRegression().fit(X_poly, yy)\n",
    "print(\"Intercept=\", model.intercept_, \"Beta = \", model.coef_)\n",
    "yhat4 = model.predict(X_poly)\n",
    "\n",
    "#beta4 = estimateBeta(X_poly, yy)\n",
    "#print(\"Beta = \", beta4)\n",
    "#yhat4 = predict(beta4, X_poly)\n",
    "\n",
    "loss = SSE(yy, yhat4)\n",
    "print(\"SSE = \", loss)"
   ]
  },
  {
   "cell_type": "code",
   "execution_count": null,
   "id": "c445980e",
   "metadata": {
    "ExecuteTime": {
     "end_time": "2024-08-11T10:28:17.227856Z",
     "start_time": "2024-08-11T10:28:17.223470Z"
    }
   },
   "outputs": [],
   "source": []
  },
  {
   "cell_type": "markdown",
   "id": "e6e0fcb2",
   "metadata": {},
   "source": [
    "### Let's plot the raw data and the regression line on the same plot"
   ]
  },
  {
   "cell_type": "code",
<<<<<<< Updated upstream
   "execution_count": null,
=======
   "execution_count": 22,
>>>>>>> Stashed changes
   "id": "03d784eb",
   "metadata": {
    "ExecuteTime": {
     "end_time": "2024-08-27T14:03:14.657608Z",
     "start_time": "2024-08-27T14:03:14.552986Z"
    },
    "execution": {
     "iopub.execute_input": "2024-08-25T15:23:52.382896Z",
     "iopub.status.busy": "2024-08-25T15:23:52.382692Z",
     "iopub.status.idle": "2024-08-25T15:23:52.517559Z",
     "shell.execute_reply": "2024-08-25T15:23:52.517219Z",
     "shell.execute_reply.started": "2024-08-25T15:23:52.382877Z"
    }
   },
<<<<<<< Updated upstream
   "outputs": [],
=======
   "outputs": [
    {
     "data": {
      "image/png": "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",
      "text/plain": [
       "<Figure size 640x480 with 1 Axes>"
      ]
     },
     "metadata": {},
     "output_type": "display_data"
    }
   ],
>>>>>>> Stashed changes
   "source": [
    "plt.plot(y2.x, y2.y, 'r+')\n",
    "plt.plot(y2.x, yhat4, 'b-')\n",
    "plt.ylabel('Stock Price')\n",
    "plt.xlabel('Time')\n",
    "plt.legend(['Price', 'OLS'], loc='upper left')\n",
    "plt.show()"
   ]
  },
  {
   "cell_type": "markdown",
   "id": "bf73e851",
   "metadata": {},
   "source": [
    "### Brilliant, how to I find the best degree automatically without performing a linear search!"
   ]
  },
  {
   "cell_type": "code",
<<<<<<< Updated upstream
   "execution_count": null,
=======
   "execution_count": 23,
>>>>>>> Stashed changes
   "id": "4cb24bc4",
   "metadata": {
    "ExecuteTime": {
     "end_time": "2024-08-27T14:03:15.193135Z",
     "start_time": "2024-08-27T14:03:14.658595Z"
    },
    "execution": {
     "iopub.execute_input": "2024-08-25T15:23:52.518269Z",
     "iopub.status.busy": "2024-08-25T15:23:52.518101Z",
     "iopub.status.idle": "2024-08-25T15:23:53.109630Z",
     "shell.execute_reply": "2024-08-25T15:23:53.108398Z",
     "shell.execute_reply.started": "2024-08-25T15:23:52.518256Z"
    }
   },
<<<<<<< Updated upstream
   "outputs": [],
=======
   "outputs": [
    {
     "name": "stdout",
     "output_type": "stream",
     "text": [
      "Beta = [ 0.00000000e+00  0.00000000e+00  0.00000000e+00  0.00000000e+00\n",
      "  5.23457505e-04  6.41066638e-05 -5.00453235e-06 -9.79342429e-08\n",
      " -7.34194177e-10  7.01900019e-11  5.70660175e-12  2.94593403e-13\n",
      "  1.23876577e-14  4.44651873e-16  1.32976499e-17  2.81341868e-19\n",
      " -4.81288180e-22 -5.14583566e-22 -3.99266834e-23 -2.30098408e-24\n",
      " -1.15738350e-25 -5.34667275e-27 -2.31725753e-28 -9.50443771e-30\n",
      " -3.69230332e-31 -1.34910135e-32 -4.54691203e-34 -1.34596965e-35\n",
      " -2.98223430e-37 -4.17799332e-40  5.12227162e-40  4.39817165e-41\n",
      "  2.77180373e-42  1.53263050e-43  7.85151987e-45  3.81476534e-46\n",
      "  1.77812014e-47  7.99524711e-49  3.47393981e-50  1.45627365e-51\n",
      "  5.85713545e-53  2.23340753e-54  7.87355753e-56  2.41406741e-57\n",
      "  5.17792424e-59 -4.70872659e-61 -1.56867472e-61 -1.35435280e-62\n",
      " -9.15993261e-64 -5.55786862e-65 -3.16850061e-66]\n",
      "SSE = 2444.6441748494954\n"
     ]
    },
    {
     "name": "stderr",
     "output_type": "stream",
     "text": [
      "C:\\Users\\gowtham.balachan\\AppData\\Local\\anaconda3\\lib\\site-packages\\sklearn\\linear_model\\_coordinate_descent.py:695: ConvergenceWarning: Objective did not converge. You might want to increase the number of iterations, check the scale of the features or consider increasing regularisation. Duality gap: 1.289e+03, tolerance: 1.248e+00\n",
      "  model = cd_fast.enet_coordinate_descent(\n"
     ]
    }
   ],
>>>>>>> Stashed changes
   "source": [
    "from sklearn.linear_model import Lasso, Ridge\n",
    "model5 = Lasso(alpha=500, max_iter=50000).fit(X_poly, yy)\n",
    "#model5 = Ridge(alpha=5220).fit(X_poly,yy)\n",
    "print(\"Beta =\", model5.coef_)\n",
    "yhat5 = model5.predict(X_poly)\n",
    "loss = SSE(yy, yhat5)\n",
    "print(\"SSE =\", loss)"
   ]
  },
  {
   "cell_type": "code",
<<<<<<< Updated upstream
   "execution_count": null,
=======
   "execution_count": 24,
>>>>>>> Stashed changes
   "id": "66c371d9",
   "metadata": {
    "ExecuteTime": {
     "end_time": "2024-08-27T14:03:15.337208Z",
     "start_time": "2024-08-27T14:03:15.194250Z"
    },
    "execution": {
     "iopub.execute_input": "2024-08-25T15:23:53.110468Z",
     "iopub.status.busy": "2024-08-25T15:23:53.110317Z",
     "iopub.status.idle": "2024-08-25T15:23:53.228862Z",
     "shell.execute_reply": "2024-08-25T15:23:53.228351Z",
     "shell.execute_reply.started": "2024-08-25T15:23:53.110455Z"
    }
   },
<<<<<<< Updated upstream
   "outputs": [],
=======
   "outputs": [
    {
     "data": {
      "image/png": "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",
      "text/plain": [
       "<Figure size 640x480 with 1 Axes>"
      ]
     },
     "metadata": {},
     "output_type": "display_data"
    }
   ],
>>>>>>> Stashed changes
   "source": [
    "plt.ylabel('Stock Price')\n",
    "plt.xlabel('Time')\n",
    "plt.plot(y2.x, y2.y, 'r+')\n",
    "plt.plot(y2.x, yhat4, 'b-')\n",
    "plt.plot(y2.x, yhat5, 'g-')\n",
    "plt.plot(y2.x, yhat2, '--')\n",
    "plt.plot(y2.x, yhat3, 'k')\n",
    "plt.legend(['Stock Price', 'PolynomialFit', 'Poly+Lasso', 'LineFit', 'Line+Sinusoid'], loc='upper left')\n",
    "plt.show()"
   ]
  },
  {
   "cell_type": "markdown",
   "id": "703b8c7c",
   "metadata": {},
   "source": [
    "### what if closed form is not possible?  Gradient descent comes to the rescue."
   ]
  },
  {
   "cell_type": "markdown",
   "id": "a90d0c42",
   "metadata": {},
   "source": [
    "Let's consider solving the LineFit problem in the Gradient Descent style.\n",
    "\n",
    "As long as our mathematical model of the system is differentiable (gradients are computable), our loss function $\\mathcal{L} = (y-\\hat{y})^2$ remains differentiable.\n",
    "\n",
    "Our linear model is given by $\\hat{y} = \\beta_0 + \\beta_1 x = X^\\top\\beta$ and the loss is given by $\\mathcal{L} = [y - (\\beta_0 + \\beta_1 x)]^2 = [y-X^\\top\\beta]^\\top[y-X^\\top\\beta]$\n",
    "\n",
    "The average loss gradients for the full dataset are given by $\\frac{\\partial\\mathcal{L}}{\\partial\\beta_0} = \\frac{-2}{N} \\sum (y-\\hat{y}) $ and $\\frac{\\partial\\mathcal{L}}{\\partial\\beta_1} = \\frac{-2}{N} \\sum X^\\top(y-\\hat{y})$"
   ]
  },
  {
   "cell_type": "markdown",
   "id": "8a707e62",
   "metadata": {},
   "source": [
    "### the GD algorithm"
   ]
  },
  {
   "cell_type": "markdown",
   "id": "3cc8fa07",
   "metadata": {},
   "source": [
    "* Choose the mathematical model; ensure it's continuous and differentiable.\n",
    "* Initialize the model parameters to random numbers.  Usually they are sampled from standard normal distribution.\n",
    "* Compute the gradient of the loss based on the current model parametric setting.\n",
    "* Update the parameters using $\\beta_i \\leftarrow \\beta_i + \\eta \\frac{\\partial\\mathcal{L}}{\\partial\\beta_i}$\n",
    "* Repeat the last two steps until the loss minimizes to the required target or it reaches a plateau.  If the loss increases, you have done something incorrectly."
   ]
  },
  {
   "cell_type": "markdown",
   "id": "9a60a8c5",
   "metadata": {},
   "source": [
    "### let's implement the gradient descent algorithm for the linefit solution."
   ]
  },
  {
   "cell_type": "code",
   "execution_count": null,
   "id": "348d6331",
   "metadata": {
    "ExecuteTime": {
     "end_time": "2024-08-27T14:03:15.379617Z",
     "start_time": "2024-08-27T14:03:15.338147Z"
    },
    "execution": {
     "iopub.execute_input": "2024-08-25T15:23:53.229309Z",
     "iopub.status.busy": "2024-08-25T15:23:53.229219Z",
     "iopub.status.idle": "2024-08-25T15:23:53.259284Z",
     "shell.execute_reply": "2024-08-25T15:23:53.258917Z",
     "shell.execute_reply.started": "2024-08-25T15:23:53.229301Z"
    }
   },
   "outputs": [],
   "source": [
    "from tqdm.auto import tqdm\n",
    "\n",
    "class MyLineFitViaGD:\n",
    "    def __init__(self, learning_rate=0.0001, n_iters=10_000):\n",
    "        self.lr = learning_rate\n",
    "        self.n_iters = n_iters\n",
    "        self.weights = None\n",
    "        self.bias = None\n",
    "\n",
    "    def fit(self, X, y):\n",
    "        n_samples, n_features = X.shape\n",
    "        # init parameters\n",
    "        self.weights = np.random.randn(n_features)\n",
    "        self.bias = np.random.randn(1)\n",
    "        # gradient descent\n",
    "        tq = tqdm(range(self.n_iters), desc=\"Iterations\")\n",
    "        for _ in  tq:\n",
    "            # approximate y with linear combination of weights and x, plus bias\n",
    "            y_predicted = np.matmul(X, self.weights) + self.bias\n",
    "\n",
    "            # compute the gap between true and predicted outputs.\n",
    "            diff = y_predicted - y\n",
    "            loss = np.sum(diff * diff)\n",
    "            \n",
    "            # compute gradients\n",
    "            dw = (1 / n_samples) * np.matmul(X.T, diff)\n",
    "            db = (1 / n_samples) * np.sum(diff)\n",
    "            # update parameters\n",
    "            self.weights  = self.weights - self.lr * dw\n",
    "            self.bias  = self.bias -  self.lr * db\n",
    "            \n",
    "            # display the loss on the progress bar.\n",
    "            tq.set_postfix({\"Loss\":loss})\n",
    "            \n",
    "    @property\n",
    "    def parameters(self):\n",
    "        return self.bias, self.weights\n",
    "            \n",
    "    def predict(self, X):\n",
    "        y_predicted = np.dot(X, self.weights) + self.bias\n",
    "        return y_predicted"
   ]
  },
  {
   "cell_type": "markdown",
   "id": "6a3825c7",
   "metadata": {},
   "source": [
    "### recall our linear fit dataset and construct the dataset matrices again"
   ]
  },
  {
   "cell_type": "code",
   "execution_count": null,
   "id": "8b23c7bf",
   "metadata": {
    "ExecuteTime": {
     "end_time": "2024-08-27T14:03:15.383915Z",
     "start_time": "2024-08-27T14:03:15.380430Z"
    },
    "execution": {
     "iopub.execute_input": "2024-08-25T15:23:53.259885Z",
     "iopub.status.busy": "2024-08-25T15:23:53.259657Z",
     "iopub.status.idle": "2024-08-25T15:23:53.262970Z",
     "shell.execute_reply": "2024-08-25T15:23:53.262689Z",
     "shell.execute_reply.started": "2024-08-25T15:23:53.259875Z"
    }
   },
   "outputs": [],
   "source": [
    "print(y2df.head())\n",
    "yy = np.array(y2df.y) \n",
    "xx = np.array(y2df[[\"x\"]])  # no need for \"bias\", as our GD method factors it already."
   ]
  },
  {
   "cell_type": "markdown",
   "id": "734c81b6",
   "metadata": {},
   "source": [
    "### let's now build the model via Gradient Descent"
   ]
  },
  {
   "cell_type": "code",
   "execution_count": null,
   "id": "eb8f01bc",
   "metadata": {
    "ExecuteTime": {
     "end_time": "2024-08-27T14:03:16.023409Z",
     "start_time": "2024-08-27T14:03:15.384687Z"
    },
    "execution": {
     "iopub.execute_input": "2024-08-25T15:23:53.263383Z",
     "iopub.status.busy": "2024-08-25T15:23:53.263250Z",
     "iopub.status.idle": "2024-08-25T15:23:53.467586Z",
     "shell.execute_reply": "2024-08-25T15:23:53.467373Z",
     "shell.execute_reply.started": "2024-08-25T15:23:53.263376Z"
    }
   },
   "outputs": [],
   "source": [
    "gdmodel = MyLineFitViaGD(learning_rate=0.0000001, n_iters=5000)\n",
    "# fit the model and estimate the yhat values.\n",
    "gdmodel.fit(xx, yy)\n",
    "#get the learned parameters from the model.\n",
    "bias, weights = gdmodel.parameters\n",
    "print(\"Bias =\", bias, \" Weights =\", weights)\n",
    "# use the model to predict the yhat values.\n",
    "yhat6 = gdmodel.predict(xx)\n",
    "# estimate the loss again and display\n",
    "loss = SSE(yy, yhat6)\n",
    "print (\"Loss =\", loss)"
   ]
  },
  {
   "cell_type": "markdown",
   "id": "cf0c4725",
   "metadata": {},
   "source": [
    "### let's visualize and compare the linear fits estimated by OLS and GD."
   ]
  },
  {
   "cell_type": "code",
   "execution_count": null,
   "id": "975e76b3",
   "metadata": {
    "ExecuteTime": {
     "end_time": "2024-08-27T14:03:16.110335Z",
     "start_time": "2024-08-27T14:03:16.032913Z"
    },
    "execution": {
     "iopub.execute_input": "2024-08-25T15:23:53.468718Z",
     "iopub.status.busy": "2024-08-25T15:23:53.468589Z",
     "iopub.status.idle": "2024-08-25T15:23:53.513547Z",
     "shell.execute_reply": "2024-08-25T15:23:53.513229Z",
     "shell.execute_reply.started": "2024-08-25T15:23:53.468710Z"
    }
   },
   "outputs": [],
   "source": [
    "plt.plot(y2.x, y2.y, 'r+')\n",
    "yhat1 = predict(beta, y2.x)\n",
    "plt.plot(y2.x, yhat1, 'b-')\n",
    "plt.plot(y2.x, yhat6, 'g-')\n",
    "plt.ylabel('Stock Price')\n",
    "plt.xlabel('Time')\n",
    "plt.legend(['Stock Price', 'LineFit+OLS', 'LineFit+GD'], loc='upper left')\n",
    "plt.show()"
   ]
  },
  {
   "cell_type": "markdown",
   "id": "4e6b7769",
   "metadata": {},
   "source": [
    "### let's try GD on our sinusoidal mathematical model\n",
    "\n",
    "Now, our mathematical model of system is given by $\\hat{y} = \\beta_0 + \\beta_1 x + \\beta_2\\sin(\\beta_3 x)$\n",
    "\n",
    "$\\frac{\\partial\\mathcal{L}}{\\partial\\beta_0} = \\frac{-2}{N} \\sum (y-\\hat{y})$\n",
    "\n",
    "$\\frac{\\partial\\mathcal{L}}{\\partial\\beta_1} = \\frac{-2}{N} \\sum X^\\top(y-\\hat{y})$\n",
    "\n",
    "$\\frac{\\partial\\mathcal{L}}{\\partial\\beta_2} = \\frac{-2}{N} \\sum \\sin(\\beta_3 X)^\\top(y-\\hat{y})$\n",
    "\n",
    "$\\frac{\\partial\\mathcal{L}}{\\partial\\beta_3} = \\frac{-2}{N} \\sum (\\beta_2\\cos(\\beta_3 X) \\cdot X)^\\top(y-\\hat{y})$"
   ]
  },
  {
   "cell_type": "code",
   "execution_count": null,
   "id": "eee5ee3b",
   "metadata": {
    "ExecuteTime": {
     "end_time": "2024-08-27T14:03:16.117754Z",
     "start_time": "2024-08-27T14:03:16.111460Z"
    },
    "execution": {
     "iopub.execute_input": "2024-08-25T15:23:53.513962Z",
     "iopub.status.busy": "2024-08-25T15:23:53.513862Z",
     "iopub.status.idle": "2024-08-25T15:23:53.517841Z",
     "shell.execute_reply": "2024-08-25T15:23:53.517435Z",
     "shell.execute_reply.started": "2024-08-25T15:23:53.513955Z"
    }
   },
   "outputs": [],
   "source": [
    "class MySinusoidFitViaGD:\n",
    "    def __init__(self, learning_rate=0.0001, n_iters=10_000):\n",
    "        self.lr = learning_rate\n",
    "        self.n_iters = n_iters\n",
    "        # init parameters\n",
    "        self.m1 = np.abs(np.random.randn(1))\n",
    "        self.m2 = np.abs(np.random.randn(1))\n",
    "        # if I set this to random, convergence is not happening.  Choosing an initial value around 1.0 help convergence.\n",
    "        self.m3 = [1] #np.abs(np.random.randn(1))\n",
    "        self.bias = np.random.randn(1)\n",
    "        print(f\"Initial Params: Bias={self.bias[0]} M1={self.m1[0]}, M2={self.m2[0]}, M3={self.m3[0]}\")\n",
    "        \n",
    "    def fit(self, X, y):\n",
    "        n_samples, n_features = X.shape\n",
    "        # gradient descent\n",
    "        tq = tqdm(range(self.n_iters), desc=\"Iterations\")\n",
    "        # placeholder to capture the loss trend. \n",
    "        history = []\n",
    "\n",
    "        for _ in  tq:\n",
    "            # approximate y with linear combination of weights and x, plus bias\n",
    "            y_predicted = self.predict(X)\n",
    "\n",
    "            # compute the gap between true and predicted outputs.\n",
    "            diff = y - y_predicted\n",
    "            loss = SSE(y, y_predicted)\n",
    "            \n",
    "            # compute gradients\n",
    "            dm1 = (-2 / n_samples) * np.matmul(X.T, diff)\n",
    "            dm2 = (-2 / n_samples) * np.matmul(np.sin(self.m3*X).T, diff)\n",
    "            dm3 = (-2 / n_samples) * np.matmul((X *self.m2* np.cos(self.m3*X)).T, diff)  \n",
    "            db  = (-2 / n_samples) * np.sum(diff)\n",
    "            \n",
    "            # update parameters\n",
    "            self.m1  = self.m1 - self.lr * dm1\n",
    "            self.m2  = self.m2 - self.lr * dm2\n",
    "            self.m3  = self.m3 - self.lr * dm3\n",
    "            self.bias= self.bias -  self.lr * db\n",
    "            \n",
    "            # display the loss on the progress bar.\n",
    "            tq.set_postfix({\"Loss\":loss})\n",
    "            \n",
    "            record = self.parameters\n",
    "            record.append(loss)\n",
    "            history.append(record)\n",
    "            \n",
    "        #print(history)\n",
    "        #return history\n",
    "        return np.array(history)\n",
    "            \n",
    "    @property\n",
    "    def parameters(self):\n",
    "        return [self.bias[0], self.m1[0][0], self.m2[0][0], self.m3[0][0]]\n",
    "            \n",
    "    def predict(self, X):\n",
    "        y_predicted = self.bias + self.m1*X + self.m2*np.sin(self.m3*X)\n",
    "        return y_predicted"
   ]
  },
  {
   "cell_type": "code",
   "execution_count": null,
   "id": "50a7e726",
   "metadata": {
    "ExecuteTime": {
     "end_time": "2024-08-27T14:03:16.125031Z",
     "start_time": "2024-08-27T14:03:16.118826Z"
    },
    "execution": {
     "iopub.execute_input": "2024-08-25T15:23:53.518266Z",
     "iopub.status.busy": "2024-08-25T15:23:53.518138Z",
     "iopub.status.idle": "2024-08-25T15:23:53.530857Z",
     "shell.execute_reply": "2024-08-25T15:23:53.530642Z",
     "shell.execute_reply.started": "2024-08-25T15:23:53.518259Z"
    }
   },
   "outputs": [],
   "source": [
    "# here we don't need the explicit bias feature column\n",
    "xx = np.array(y21[['x1']])\n",
    "yy = np.expand_dims(y2.y, 1) \n",
    "y21.head()"
   ]
  },
  {
   "cell_type": "markdown",
   "id": "26b718ec",
   "metadata": {},
   "source": [
    "### let's now build the model via Gradient Descent"
   ]
  },
  {
   "cell_type": "code",
   "execution_count": null,
   "id": "68830135",
   "metadata": {
    "ExecuteTime": {
     "end_time": "2024-08-27T14:03:17.828470Z",
     "start_time": "2024-08-27T14:03:16.126122Z"
    },
    "execution": {
     "iopub.execute_input": "2024-08-25T15:23:53.531368Z",
     "iopub.status.busy": "2024-08-25T15:23:53.531117Z",
     "iopub.status.idle": "2024-08-25T15:23:54.393271Z",
     "shell.execute_reply": "2024-08-25T15:23:54.392998Z",
     "shell.execute_reply.started": "2024-08-25T15:23:53.531361Z"
    }
   },
   "outputs": [],
   "source": [
    "gdmodel = MySinusoidFitViaGD(learning_rate=0.0001, n_iters=15000)\n",
    "# fit the model and estimate the yhat values.\n",
    "history = gdmodel.fit(xx, yy)\n",
    "#get the learned parameters from the model.\n",
    "bias, w1, w2, w3 = gdmodel.parameters\n",
    "print(\"Bias = \", bias, \" m1 =\", w1, \" m2 =\", w2, \" m3 =\", w3)\n",
    "# use the model to predict the yhat values.\n",
    "yhat7 = gdmodel.predict(xx)\n",
    "# estimate the loss again and display\n",
    "loss = SSE(yy, yhat7)\n",
    "print (\"Loss =\", loss)\n",
    "\n",
    "# let's plot the params and loss.\n",
    "a1 = range(len(history))\n",
    "fig, (ax1, ax2) = plt.subplots(2, 1)\n",
    "fig.suptitle('Parameters & Loss')\n",
    "fig.set_figwidth(10)\n",
    "fig.set_figheight(5)\n",
    "\n",
    "ax1.plot(a1, history[:,0])\n",
    "ax1.plot(a1, history[:,1])\n",
    "ax1.plot(a1, history[:,2])\n",
    "ax1.plot(a1, history[:,3])\n",
    "ax1.legend(['Bias', 'm1', 'm2', 'm3'], loc='upper left')\n",
    "\n",
    "ax2.plot(a1, history[:,4])\n",
    "ax2.set_xlabel('Epochs')\n",
    "ax2.legend(['Loss'], loc='upper right')\n",
    "plt.show()"
   ]
  },
  {
   "cell_type": "markdown",
   "id": "f5e40bb4",
   "metadata": {},
   "source": [
    "### let's visualize and compare the linear fits estimated by OLS and GD."
   ]
  },
  {
   "cell_type": "code",
   "execution_count": null,
   "id": "7f49b720",
   "metadata": {
    "ExecuteTime": {
     "end_time": "2024-08-27T14:03:17.912103Z",
     "start_time": "2024-08-27T14:03:17.829855Z"
    },
    "execution": {
     "iopub.execute_input": "2024-08-25T15:23:54.393706Z",
     "iopub.status.busy": "2024-08-25T15:23:54.393605Z",
     "iopub.status.idle": "2024-08-25T15:23:54.442001Z",
     "shell.execute_reply": "2024-08-25T15:23:54.441744Z",
     "shell.execute_reply.started": "2024-08-25T15:23:54.393697Z"
    }
   },
   "outputs": [],
   "source": [
    "plt.plot(y2.x, y2.y, 'r+')\n",
    "yhat1 = predict(beta, y2.x)\n",
    "plt.plot(y2.x, yhat3, 'b-')\n",
    "plt.plot(y2.x, yhat7, 'g-')\n",
    "plt.ylabel('Stock Price')\n",
    "plt.xlabel('Time')\n",
    "plt.legend(['Stock Price', 'SinusoidFit+OLS', 'SinusoidFit+GD'], loc='upper left')\n",
    "plt.show()"
   ]
  },
  {
   "cell_type": "markdown",
   "id": "ef1f76c9",
   "metadata": {},
   "source": [
    "### let's try doing the same using Tensorflow, where gradients are computed automatically.\n",
    "\n",
    "#### here, we don't have to hardcode the initial values.  The network learns all parameters automatically."
   ]
  },
  {
   "cell_type": "code",
   "execution_count": null,
   "id": "c68e9f29",
   "metadata": {
    "ExecuteTime": {
     "end_time": "2024-08-27T14:03:17.916605Z",
     "start_time": "2024-08-27T14:03:17.913759Z"
    },
    "execution": {
     "iopub.execute_input": "2024-08-25T15:24:01.306858Z",
     "iopub.status.busy": "2024-08-25T15:24:01.306648Z",
     "iopub.status.idle": "2024-08-25T15:24:01.310136Z",
     "shell.execute_reply": "2024-08-25T15:24:01.309673Z",
     "shell.execute_reply.started": "2024-08-25T15:24:01.306843Z"
    }
   },
   "outputs": [],
   "source": [
    "import tensorflow as tf\n",
    "from tensorflow.keras import layers\n",
    "from tensorflow.keras.layers import Activation\n",
    "from tensorflow.keras import backend as K"
   ]
  },
  {
   "cell_type": "code",
   "execution_count": null,
   "id": "29f11f18",
   "metadata": {
    "ExecuteTime": {
     "end_time": "2024-08-27T14:03:17.923385Z",
     "start_time": "2024-08-27T14:03:17.918164Z"
    },
    "execution": {
     "iopub.execute_input": "2024-08-25T15:24:03.345693Z",
     "iopub.status.busy": "2024-08-25T15:24:03.345486Z",
     "iopub.status.idle": "2024-08-25T15:24:03.350474Z",
     "shell.execute_reply": "2024-08-25T15:24:03.349969Z",
     "shell.execute_reply.started": "2024-08-25T15:24:03.345679Z"
    }
   },
   "outputs": [],
   "source": [
    "class ParameterizedSinusoid(layers.Layer):\n",
    "    def __init__(self, **kwargs):\n",
    "        super(ParameterizedSinusoid, self).__init__(**kwargs)\n",
    "\n",
    "    def build(self, input_shape):\n",
    "        # Create a trainable weight variable for this layer.\n",
    "        self.W = self.add_weight(shape=(1, input_shape[1]),\n",
    "                                 initializer='random_normal',\n",
    "                                 trainable=True)\n",
    "        super(ParameterizedSinusoid, self).build(input_shape)  # Be sure to call this somewhere!\n",
    "\n",
    "    def call(self, inputs):\n",
    "        # compute sin(Wx)\n",
    "        ax = tf.math.sin(tf.multiply(self.W, inputs))\n",
    "        return ax\n",
    "    \n",
    "class Sinusoid(layers.Layer):\n",
    "    def __init__(self, **kwargs):\n",
    "        super(Sinusoid, self).__init__(**kwargs)\n",
    "\n",
    "    def build(self, input_shape):\n",
    "        super(Sinusoid, self).build(input_shape)  # Be sure to call this somewhere!\n",
    "\n",
    "    def call(self, inputs):\n",
    "        # compute sin(x)\n",
    "        ax = tf.math.sin(inputs)\n",
    "        return ax"
   ]
  },
  {
   "cell_type": "markdown",
   "id": "a2eb47fd",
   "metadata": {},
   "source": [
    "### let's create a custom activation function"
   ]
  },
  {
   "cell_type": "code",
   "execution_count": null,
   "id": "5ea16093",
   "metadata": {
    "ExecuteTime": {
     "end_time": "2024-08-27T14:03:17.931084Z",
     "start_time": "2024-08-27T14:03:17.924658Z"
    },
    "execution": {
     "iopub.execute_input": "2024-08-25T15:24:04.677866Z",
     "iopub.status.busy": "2024-08-25T15:24:04.677600Z",
     "iopub.status.idle": "2024-08-25T15:24:04.682179Z",
     "shell.execute_reply": "2024-08-25T15:24:04.681770Z",
     "shell.execute_reply.started": "2024-08-25T15:24:04.677839Z"
    }
   },
   "outputs": [],
   "source": [
    "# let's define a custom activation function \"sinusoid\"\n",
    "def sinusoid(x):\n",
    "    return tf.math.sin(x)\n",
    "\n",
    "from keras.utils import get_custom_objects\n",
    "get_custom_objects().update({'sinusoid': Activation(sinusoid)})"
   ]
  },
  {
   "cell_type": "markdown",
   "id": "615f4d45",
   "metadata": {},
   "source": [
    "### reload the dataset "
   ]
  },
  {
   "cell_type": "code",
   "execution_count": null,
   "id": "440a3728",
   "metadata": {
    "ExecuteTime": {
     "end_time": "2024-08-27T14:03:18.715419Z",
     "start_time": "2024-08-27T14:03:17.932414Z"
    },
    "execution": {
     "iopub.execute_input": "2024-08-25T15:24:05.866429Z",
     "iopub.status.busy": "2024-08-25T15:24:05.866206Z",
     "iopub.status.idle": "2024-08-25T15:24:06.064982Z",
     "shell.execute_reply": "2024-08-25T15:24:06.064421Z",
     "shell.execute_reply.started": "2024-08-25T15:24:05.866413Z"
    }
   },
   "outputs": [],
   "source": [
    "#print(y2df.head())\n",
    "#yy = np.array(y2df.y) \n",
    "#xx = np.array(y2df[[\"x1\"]])  # no need for \"bias\", as our GD method factors it already.\n",
    "\n",
    "print(y21.head())\n",
    "yy = np.array(y21.y) \n",
    "xx = np.array(y21[[\"x1\"]])  # no need for \"bias\", as our GD method factors it already.\n",
    "reg_ds = tf.data.Dataset.from_tensor_slices((xx, yy)).batch(100)"
   ]
  },
  {
   "cell_type": "markdown",
   "id": "1689d66c",
   "metadata": {},
   "source": [
    "### create a neural network for the sinusoidal feature based regression fit"
   ]
  },
  {
   "cell_type": "code",
   "execution_count": null,
   "id": "c772f80d",
   "metadata": {
    "ExecuteTime": {
     "end_time": "2024-08-27T14:03:18.772485Z",
     "start_time": "2024-08-27T14:03:18.716402Z"
    },
    "execution": {
     "iopub.execute_input": "2024-08-25T15:25:42.468224Z",
     "iopub.status.busy": "2024-08-25T15:25:42.467435Z",
     "iopub.status.idle": "2024-08-25T15:25:42.496367Z",
     "shell.execute_reply": "2024-08-25T15:25:42.496005Z",
     "shell.execute_reply.started": "2024-08-25T15:25:42.468198Z"
    }
   },
   "outputs": [],
   "source": [
    "inputs = layers.Input((1,), dtype=tf.float32, name='input')\n",
    "d1 = layers.Dense(1, name='m3', activation=Activation(sinusoid), use_bias=False)(inputs)  # \"sinusoid\"\n",
    "d2 = layers.Dense(1, name='m1', use_bias=True)(inputs)\n",
    "d3 = layers.Dense(1, name='m2', use_bias=False)(d1)\n",
    "output = layers.add((d2, d3), name='output')\n",
    "model = tf.keras.Model(inputs, output, name='regressor')\n",
    "model.compile(optimizer = tf.keras.optimizers.Adam(learning_rate=0.0001), loss='mean_squared_error')\n",
    "model.summary()\n",
    "#visualkeras.graph_view(model)"
   ]
  },
  {
   "cell_type": "markdown",
   "id": "bfcd8f64",
   "metadata": {},
   "source": [
    "### layers visualization"
   ]
  },
  {
   "cell_type": "code",
   "execution_count": null,
   "id": "85a1118c",
   "metadata": {
    "ExecuteTime": {
     "end_time": "2024-08-27T14:03:18.858482Z",
     "start_time": "2024-08-27T14:03:18.773615Z"
    },
    "execution": {
     "iopub.execute_input": "2024-08-25T15:25:43.901195Z",
     "iopub.status.busy": "2024-08-25T15:25:43.900963Z",
     "iopub.status.idle": "2024-08-25T15:25:43.962280Z",
     "shell.execute_reply": "2024-08-25T15:25:43.961682Z",
     "shell.execute_reply.started": "2024-08-25T15:25:43.901157Z"
    }
   },
   "outputs": [],
   "source": [
    "from keras.utils import plot_model\n",
    "plot_model(model)"
   ]
  },
  {
   "cell_type": "markdown",
   "id": "2d4b35b9",
   "metadata": {
    "ExecuteTime": {
     "end_time": "2024-08-14T06:06:59.143388Z",
     "start_time": "2024-08-14T06:06:59.134421Z"
    }
   },
   "source": [
    "### learn the network.  If the loss does not go below 10, restart training!"
   ]
  },
  {
   "cell_type": "code",
   "execution_count": null,
   "id": "20d8b6ac",
   "metadata": {
    "ExecuteTime": {
     "end_time": "2024-08-27T14:03:27.891534Z",
     "start_time": "2024-08-27T14:03:18.859762Z"
    },
    "execution": {
     "iopub.execute_input": "2024-08-25T15:26:18.409529Z",
     "iopub.status.busy": "2024-08-25T15:26:18.409322Z",
     "iopub.status.idle": "2024-08-25T15:26:23.582392Z",
     "shell.execute_reply": "2024-08-25T15:26:23.582023Z",
     "shell.execute_reply.started": "2024-08-25T15:26:18.409514Z"
    }
   },
   "outputs": [],
   "source": [
    "from tqdm.keras import TqdmCallback\n",
    "\n",
    "history = model.fit(reg_ds, epochs = 1000, verbose=0, callbacks=[TqdmCallback(verbose=0)])\n",
    "yhat8 = model.predict(reg_ds)\n",
    "\n",
    "plt.plot(history.history['loss'])\n",
    "plt.title('Loss')\n",
    "plt.ylabel('loss')\n",
    "plt.xlabel('epoch')\n",
    "plt.legend(['train'], loc='upper left')\n",
    "plt.show()\n",
    "\n",
    "model.weights"
   ]
  },
  {
   "cell_type": "markdown",
   "id": "ef99c52f",
   "metadata": {},
   "source": [
    "### plot and compare the fits through OLS and TF/GD"
   ]
  },
  {
   "cell_type": "code",
   "execution_count": null,
   "id": "b741c117",
   "metadata": {
    "ExecuteTime": {
     "end_time": "2024-08-27T14:03:27.969599Z",
     "start_time": "2024-08-27T14:03:27.892531Z"
    },
    "execution": {
     "iopub.execute_input": "2024-08-25T15:26:24.635624Z",
     "iopub.status.busy": "2024-08-25T15:26:24.635383Z",
     "iopub.status.idle": "2024-08-25T15:26:24.727729Z",
     "shell.execute_reply": "2024-08-25T15:26:24.727291Z",
     "shell.execute_reply.started": "2024-08-25T15:26:24.635608Z"
    }
   },
   "outputs": [],
   "source": [
    "plt.plot(y2.x, y2.y, 'r+')\n",
    "yhat1 = predict(beta, y2.x)\n",
    "plt.plot(y2.x, yhat3, 'b-')\n",
    "plt.plot(y2.x, yhat8, 'g-')\n",
    "plt.ylabel('Stock Price')\n",
    "plt.xlabel('Time')\n",
    "plt.legend(['Stock Price', 'SinusoidFit+OLS', 'SinusoidFit+GD'], loc='upper left')\n",
    "plt.show()"
   ]
  },
  {
   "cell_type": "markdown",
   "id": "62264503",
   "metadata": {
    "execution": {
     "iopub.execute_input": "2024-08-25T15:26:28.403867Z",
     "iopub.status.busy": "2024-08-25T15:26:28.403625Z",
     "iopub.status.idle": "2024-08-25T15:26:28.407832Z",
     "shell.execute_reply": "2024-08-25T15:26:28.407269Z",
     "shell.execute_reply.started": "2024-08-25T15:26:28.403852Z"
    }
   },
   "source": [
    "### let's try using locally weighted regression"
   ]
  },
  {
   "cell_type": "markdown",
   "id": "425a8ed4",
   "metadata": {
    "execution": {
     "iopub.execute_input": "2024-08-25T15:54:22.453878Z",
     "iopub.status.busy": "2024-08-25T15:54:22.453523Z",
     "iopub.status.idle": "2024-08-25T15:54:22.459392Z",
     "shell.execute_reply": "2024-08-25T15:54:22.458671Z",
     "shell.execute_reply.started": "2024-08-25T15:54:22.453852Z"
    }
   },
   "source": [
    "Instead of fitting a single regression line, we find a nearest points to the given data point X using a kernel function (to compute weights) and fit the model for it, we do this for every single point, therfore this model results in smooth curve.\n",
    "\n",
    "$h(x_0) = x_0^\\top\\hat\\beta(x_0)$\n",
    "\n",
    "$\\hat\\beta(x_0)=\\arg\\min_\\beta\\sum_{x,y}w(x,x_0)(y-x^\\top\\beta)^2$\n",
    "\n",
    "$w(x,x_0)=\\exp\\left(-\\frac{\\|x-x_0\\|^2}{2\\tau^2}\\right)$\n",
    "\n",
    "$\\hat\\beta(x_0)=\\frac{X^\\top Wy}{X^\\top WX}$\n",
    "\n",
    "\n"
   ]
  },
  {
   "cell_type": "markdown",
   "id": "3be95837",
   "metadata": {},
   "source": [
    "__let's recall the dataset.  Let's use the scaled version of the 'x' axis__"
   ]
  },
  {
   "cell_type": "code",
   "execution_count": null,
   "id": "601b0417",
   "metadata": {
    "ExecuteTime": {
     "end_time": "2024-08-27T14:14:25.473239Z",
     "start_time": "2024-08-27T14:14:25.468762Z"
    },
    "execution": {
     "iopub.execute_input": "2024-08-25T16:59:22.281134Z",
     "iopub.status.busy": "2024-08-25T16:59:22.280924Z",
     "iopub.status.idle": "2024-08-25T16:59:22.285023Z",
     "shell.execute_reply": "2024-08-25T16:59:22.284602Z",
     "shell.execute_reply.started": "2024-08-25T16:59:22.281119Z"
    }
   },
   "outputs": [],
   "source": [
    "# the LWR method works seamless for the original x values and the scaled version.\n",
    "# just that, we have to tune the \\tau value appropriately to handle the scale.\n",
    "yy = np.array(y21.y) \n",
    "xx = np.array(y21[[\"x\"]]).reshape((y21.shape[0],))  # no need for \"bias\", as our GD method factors it already."
   ]
  },
  {
   "cell_type": "markdown",
   "id": "838d94b5",
   "metadata": {},
   "source": [
    "Given a dataset X, y, we attempt to find a model h(x) that minimizes residual sum of weighted squared errors. The weights are given by a kernel function $w^{(i)}=\\exp\\left(-\\frac{\\|x^{(i)}-x\\|^2}{2\\tau^2}\\right)$ "
   ]
  },
  {
   "cell_type": "code",
   "execution_count": null,
   "id": "8fbb2ccf",
   "metadata": {
    "ExecuteTime": {
     "end_time": "2024-08-27T14:04:25.452303Z",
     "start_time": "2024-08-27T14:04:25.449377Z"
    },
    "execution": {
     "iopub.execute_input": "2024-08-25T16:59:22.868129Z",
     "iopub.status.busy": "2024-08-25T16:59:22.867914Z",
     "iopub.status.idle": "2024-08-25T16:59:22.871793Z",
     "shell.execute_reply": "2024-08-25T16:59:22.871291Z",
     "shell.execute_reply.started": "2024-08-25T16:59:22.868113Z"
    }
   },
   "outputs": [],
   "source": [
    "def gaussian_kernel(xi,X,tau):\n",
    "    # compute the kernel distances\n",
    "    num = np.exp(-(xi-X)**2/(2*tau**2))\n",
    "    # normalize the distance\n",
    "    return num/np.sum(num)"
   ]
  },
  {
   "cell_type": "markdown",
   "id": "a486a72a",
   "metadata": {},
   "source": [
    "Let's implement the LWR using $\\hat\\beta(x_0)=\\frac{X^\\top Wy}{X^\\top WX}$ for a data point"
   ]
  },
  {
   "cell_type": "code",
   "execution_count": null,
   "id": "acfbb83c",
   "metadata": {
    "ExecuteTime": {
     "end_time": "2024-08-27T14:04:26.453497Z",
     "start_time": "2024-08-27T14:04:26.449498Z"
    },
    "execution": {
     "iopub.execute_input": "2024-08-25T16:59:23.576932Z",
     "iopub.status.busy": "2024-08-25T16:59:23.576725Z",
     "iopub.status.idle": "2024-08-25T16:59:23.580722Z",
     "shell.execute_reply": "2024-08-25T16:59:23.580220Z",
     "shell.execute_reply.started": "2024-08-25T16:59:23.576917Z"
    }
   },
   "outputs": [],
   "source": [
    "def LWR(xi, X, y, tau):\n",
    "    weights = gaussian_kernel(xi, X, tau)    \n",
    "    Phi = np.column_stack((np.ones(len(X)), X))\n",
    "    W = np.diag(weights)\n",
    "    theta = np.linalg.inv(Phi.T @ W @ Phi) @ Phi.T @ W @ y\n",
    "    return np.array([1,xi]) @ theta"
   ]
  },
  {
   "cell_type": "markdown",
   "id": "c2cdb635",
   "metadata": {},
   "source": [
    "Predicting is a matter of repeating LWR for every point from the given test data set."
   ]
  },
  {
   "cell_type": "code",
   "execution_count": null,
   "id": "65e94998",
   "metadata": {
    "ExecuteTime": {
     "end_time": "2024-08-27T14:04:27.289470Z",
     "start_time": "2024-08-27T14:04:27.285693Z"
    },
    "execution": {
     "iopub.execute_input": "2024-08-25T16:59:24.806705Z",
     "iopub.status.busy": "2024-08-25T16:59:24.806496Z",
     "iopub.status.idle": "2024-08-25T16:59:24.810804Z",
     "shell.execute_reply": "2024-08-25T16:59:24.810140Z",
     "shell.execute_reply.started": "2024-08-25T16:59:24.806690Z"
    }
   },
   "outputs": [],
   "source": [
    "def predict(X_test,X,y,tau=.1):\n",
    "    preds = np.zeros(X_test.shape[0])\n",
    "    for i in range(X_test.shape[0]):\n",
    "        preds[i] = LWR(X_test[i],X,y,tau)\n",
    "    return preds"
   ]
  },
  {
   "cell_type": "markdown",
   "id": "c95b21f0",
   "metadata": {},
   "source": [
    "__changing the value of $\\tau$ alters the smoothness of the fit.  When the $\\tau$ is close to zero, the fit is wiggly and when it is high, the fit gets smoother and ultimately becomes a straight line fit__"
   ]
  },
  {
   "cell_type": "code",
   "execution_count": null,
   "id": "7524ca42",
   "metadata": {
    "ExecuteTime": {
     "end_time": "2024-08-27T14:09:53.670535Z",
     "start_time": "2024-08-27T14:09:53.640447Z"
    },
    "execution": {
     "iopub.execute_input": "2024-08-25T17:01:11.376008Z",
     "iopub.status.busy": "2024-08-25T17:01:11.375800Z",
     "iopub.status.idle": "2024-08-25T17:01:11.407870Z",
     "shell.execute_reply": "2024-08-25T17:01:11.407118Z",
     "shell.execute_reply.started": "2024-08-25T17:01:11.375993Z"
    },
    "scrolled": true
   },
   "outputs": [],
   "source": [
    "y_preds = predict(xx,xx,yy,tau=2)\n",
    "loss = SSE(y_preds, yy)\n",
    "print(\"Loss =\", loss)"
   ]
  },
  {
   "cell_type": "code",
   "execution_count": null,
   "id": "5699535f",
   "metadata": {
    "ExecuteTime": {
     "end_time": "2024-08-27T14:09:53.906298Z",
     "start_time": "2024-08-27T14:09:53.816462Z"
    },
    "execution": {
     "iopub.execute_input": "2024-08-25T17:01:11.681637Z",
     "iopub.status.busy": "2024-08-25T17:01:11.681426Z",
     "iopub.status.idle": "2024-08-25T17:01:11.772590Z",
     "shell.execute_reply": "2024-08-25T17:01:11.772009Z",
     "shell.execute_reply.started": "2024-08-25T17:01:11.681623Z"
    }
   },
   "outputs": [],
   "source": [
    "plt.plot(xx, y2.y, 'r+')\n",
    "plt.plot(xx, yhat3, 'b-')\n",
    "plt.plot(xx, y_preds, 'k-')\n",
    "plt.ylabel('Stock Price')\n",
    "plt.xlabel('Time')\n",
    "plt.legend(['Stock Price', 'SinusoidFit+OLS', 'WeightedRegression'], loc='upper left')\n",
    "plt.show()"
   ]
  },
  {
   "cell_type": "markdown",
   "id": "6eee9588",
   "metadata": {},
   "source": [
    "### let's try the extrapolation usecase\n"
   ]
  },
  {
   "cell_type": "code",
   "execution_count": null,
   "id": "ceeb5d90",
   "metadata": {
    "ExecuteTime": {
     "end_time": "2024-08-27T14:13:35.021568Z",
     "start_time": "2024-08-27T14:13:35.018840Z"
    }
   },
   "outputs": [],
   "source": [
    "# our range is 0-225, let's stretch the range to do extrapolation.\n",
    "xx_extra = np.arange(0, 250, 1)"
   ]
  },
  {
   "cell_type": "code",
   "execution_count": null,
   "id": "aae4c818",
   "metadata": {
    "ExecuteTime": {
     "end_time": "2024-08-27T14:08:39.133538Z",
     "start_time": "2024-08-27T14:08:39.016080Z"
    }
   },
   "outputs": [],
   "source": [
    "y_preds_extra = predict(xx_extra, xx, yy, tau=2)\n",
    "plt.plot(xx, y2.y, 'r+')\n",
    "plt.plot(xx, yhat3, 'b-')\n",
    "plt.plot(xx_extra, y_preds_extra, 'k-')\n",
    "plt.ylabel('Stock Price')\n",
    "plt.xlabel('Time')\n",
    "plt.legend(['Stock Price', 'SinusoidFit+OLS', 'WeightedRegression'], loc='upper left')\n",
    "plt.show()"
   ]
  },
  {
   "cell_type": "markdown",
   "id": "5d137d0b",
   "metadata": {},
   "source": [
    "__clearly the extrapolation use is not working at all!!__\n",
    "\n",
    "Nonetheless, for interpolation usecases, the locally-weighted regression model would be of greater help.  If you look at the number of parameters learned during the prediction of training data, we see that there are 2 parameter per data points and hence 2 * N parameters in total.  But, to make a prediction for one test point, we learn the model using the weighted neighbors and make the prediction for the supplied input. So, technically, the behaviour is parameter-less!  Also, the LWR can be considered as a variation of the kNN (lazy modeling)."
   ]
  },
  {
   "cell_type": "markdown",
   "id": "d7b6bccf",
   "metadata": {},
   "source": [
    "When data is ${x_1, x_2, ..., x_m}$ and labels are ${y_1, y_2, ..., y_m}$, the dumbest estimate of output is given by $ y = \\frac{1}{m}\\sum_{i=1}^{m}y_i$.  A better way to modeling is to weight the labels according to the location (Watson, Nadaraya, 1964) as $y = \\sum_{i=1}^m \\alpha(x, x_i)y_i$, where $\\alpha$ can be modeled as a kernel function $k(x_i, x)$ such as Gaussian (see above for the Gaussian weighting function).  It is worthy to note that the formation is of the type Query, Key, Value (as in Transformers).  Here $x$ is the *Query*, $x_i$ is the *Key* and $y_i$ is the *Value*.  We may extend the weighting function by normalizing it into $\\alpha_i(x) = \\frac{k(x_i, x)}{\\sum_j k(x_j, x)}$. Using all the components the model of the regression line becomes $f(x) = \\sum_i y_i \\alpha_i(x) = \\sum_i y_i \\frac{k(x_i, x)}{\\sum_j k(x_j, x)}$"
   ]
  },
  {
   "cell_type": "code",
   "execution_count": null,
   "id": "3a501c14",
   "metadata": {},
   "outputs": [],
   "source": [
    "# implementing the above idea.\n",
    "def WReg(X_test, X, y, tau):\n",
    "    preds = []\n",
    "    for x_t in X_test:\n",
    "        num = gaussian_kernel(x_t, X, tau)\n",
    "        ratio = num / np.sum(num)\n",
    "        pred = np.sum(ratio * y)\n",
    "        preds.append(pred)\n",
    "    return np.array(preds)"
   ]
  },
  {
   "cell_type": "code",
   "execution_count": null,
   "id": "fc1865ba",
   "metadata": {},
   "outputs": [],
   "source": [
    "# making predictions\n",
    "y_preds_v2 = WReg(xx,xx,yy,tau=2)\n",
    "loss = SSE(y_preds_v2, yy)\n",
    "print(\"Loss =\", loss)"
   ]
  },
  {
   "cell_type": "code",
   "execution_count": null,
   "id": "1ebb17bb",
   "metadata": {},
   "outputs": [],
   "source": [
    "# plot and compare\n",
    "plt.plot(xx, y2.y, 'r+')\n",
    "plt.plot(xx, y_preds, 'k-')\n",
    "plt.plot(xx, y_preds_v2, 'g-')\n",
    "plt.ylabel('Stock Price')\n",
    "plt.xlabel('Time')\n",
    "plt.legend(['Stock Price', 'WeightedRegression', 'WeightedRegression_v2'], loc='upper left')\n",
    "plt.show()"
   ]
  },
  {
   "cell_type": "markdown",
   "id": "2b1d1e53",
   "metadata": {},
   "source": [
    "__The plots are identical for the same $\\tau$ setting into both approaches. Green line is on top of the Black line, FYI.__"
   ]
  },
  {
   "cell_type": "code",
<<<<<<< Updated upstream
   "execution_count": 1,
   "id": "9c66cdbc",
   "metadata": {},
   "outputs": [],
   "source": [
    "import numpy as np"
   ]
  },
  {
   "cell_type": "code",
   "execution_count": 4,
   "id": "7af3dc55",
   "metadata": {},
   "outputs": [],
   "source": [
    "x = np.array([-3,1,0.5,3.2,6.4,-2.8,1.6,-4.2])\n",
    "y = np.array([-6.1,9.8,6.2,18.5,30.8,-4.9,12.1,-10.1])"
   ]
  },
  {
   "cell_type": "code",
   "execution_count": 5,
   "id": "faaa2857",
   "metadata": {},
   "outputs": [],
   "source": [
    "import matplotlib.pyplot as plt\n",
    "import seaborn as sns"
   ]
  },
  {
   "cell_type": "code",
   "execution_count": 6,
   "id": "8eb02128",
   "metadata": {},
   "outputs": [
    {
     "data": {
      "image/png": "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",
      "text/plain": [
       "<Figure size 800x500 with 1 Axes>"
      ]
     },
     "metadata": {},
     "output_type": "display_data"
    }
   ],
   "source": [
    "# Plot\n",
    "plt.figure(figsize=(8, 5))\n",
    "plt.scatter(x, y, color='blue', label='Data Points')\n",
    "plt.title('Scatter Plot of x vs y')\n",
    "plt.xlabel('x')\n",
    "plt.ylabel('y')\n",
    "plt.grid(True)\n",
    "plt.legend()\n",
    "plt.show()"
   ]
  },
  {
   "cell_type": "code",
   "execution_count": 29,
   "id": "1551f133",
   "metadata": {},
   "outputs": [],
   "source": [
    "m = [4,5,6,7,8]\n",
    "c = [3,4,5,6,7]"
   ]
  },
  {
   "cell_type": "code",
   "execution_count": 33,
   "id": "4f58b9b0",
   "metadata": {},
   "outputs": [],
   "source": [
    "error = []\n",
    "err = []\n",
    "min_value = float('inf')\n",
    "for i in range(len(m)):\n",
    "    for j in range(len(c)):\n",
    "        y_pred = (x*m[i]) + c[j]\n",
    "        avg_err = np.mean(np.abs(y - y_pred))\n",
    "        error.append(avg_err)\n",
    "        # average absolute error\n",
    "        if avg_err < min_value:\n",
    "            min_value = avg_err\n",
    "            best_m = m[i]\n",
    "            best_c = c[j]\n",
    "        \n",
    "        "
   ]
  },
  {
   "cell_type": "code",
   "execution_count": 34,
   "id": "098c577a",
   "metadata": {},
   "outputs": [
    {
     "data": {
      "text/plain": [
       "3"
      ]
     },
     "execution_count": 34,
     "metadata": {},
     "output_type": "execute_result"
    }
   ],
   "source": [
    "np.argmin(error)"
   ]
  },
  {
   "cell_type": "code",
   "execution_count": 35,
   "id": "29a9a1a1",
   "metadata": {},
   "outputs": [
    {
     "data": {
      "text/plain": [
       "[2.6875,\n",
       " 1.6875,\n",
       " 0.8874999999999998,\n",
       " 0.5625000000000001,\n",
       " 1.3125,\n",
       " 3.525,\n",
       " 3.0999999999999996,\n",
       " 3.125,\n",
       " 3.375,\n",
       " 3.625,\n",
       " 5.712500000000002,\n",
       " 5.712500000000001,\n",
       " 5.962500000000001,\n",
       " 6.212500000000001,\n",
       " 6.462500000000001,\n",
       " 8.3,\n",
       " 8.55,\n",
       " 8.8,\n",
       " 9.05,\n",
       " 9.3,\n",
       " 11.137500000000001,\n",
       " 11.387500000000001,\n",
       " 11.637500000000001,\n",
       " 11.8875,\n",
       " 12.1375]"
      ]
     },
     "execution_count": 35,
     "metadata": {},
     "output_type": "execute_result"
    }
   ],
   "source": [
    "error"
   ]
  },
  {
   "cell_type": "code",
   "execution_count": 36,
   "id": "8b01d695",
   "metadata": {},
   "outputs": [
    {
     "data": {
      "text/plain": [
       "(4, 6)"
      ]
     },
     "execution_count": 36,
     "metadata": {},
     "output_type": "execute_result"
    }
   ],
   "source": [
    "best_m,best_c"
   ]
  },
  {
   "cell_type": "code",
   "execution_count": 37,
   "id": "e2606e3f",
   "metadata": {},
   "outputs": [
    {
     "data": {
      "image/png": "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",
      "text/plain": [
       "<Figure size 800x500 with 1 Axes>"
      ]
     },
     "metadata": {},
     "output_type": "display_data"
    }
   ],
   "source": [
    "# Line parameters\n",
    "m = best_m\n",
    "c = best_c\n",
    "line_y = m * x + c\n",
    "\n",
    "# Plot\n",
    "plt.figure(figsize=(8, 5))\n",
    "plt.scatter(x, y, color='blue', label='Data Points')\n",
    "plt.plot(x, line_y, color='red', label='y = 2x', linewidth=2)\n",
    "plt.title('Scatter Plot with y = 2x Line')\n",
    "plt.xlabel('x')\n",
    "plt.ylabel('y')\n",
    "plt.grid(True)\n",
    "plt.legend()\n",
    "plt.show()"
   ]
  },
  {
   "cell_type": "code",
   "execution_count": 38,
   "id": "f55b3107",
   "metadata": {},
   "outputs": [
    {
     "data": {
      "image/png": "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",
      "text/plain": [
       "<Figure size 800x500 with 1 Axes>"
      ]
     },
     "metadata": {},
     "output_type": "display_data"
    }
   ],
   "source": [
    "# Line parameters\n",
    "m = 2\n",
    "c = 0\n",
    "line_y = m * x + c\n",
    "\n",
    "# Plot\n",
    "plt.figure(figsize=(8, 5))\n",
    "plt.scatter(x, y, color='blue', label='Data Points')\n",
    "plt.plot(x, line_y, color='red', label='y = 2x', linewidth=2)\n",
    "plt.title('Scatter Plot with y = 2x Line')\n",
    "plt.xlabel('x')\n",
    "plt.ylabel('y')\n",
    "plt.grid(True)\n",
    "plt.legend()\n",
    "plt.show()"
   ]
  },
  {
   "cell_type": "code",
   "execution_count": 39,
   "id": "27936dd8",
   "metadata": {},
   "outputs": [
    {
     "name": "stdout",
     "output_type": "stream",
     "text": [
      "Closed-form: slope (m) = 3.8838, intercept (c) = 5.7267\n"
     ]
    },
    {
     "data": {
      "image/png": "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",
      "text/plain": [
       "<Figure size 640x480 with 1 Axes>"
      ]
     },
     "metadata": {},
     "output_type": "display_data"
    }
   ],
   "source": [
    "import numpy as np\n",
    "import matplotlib.pyplot as plt\n",
    "\n",
    "# Your data\n",
    "x = np.array([-3, 1, 0.5, 3.2, 6.4, -2.8, 1.6, -4.2])\n",
    "y = np.array([-6.1, 9.8, 6.2, 18.5, 30.8, -4.9, 12.1, -10.1])\n",
    "\n",
    "# Add a column of ones to x to represent the intercept (bias) term\n",
    "X = np.vstack([x, np.ones(len(x))]).T  # shape: (n_samples, 2)\n",
    "\n",
    "# Closed-form solution: w = (X^T X)^(-1) X^T y\n",
    "w = np.linalg.inv(X.T @ X) @ X.T @ y\n",
    "\n",
    "# Extract slope and intercept\n",
    "m_closed, c_closed = w\n",
    "print(f\"Closed-form: slope (m) = {m_closed:.4f}, intercept (c) = {c_closed:.4f}\")\n",
    "\n",
    "# Plot\n",
    "plt.scatter(x, y, color='blue', label='Data')\n",
    "plt.plot(x, m_closed * x + c_closed, color='red', label='Best Fit Line (Closed Form)')\n",
    "plt.xlabel('x')\n",
    "plt.ylabel('y')\n",
    "plt.title('Linear Fit using Closed-Form Solution')\n",
    "plt.legend()\n",
    "plt.grid(True)\n",
    "plt.show()\n"
   ]
  },
  {
   "cell_type": "code",
   "execution_count": null,
   "id": "23d7e7b1",
=======
   "execution_count": null,
   "id": "9c66cdbc",
>>>>>>> Stashed changes
   "metadata": {},
   "outputs": [],
   "source": []
  }
 ],
 "metadata": {
  "kernelspec": {
   "display_name": "Python 3 (ipykernel)",
   "language": "python",
   "name": "python3"
  },
  "language_info": {
   "codemirror_mode": {
    "name": "ipython",
    "version": 3
   },
   "file_extension": ".py",
   "mimetype": "text/x-python",
   "name": "python",
   "nbconvert_exporter": "python",
   "pygments_lexer": "ipython3",
   "version": "3.10.9"
  },
  "varInspector": {
   "cols": {
    "lenName": 16,
    "lenType": 16,
    "lenVar": 40
   },
   "kernels_config": {
    "python": {
     "delete_cmd_postfix": "",
     "delete_cmd_prefix": "del ",
     "library": "var_list.py",
     "varRefreshCmd": "print(var_dic_list())"
    },
    "r": {
     "delete_cmd_postfix": ") ",
     "delete_cmd_prefix": "rm(",
     "library": "var_list.r",
     "varRefreshCmd": "cat(var_dic_list()) "
    }
   },
   "types_to_exclude": [
    "module",
    "function",
    "builtin_function_or_method",
    "instance",
    "_Feature"
   ],
   "window_display": false
  }
 },
 "nbformat": 4,
 "nbformat_minor": 5
}
