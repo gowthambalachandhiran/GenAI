{
  "cells": [
    {
      "cell_type": "markdown",
      "metadata": {
        "id": "p6m1M9Cb1OdT"
      },
      "source": [
        "\n"
      ]
    },
    {
      "cell_type": "code",
      "execution_count": null,
      "metadata": {
        "id": "8VRxmfxe1FTi"
      },
      "outputs": [],
      "source": [
        "import numpy as np"
      ]
    },
    {
      "cell_type": "code",
      "execution_count": null,
      "metadata": {
        "id": "alCqDRlH3hNM"
      },
      "outputs": [],
      "source": [
        "# create a 2d vector as an array\n",
        "x = np.array([3,4])"
      ]
    },
    {
      "cell_type": "code",
      "execution_count": null,
      "metadata": {
        "id": "F3sQEGB_3kms"
      },
      "outputs": [],
      "source": [
        "import math \n",
        "\n",
        "# implement a method to compute the magnitude of a vector\n",
        "def vector_norm(vector):\n",
        "    squares = [elements**2 for elements in vector]\n",
        "    return math.sqrt(sum(squares))"
      ]
    },
    {
      "cell_type": "code",
      "execution_count": null,
      "metadata": {
        "id": "0Hag9wcH383c"
      },
      "outputs": [],
      "source": [
        "# compute the norm of the vector\n",
        "vector_norm(x)"
      ]
    },
    {
      "cell_type": "code",
      "execution_count": null,
      "metadata": {
        "id": "hqT8iEgj3_Sy"
      },
      "outputs": [],
      "source": [
        "# let's use the linear algebra package to compute the same\n",
        "from numpy import linalg \n",
        "linalg.norm(x)"
      ]
    },
    {
      "cell_type": "markdown",
      "metadata": {
        "id": "QHqC4sZh4Ugo"
      },
      "source": [
        "### NumPy linear algebra functions\n",
        "https://numpy.org/doc/stable/reference/routines.linalg.html"
      ]
    },
    {
      "cell_type": "code",
      "execution_count": null,
      "metadata": {
        "id": "1dm2jbva4K9A"
      },
      "outputs": [],
      "source": [
        "# create another vector y\n",
        "y = np.array([2,3])"
      ]
    },
    {
      "cell_type": "code",
      "execution_count": null,
      "metadata": {
        "id": "h9797Fah4jbL"
      },
      "outputs": [],
      "source": [
        "# compute the dot product of x and y\n",
        "np.dot(x,y)"
      ]
    },
    {
      "cell_type": "code",
      "execution_count": null,
      "metadata": {
        "id": "Y1xplS5q4lTA"
      },
      "outputs": [],
      "source": [
        "# check if dot product is commutative\n",
        "np.dot(x,y) == np.dot(y,x)"
      ]
    },
    {
      "cell_type": "code",
      "execution_count": null,
      "metadata": {
        "id": "H5lYDvKJ4qcM"
      },
      "outputs": [],
      "source": [
        "# create a matrix of shape 2x2\n",
        "A = np.array([[1,2,3],[4,5,6]])\n",
        "print(A)"
      ]
    },
    {
      "cell_type": "code",
      "execution_count": null,
      "metadata": {
        "id": "BsnCBBZO4wEk"
      },
      "outputs": [],
      "source": [
        "# create an array and reshape it to a matrix\n",
        "x = np.array([2,4,5]).reshape(-1,1)\n",
        "print(x)"
      ]
    },
    {
      "cell_type": "code",
      "execution_count": null,
      "metadata": {
        "id": "NTIXPURu43xE"
      },
      "outputs": [],
      "source": [
        "# perform matrix multiplation\n",
        "z = np.matmul(A,x)\n",
        "print(z)"
      ]
    },
    {
      "cell_type": "code",
      "execution_count": null,
      "metadata": {
        "id": "ncb_cJ3z49RO"
      },
      "outputs": [],
      "source": [
        "A.shape, x.shape, z.shape"
      ]
    },
    {
      "cell_type": "code",
      "execution_count": null,
      "metadata": {
        "id": "j0YkC-N85KZA"
      },
      "outputs": [],
      "source": [
        "# create more matrices\n",
        "D = np.array([\n",
        "            [2, 3, 5, 7],\n",
        "            [11, 13, 17, 19],\n",
        "            [23, 29, 31, 37]\n",
        "])\n",
        "\n",
        "A = np.array([[3], [4], [5]])"
      ]
    },
    {
      "cell_type": "code",
      "execution_count": null,
      "metadata": {
        "id": "h5rY92-N5kzt"
      },
      "outputs": [],
      "source": [
        "# attempt to perform an invalid matrix operation\n",
        "try:\n",
        "    np.matmul(D, A)\n",
        "except ValueError as e:\n",
        "    print(\"ValueError\", e)"
      ]
    },
    {
      "cell_type": "code",
      "execution_count": null,
      "metadata": {
        "id": "xRzOZN-F57lY"
      },
      "outputs": [],
      "source": [
        "# create matrix F 3x2\n",
        "F = np.array([[5,2],\n",
        "              [4,1],\n",
        "              [9,3]])\n",
        "print(F)"
      ]
    },
    {
      "cell_type": "code",
      "execution_count": null,
      "metadata": {
        "id": "hHQEwAr76coM"
      },
      "outputs": [],
      "source": [
        "# create a matrix A 2x3\n",
        "A = np.array([\n",
        "        [10, 20, 30],\n",
        "        [40, 50, 60]\n",
        "])\n",
        "print(A)"
      ]
    },
    {
      "cell_type": "code",
      "execution_count": null,
      "metadata": {
        "id": "cSeM0iFj6l_q"
      },
      "outputs": [],
      "source": [
        "# perform a dot product with the rows and colums (equivalent to matmul??)\n",
        "A.dot(F)"
      ]
    },
    {
      "cell_type": "code",
      "execution_count": null,
      "metadata": {},
      "outputs": [],
      "source": [
        "# check if the matmul gives the same values\n",
        "np.matmul(A, F)"
      ]
    },
    {
      "cell_type": "code",
      "execution_count": null,
      "metadata": {
        "id": "F_SSDKoR6sGM"
      },
      "outputs": [],
      "source": [
        "# what if we swap the operands? \n",
        "F.dot(A)"
      ]
    },
    {
      "cell_type": "code",
      "execution_count": null,
      "metadata": {},
      "outputs": [],
      "source": [
        "# Is that also an equivalent of matmul?\n",
        "np.matmul(F, A)"
      ]
    },
    {
      "cell_type": "code",
      "execution_count": null,
      "metadata": {
        "id": "9AriEnfi6trq"
      },
      "outputs": [],
      "source": [
        "# let's study the transpose.\n",
        "A"
      ]
    },
    {
      "cell_type": "code",
      "execution_count": null,
      "metadata": {
        "id": "IpyBP3S46yLV"
      },
      "outputs": [],
      "source": [
        "A.T"
      ]
    },
    {
      "cell_type": "code",
      "execution_count": null,
      "metadata": {
        "id": "bzyMfajZ6y1w"
      },
      "outputs": [],
      "source": [
        "# create another square matrix\n",
        "E = np.array([[1,1.5], [0,1]])\n",
        "print(E)"
      ]
    },
    {
      "cell_type": "code",
      "execution_count": null,
      "metadata": {
        "id": "uYWWPGNG63xE"
      },
      "outputs": [],
      "source": [
        "# let's compute the inverse of the matrix\n",
        "E_inv = linalg.inv(E)\n",
        "print(E_inv)"
      ]
    },
    {
      "cell_type": "code",
      "execution_count": null,
      "metadata": {
        "id": "-ogby2_768ZV"
      },
      "outputs": [],
      "source": [
        "# if we multiple the E with its inverse, we should get an identity matrix\n",
        "np.matmul(E, E_inv) "
      ]
    },
    {
      "cell_type": "code",
      "execution_count": null,
      "metadata": {
        "id": "5Biwhrpn6_B0"
      },
      "outputs": [],
      "source": [
        "# check if we did get an identity matrix.\n",
        "np.matmul(E, E_inv)  == np.eye(2)"
      ]
    },
    {
      "cell_type": "code",
      "execution_count": null,
      "metadata": {
        "id": "7D7QhwU07YOh"
      },
      "outputs": [],
      "source": [
        "np.eye(2)"
      ]
    },
    {
      "cell_type": "markdown",
      "metadata": {
        "id": "DxSyNMVW711A"
      },
      "source": [
        "How to extract all numbers between a given range from a numpy array?\n"
      ]
    },
    {
      "cell_type": "code",
      "execution_count": null,
      "metadata": {
        "id": "J8H1FAmw7dmY"
      },
      "outputs": [],
      "source": [
        "# Get all numbers between 8 and 12\n",
        "a = np.array([2, 6, 1, 9, 10, 3, 27])"
      ]
    },
    {
      "cell_type": "code",
      "execution_count": null,
      "metadata": {
        "id": "jVp8NSRM8ATD"
      },
      "outputs": [],
      "source": [
        "index = np.where(np.logical_and(a >= 8, a <=12))\n",
        "print(index)"
      ]
    },
    {
      "cell_type": "code",
      "execution_count": null,
      "metadata": {
        "id": "y1xcW5lu8Ip0"
      },
      "outputs": [],
      "source": [
        "a[index]"
      ]
    },
    {
      "cell_type": "code",
      "execution_count": null,
      "metadata": {
        "id": "jSNaq5Qw9mHG"
      },
      "outputs": [],
      "source": [
        "c = np.array([1,2,3])"
      ]
    },
    {
      "cell_type": "markdown",
      "metadata": {},
      "source": [
        "Compute the mean, median and standard deviation of an array"
      ]
    },
    {
      "cell_type": "code",
      "execution_count": null,
      "metadata": {
        "id": "-2rUcruH93pR"
      },
      "outputs": [],
      "source": [
        "mu, med, sd = np.mean(c), np.median(c), np.std(c)\n",
        "print(mu, med, sd)"
      ]
    },
    {
      "cell_type": "code",
      "execution_count": null,
      "metadata": {
        "id": "RBBY16qz9667"
      },
      "outputs": [],
      "source": [
        "# compute s.d by the formula\n",
        "math.sqrt(sum([(item - mu)**2 for item in c])/3)"
      ]
    },
    {
      "cell_type": "code",
      "execution_count": null,
      "metadata": {
        "id": "gpvObcdq-S62"
      },
      "outputs": [],
      "source": [
        "# compute the standardized variables x - mu / sigma.\n",
        "d = (c - mu)/sd\n",
        "print(d)"
      ]
    },
    {
      "cell_type": "code",
      "execution_count": null,
      "metadata": {
        "id": "ATc-z7xp-ZD1"
      },
      "outputs": [],
      "source": [
        "# mean should be 0 and sd should be 1 for standardized variables.\n",
        "print(np.mean(d), np.std(d))"
      ]
    },
    {
      "cell_type": "code",
      "execution_count": null,
      "metadata": {},
      "outputs": [],
      "source": []
    }
  ],
  "metadata": {
    "colab": {
      "name": "02_numpy_advanced.ipynb",
      "provenance": []
    },
    "kernelspec": {
      "display_name": "da5401",
      "language": "python",
      "name": "da5401"
    },
    "language_info": {
      "codemirror_mode": {
        "name": "ipython",
        "version": 3
      },
      "file_extension": ".py",
      "mimetype": "text/x-python",
      "name": "python",
      "nbconvert_exporter": "python",
      "pygments_lexer": "ipython3",
      "version": "3.10.16"
    }
  },
  "nbformat": 4,
  "nbformat_minor": 0
}
