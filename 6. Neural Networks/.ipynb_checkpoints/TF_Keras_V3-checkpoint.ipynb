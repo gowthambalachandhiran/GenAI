{
 "cells": [
  {
   "cell_type": "markdown",
   "metadata": {},
   "source": [
    "# TensorFlow and Keras"
   ]
  },
  {
   "cell_type": "code",
   "execution_count": 1,
   "metadata": {},
   "outputs": [
    {
     "name": "stdout",
     "output_type": "stream",
     "text": [
      "Requirement already satisfied: tensorflow in c:\\users\\gowtham.balachan\\appdata\\local\\anaconda3\\lib\\site-packages (2.12.0)\n",
      "Requirement already satisfied: tensorflow-intel==2.12.0 in c:\\users\\gowtham.balachan\\appdata\\local\\anaconda3\\lib\\site-packages (from tensorflow) (2.12.0)\n",
      "Requirement already satisfied: absl-py>=1.0.0 in c:\\users\\gowtham.balachan\\appdata\\local\\anaconda3\\lib\\site-packages (from tensorflow-intel==2.12.0->tensorflow) (1.4.0)\n",
      "Requirement already satisfied: astunparse>=1.6.0 in c:\\users\\gowtham.balachan\\appdata\\local\\anaconda3\\lib\\site-packages (from tensorflow-intel==2.12.0->tensorflow) (1.6.3)\n",
      "Requirement already satisfied: flatbuffers>=2.0 in c:\\users\\gowtham.balachan\\appdata\\local\\anaconda3\\lib\\site-packages (from tensorflow-intel==2.12.0->tensorflow) (23.3.3)\n",
      "Requirement already satisfied: gast<=0.4.0,>=0.2.1 in c:\\users\\gowtham.balachan\\appdata\\local\\anaconda3\\lib\\site-packages (from tensorflow-intel==2.12.0->tensorflow) (0.4.0)\n",
      "Requirement already satisfied: google-pasta>=0.1.1 in c:\\users\\gowtham.balachan\\appdata\\local\\anaconda3\\lib\\site-packages (from tensorflow-intel==2.12.0->tensorflow) (0.2.0)\n",
      "Requirement already satisfied: h5py>=2.9.0 in c:\\users\\gowtham.balachan\\appdata\\local\\anaconda3\\lib\\site-packages (from tensorflow-intel==2.12.0->tensorflow) (3.7.0)\n",
      "Requirement already satisfied: jax>=0.3.15 in c:\\users\\gowtham.balachan\\appdata\\local\\anaconda3\\lib\\site-packages (from tensorflow-intel==2.12.0->tensorflow) (0.4.8)\n",
      "Requirement already satisfied: libclang>=13.0.0 in c:\\users\\gowtham.balachan\\appdata\\local\\anaconda3\\lib\\site-packages (from tensorflow-intel==2.12.0->tensorflow) (16.0.0)\n",
      "Requirement already satisfied: numpy<1.24,>=1.22 in c:\\users\\gowtham.balachan\\appdata\\local\\anaconda3\\lib\\site-packages (from tensorflow-intel==2.12.0->tensorflow) (1.23.5)\n",
      "Requirement already satisfied: opt-einsum>=2.3.2 in c:\\users\\gowtham.balachan\\appdata\\local\\anaconda3\\lib\\site-packages (from tensorflow-intel==2.12.0->tensorflow) (3.3.0)\n",
      "Requirement already satisfied: packaging in c:\\users\\gowtham.balachan\\appdata\\local\\anaconda3\\lib\\site-packages (from tensorflow-intel==2.12.0->tensorflow) (23.2)\n",
      "Requirement already satisfied: protobuf!=4.21.0,!=4.21.1,!=4.21.2,!=4.21.3,!=4.21.4,!=4.21.5,<5.0.0dev,>=3.20.3 in c:\\users\\gowtham.balachan\\appdata\\local\\anaconda3\\lib\\site-packages (from tensorflow-intel==2.12.0->tensorflow) (4.25.1)\n",
      "Requirement already satisfied: setuptools in c:\\users\\gowtham.balachan\\appdata\\local\\anaconda3\\lib\\site-packages (from tensorflow-intel==2.12.0->tensorflow) (65.6.3)\n",
      "Requirement already satisfied: six>=1.12.0 in c:\\users\\gowtham.balachan\\appdata\\local\\anaconda3\\lib\\site-packages (from tensorflow-intel==2.12.0->tensorflow) (1.16.0)\n",
      "Requirement already satisfied: termcolor>=1.1.0 in c:\\users\\gowtham.balachan\\appdata\\local\\anaconda3\\lib\\site-packages (from tensorflow-intel==2.12.0->tensorflow) (2.3.0)\n",
      "Requirement already satisfied: typing-extensions>=3.6.6 in c:\\users\\gowtham.balachan\\appdata\\local\\anaconda3\\lib\\site-packages (from tensorflow-intel==2.12.0->tensorflow) (4.11.0)\n",
      "Requirement already satisfied: wrapt<1.15,>=1.11.0 in c:\\users\\gowtham.balachan\\appdata\\local\\anaconda3\\lib\\site-packages (from tensorflow-intel==2.12.0->tensorflow) (1.14.1)\n",
      "Requirement already satisfied: grpcio<2.0,>=1.24.3 in c:\\users\\gowtham.balachan\\appdata\\roaming\\python\\python310\\site-packages (from tensorflow-intel==2.12.0->tensorflow) (1.65.1)\n",
      "Requirement already satisfied: tensorboard<2.13,>=2.12 in c:\\users\\gowtham.balachan\\appdata\\local\\anaconda3\\lib\\site-packages (from tensorflow-intel==2.12.0->tensorflow) (2.12.2)\n",
      "Requirement already satisfied: tensorflow-estimator<2.13,>=2.12.0 in c:\\users\\gowtham.balachan\\appdata\\local\\anaconda3\\lib\\site-packages (from tensorflow-intel==2.12.0->tensorflow) (2.12.0)\n",
      "Requirement already satisfied: keras<2.13,>=2.12.0 in c:\\users\\gowtham.balachan\\appdata\\local\\anaconda3\\lib\\site-packages (from tensorflow-intel==2.12.0->tensorflow) (2.12.0)\n",
      "Requirement already satisfied: tensorflow-io-gcs-filesystem>=0.23.1 in c:\\users\\gowtham.balachan\\appdata\\local\\anaconda3\\lib\\site-packages (from tensorflow-intel==2.12.0->tensorflow) (0.31.0)\n",
      "Requirement already satisfied: wheel<1.0,>=0.23.0 in c:\\users\\gowtham.balachan\\appdata\\local\\anaconda3\\lib\\site-packages (from astunparse>=1.6.0->tensorflow-intel==2.12.0->tensorflow) (0.38.4)\n",
      "Requirement already satisfied: ml-dtypes>=0.0.3 in c:\\users\\gowtham.balachan\\appdata\\local\\anaconda3\\lib\\site-packages (from jax>=0.3.15->tensorflow-intel==2.12.0->tensorflow) (0.1.0)\n",
      "Requirement already satisfied: scipy>=1.7 in c:\\users\\gowtham.balachan\\appdata\\local\\anaconda3\\lib\\site-packages (from jax>=0.3.15->tensorflow-intel==2.12.0->tensorflow) (1.10.0)\n",
      "Requirement already satisfied: google-auth<3,>=1.6.3 in c:\\users\\gowtham.balachan\\appdata\\local\\anaconda3\\lib\\site-packages (from tensorboard<2.13,>=2.12->tensorflow-intel==2.12.0->tensorflow) (2.17.3)\n",
      "Requirement already satisfied: google-auth-oauthlib<1.1,>=0.5 in c:\\users\\gowtham.balachan\\appdata\\local\\anaconda3\\lib\\site-packages (from tensorboard<2.13,>=2.12->tensorflow-intel==2.12.0->tensorflow) (1.0.0)\n",
      "Requirement already satisfied: markdown>=2.6.8 in c:\\users\\gowtham.balachan\\appdata\\local\\anaconda3\\lib\\site-packages (from tensorboard<2.13,>=2.12->tensorflow-intel==2.12.0->tensorflow) (3.4.1)\n",
      "Requirement already satisfied: requests<3,>=2.21.0 in c:\\users\\gowtham.balachan\\appdata\\local\\anaconda3\\lib\\site-packages (from tensorboard<2.13,>=2.12->tensorflow-intel==2.12.0->tensorflow) (2.32.3)\n",
      "Requirement already satisfied: tensorboard-data-server<0.8.0,>=0.7.0 in c:\\users\\gowtham.balachan\\appdata\\local\\anaconda3\\lib\\site-packages (from tensorboard<2.13,>=2.12->tensorflow-intel==2.12.0->tensorflow) (0.7.0)\n",
      "Requirement already satisfied: tensorboard-plugin-wit>=1.6.0 in c:\\users\\gowtham.balachan\\appdata\\local\\anaconda3\\lib\\site-packages (from tensorboard<2.13,>=2.12->tensorflow-intel==2.12.0->tensorflow) (1.8.1)\n",
      "Requirement already satisfied: werkzeug>=1.0.1 in c:\\users\\gowtham.balachan\\appdata\\local\\anaconda3\\lib\\site-packages (from tensorboard<2.13,>=2.12->tensorflow-intel==2.12.0->tensorflow) (2.2.2)\n",
      "Requirement already satisfied: cachetools<6.0,>=2.0.0 in c:\\users\\gowtham.balachan\\appdata\\local\\anaconda3\\lib\\site-packages (from google-auth<3,>=1.6.3->tensorboard<2.13,>=2.12->tensorflow-intel==2.12.0->tensorflow) (5.3.0)\n",
      "Requirement already satisfied: pyasn1-modules>=0.2.1 in c:\\users\\gowtham.balachan\\appdata\\local\\anaconda3\\lib\\site-packages (from google-auth<3,>=1.6.3->tensorboard<2.13,>=2.12->tensorflow-intel==2.12.0->tensorflow) (0.2.8)\n",
      "Requirement already satisfied: rsa<5,>=3.1.4 in c:\\users\\gowtham.balachan\\appdata\\local\\anaconda3\\lib\\site-packages (from google-auth<3,>=1.6.3->tensorboard<2.13,>=2.12->tensorflow-intel==2.12.0->tensorflow) (4.9)\n",
      "Requirement already satisfied: requests-oauthlib>=0.7.0 in c:\\users\\gowtham.balachan\\appdata\\local\\anaconda3\\lib\\site-packages (from google-auth-oauthlib<1.1,>=0.5->tensorboard<2.13,>=2.12->tensorflow-intel==2.12.0->tensorflow) (1.3.1)\n",
      "Requirement already satisfied: charset-normalizer<4,>=2 in c:\\users\\gowtham.balachan\\appdata\\local\\anaconda3\\lib\\site-packages (from requests<3,>=2.21.0->tensorboard<2.13,>=2.12->tensorflow-intel==2.12.0->tensorflow) (2.0.4)\n",
      "Requirement already satisfied: idna<4,>=2.5 in c:\\users\\gowtham.balachan\\appdata\\local\\anaconda3\\lib\\site-packages (from requests<3,>=2.21.0->tensorboard<2.13,>=2.12->tensorflow-intel==2.12.0->tensorflow) (3.4)\n",
      "Requirement already satisfied: urllib3<3,>=1.21.1 in c:\\users\\gowtham.balachan\\appdata\\local\\anaconda3\\lib\\site-packages (from requests<3,>=2.21.0->tensorboard<2.13,>=2.12->tensorflow-intel==2.12.0->tensorflow) (1.26.14)\n",
      "Requirement already satisfied: certifi>=2017.4.17 in c:\\users\\gowtham.balachan\\appdata\\local\\anaconda3\\lib\\site-packages (from requests<3,>=2.21.0->tensorboard<2.13,>=2.12->tensorflow-intel==2.12.0->tensorflow) (2024.7.4)\n",
      "Requirement already satisfied: MarkupSafe>=2.1.1 in c:\\users\\gowtham.balachan\\appdata\\local\\anaconda3\\lib\\site-packages (from werkzeug>=1.0.1->tensorboard<2.13,>=2.12->tensorflow-intel==2.12.0->tensorflow) (2.1.1)\n",
      "Requirement already satisfied: pyasn1<0.5.0,>=0.4.6 in c:\\users\\gowtham.balachan\\appdata\\local\\anaconda3\\lib\\site-packages (from pyasn1-modules>=0.2.1->google-auth<3,>=1.6.3->tensorboard<2.13,>=2.12->tensorflow-intel==2.12.0->tensorflow) (0.4.8)\n",
      "Requirement already satisfied: oauthlib>=3.0.0 in c:\\users\\gowtham.balachan\\appdata\\local\\anaconda3\\lib\\site-packages (from requests-oauthlib>=0.7.0->google-auth-oauthlib<1.1,>=0.5->tensorboard<2.13,>=2.12->tensorflow-intel==2.12.0->tensorflow) (3.2.2)\n"
     ]
    },
    {
     "name": "stderr",
     "output_type": "stream",
     "text": [
      "WARNING: Ignoring invalid distribution -atplotlib (c:\\users\\gowtham.balachan\\appdata\\local\\anaconda3\\lib\\site-packages)\n",
      "WARNING: Ignoring invalid distribution -rotobuf (c:\\users\\gowtham.balachan\\appdata\\local\\anaconda3\\lib\\site-packages)\n",
      "WARNING: Ignoring invalid distribution -atplotlib (c:\\users\\gowtham.balachan\\appdata\\local\\anaconda3\\lib\\site-packages)\n",
      "WARNING: Ignoring invalid distribution -rotobuf (c:\\users\\gowtham.balachan\\appdata\\local\\anaconda3\\lib\\site-packages)\n",
      "WARNING: Ignoring invalid distribution -atplotlib (c:\\users\\gowtham.balachan\\appdata\\local\\anaconda3\\lib\\site-packages)\n",
      "WARNING: Ignoring invalid distribution -rotobuf (c:\\users\\gowtham.balachan\\appdata\\local\\anaconda3\\lib\\site-packages)\n",
      "\n",
      "[notice] A new release of pip is available: 24.2 -> 25.0.1\n",
      "[notice] To update, run: python.exe -m pip install --upgrade pip\n"
     ]
    }
   ],
   "source": [
    "#Uncomment and use it\n",
    "!pip install tensorflow"
   ]
  },
  {
   "cell_type": "code",
   "execution_count": 1,
   "metadata": {},
   "outputs": [],
   "source": [
    "import tensorflow as tf\n",
    "%matplotlib inline  "
   ]
  },
  {
   "cell_type": "markdown",
   "metadata": {},
   "source": [
    "## Tensors"
   ]
  },
  {
   "cell_type": "markdown",
   "metadata": {},
   "source": [
    "#### Constants"
   ]
  },
  {
   "cell_type": "markdown",
   "metadata": {},
   "source": [
    "tf.constant creates constant values, these values do not change\n",
    "or update during optimization process(training phase)"
   ]
  },
  {
   "cell_type": "code",
   "execution_count": 2,
   "metadata": {},
   "outputs": [
    {
     "name": "stdout",
     "output_type": "stream",
     "text": [
      "tf.Tensor([50 10], shape=(2,), dtype=int32)\n"
     ]
    }
   ],
   "source": [
    "a = tf.constant([50,10])\n",
    "print(a)"
   ]
  },
  {
   "cell_type": "markdown",
   "metadata": {},
   "source": [
    "Few things that we can do with the tensors at the runtime:\n",
    "1. Directly get a numpy value of the tensor\n",
    "2. dtype : data type of the tensor(int16/int32/float32/float64)\n",
    "3. shape: shape of the tensor"
   ]
  },
  {
   "cell_type": "code",
   "execution_count": 34,
   "metadata": {},
   "outputs": [
    {
     "name": "stdout",
     "output_type": "stream",
     "text": [
      "a in tensorflow ==> tf.Tensor([50 10], shape=(2,), dtype=int32)\n",
      "numpy value of a ==> [50 10]\n",
      "dtype of a ==> <dtype: 'int32'>\n",
      "shape of a ==> (2,)\n"
     ]
    }
   ],
   "source": [
    "print('a in tensorflow ==>', a)\n",
    "print('numpy value of a ==>', a.numpy())\n",
    "print('dtype of a ==>', a.dtype)\n",
    "print('shape of a ==>', a.shape)"
   ]
  },
  {
   "cell_type": "markdown",
   "metadata": {},
   "source": [
    "We can use inbuild tf.XX() function to create constant tensors, just like numpy."
   ]
  },
  {
   "cell_type": "code",
   "execution_count": 35,
   "metadata": {},
   "outputs": [
    {
     "name": "stdout",
     "output_type": "stream",
     "text": [
      "Tensor of Ones: \n",
      " tf.Tensor(\n",
      "[[1. 1.]\n",
      " [1. 1.]], shape=(2, 2), dtype=float32)\n",
      "Tensor of Zeros: \n",
      " tf.Tensor(\n",
      "[[0. 0.]\n",
      " [0. 0.]], shape=(2, 2), dtype=float32)\n",
      "Random normal values \n",
      " tf.Tensor(\n",
      "[[3.9231863 6.1468487]\n",
      " [8.150303  5.929065 ]\n",
      " [5.8310137 3.8419223]], shape=(3, 2), dtype=float32)\n"
     ]
    }
   ],
   "source": [
    "print('Tensor of Ones: \\n',tf.ones(shape=(2, 2)))\n",
    "print('Tensor of Zeros: \\n',tf.zeros(shape=(2, 2)))\n",
    "print('Random normal values \\n', tf.random.normal(shape=(3, 2),\n",
    "                                                  mean=5, \n",
    "                                                  stddev=1))"
   ]
  },
  {
   "cell_type": "markdown",
   "metadata": {},
   "source": [
    "### Variables"
   ]
  },
  {
   "cell_type": "markdown",
   "metadata": {},
   "source": [
    "We generally create a variable with some values, call it initialized values, \n",
    "convert this constant tensor into a variable and then mutate the variable by using special functions."
   ]
  },
  {
   "cell_type": "code",
   "execution_count": 36,
   "metadata": {},
   "outputs": [
    {
     "name": "stdout",
     "output_type": "stream",
     "text": [
      "<tf.Variable 'Variable:0' shape=() dtype=int32, numpy=5>\n"
     ]
    }
   ],
   "source": [
    "x = tf.Variable(5) # Simple variable\n",
    "print(x)"
   ]
  },
  {
   "cell_type": "code",
   "execution_count": 37,
   "metadata": {},
   "outputs": [
    {
     "name": "stdout",
     "output_type": "stream",
     "text": [
      "<tf.Variable 'Variable:0' shape=(2, 2) dtype=float32, numpy=\n",
      "array([[-0.01143519, -1.5703366 ],\n",
      "       [-1.0764749 , -1.5688355 ]], dtype=float32)>\n"
     ]
    }
   ],
   "source": [
    "#randomly initialized variable, like we need for our weights\n",
    "w = tf.Variable(tf.random.normal(shape=(2, 2))) \n",
    "print(w)"
   ]
  },
  {
   "cell_type": "code",
   "execution_count": 38,
   "metadata": {},
   "outputs": [
    {
     "name": "stdout",
     "output_type": "stream",
     "text": [
      "<tf.Variable 'Variable:0' shape=() dtype=int32, numpy=5>\n",
      "New value <tf.Variable 'UnreadVariable' shape=() dtype=int32, numpy=2>\n",
      "increment by 1 <tf.Variable 'UnreadVariable' shape=() dtype=int32, numpy=6>\n",
      "Decrement by 2 <tf.Variable 'UnreadVariable' shape=() dtype=int32, numpy=3>\n"
     ]
    }
   ],
   "source": [
    "m = tf.Variable(5) # Simple variable\n",
    "print(m)\n",
    "\n",
    "m = tf.Variable(5) \n",
    "print('New value', m.assign(2))\n",
    "\n",
    "m = tf.Variable(5) \n",
    "print('increment by 1', m.assign_add(1))\n",
    "\n",
    "m = tf.Variable(5) \n",
    "print('Decrement by 2', m.assign_sub(2))\n"
   ]
  },
  {
   "cell_type": "markdown",
   "metadata": {},
   "source": [
    "### Regression Model building in TensorFlow"
   ]
  },
  {
   "cell_type": "markdown",
   "metadata": {},
   "source": [
    "#This step is for data creation, x and y"
   ]
  },
  {
   "cell_type": "code",
   "execution_count": 40,
   "metadata": {},
   "outputs": [
    {
     "data": {
      "image/png": "[encoded data removed]",
      "text/plain": [
       "<Figure size 640x480 with 1 Axes>"
      ]
     },
     "metadata": {},
     "output_type": "display_data"
    }
   ],
   "source": [
    "#This step is for data creation, x and y\n",
    "import numpy as np\n",
    "x_train= np.array(range(5000,5100)).reshape(-1,1)\n",
    "\n",
    "\n",
    "y_train=[3*i+np.random.normal(500, 10) for i in x_train]\n",
    "\n",
    "import matplotlib.pyplot as plt\n",
    "plt.title(\"x_train vs y_train data\")\n",
    "plt.plot(x_train, y_train, 'b.')\n",
    "plt.show()"
   ]
  },
  {
   "cell_type": "code",
   "execution_count": 51,
   "metadata": {},
   "outputs": [
    {
     "name": "stdout",
     "output_type": "stream",
     "text": [
      "epoch : 0, loss  304549984.0,  W : [[-0.18097793]], b  [1.0000349]\n",
      "epoch : 1, loss  274280000.0,  W : [[-0.01372164]], b  [1.0000681]\n",
      "epoch : 2, loss  247018656.0,  W : [[0.14500514]], b  [1.0000995]\n",
      "epoch : 3, loss  222466864.0,  W : [[0.2956374]], b  [1.0001293]\n",
      "epoch : 4, loss  200355328.0,  W : [[0.4385879]], b  [1.0001576]\n",
      "epoch : 5, loss  180441536.0,  W : [[0.57424843]], b  [1.0001844]\n",
      "epoch : 6, loss  162507024.0,  W : [[0.7029908]], b  [1.0002099]\n",
      "epoch : 7, loss  146355056.0,  W : [[0.82516766]], b  [1.0002341]\n",
      "epoch : 8, loss  131808480.0,  W : [[0.94111395]], b  [1.0002571]\n",
      "epoch : 9, loss  118707712.0,  W : [[1.0511473]], b  [1.000279]\n",
      "epoch : 10, loss  106909072.0,  W : [[1.1555694]], b  [1.0002996]\n",
      "epoch : 11, loss  96283136.0,  W : [[1.2546663]], b  [1.0003192]\n",
      "epoch : 12, loss  86713320.0,  W : [[1.3487097]], b  [1.0003378]\n",
      "epoch : 13, loss  78094688.0,  W : [[1.4379572]], b  [1.0003555]\n",
      "epoch : 14, loss  70332672.0,  W : [[1.5226533]], b  [1.0003723]\n",
      "epoch : 15, loss  63342140.0,  W : [[1.6030302]], b  [1.0003883]\n",
      "epoch : 16, loss  57046424.0,  W : [[1.6793082]], b  [1.0004034]\n",
      "epoch : 17, loss  51376464.0,  W : [[1.7516962]], b  [1.0004177]\n",
      "epoch : 18, loss  46270044.0,  W : [[1.8203927]], b  [1.0004313]\n",
      "epoch : 19, loss  41671160.0,  W : [[1.885586]], b  [1.0004442]\n",
      "epoch : 20, loss  37529368.0,  W : [[1.9474547]], b  [1.0004565]\n",
      "epoch : 21, loss  33799244.0,  W : [[2.0061681]], b  [1.0004681]\n",
      "epoch : 22, loss  30439870.0,  W : [[2.0618875]], b  [1.0004792]\n",
      "epoch : 23, loss  27414384.0,  W : [[2.1147654]], b  [1.0004897]\n",
      "epoch : 24, loss  24689598.0,  W : [[2.1649466]], b  [1.0004996]\n",
      "epoch : 25, loss  22235656.0,  W : [[2.2125688]], b  [1.000509]\n",
      "epoch : 26, loss  20025610.0,  W : [[2.2577624]], b  [1.000518]\n",
      "epoch : 27, loss  18035224.0,  W : [[2.3006513]], b  [1.0005264]\n",
      "epoch : 28, loss  16242670.0,  W : [[2.341353]], b  [1.0005345]\n",
      "epoch : 29, loss  14628285.0,  W : [[2.379979]], b  [1.0005422]\n",
      "epoch : 30, loss  13174359.0,  W : [[2.4166353]], b  [1.0005494]\n",
      "epoch : 31, loss  11864934.0,  W : [[2.4514222]], b  [1.0005563]\n",
      "epoch : 32, loss  10685660.0,  W : [[2.484435]], b  [1.0005629]\n",
      "epoch : 33, loss  9623599.0,  W : [[2.5157645]], b  [1.0005691]\n",
      "epoch : 34, loss  8667096.0,  W : [[2.5454962]], b  [1.000575]\n",
      "epoch : 35, loss  7805662.0,  W : [[2.5737116]], b  [1.0005805]\n",
      "epoch : 36, loss  7029851.0,  W : [[2.6004882]], b  [1.0005858]\n",
      "epoch : 37, loss  6331147.5,  W : [[2.6258993]], b  [1.0005908]\n",
      "epoch : 38, loss  5701889.5,  W : [[2.6500144]], b  [1.0005956]\n",
      "epoch : 39, loss  5135178.5,  W : [[2.6728997]], b  [1.0006001]\n",
      "epoch : 40, loss  4624793.5,  W : [[2.694618]], b  [1.0006044]\n",
      "epoch : 41, loss  4165136.75,  W : [[2.7152288]], b  [1.0006084]\n",
      "epoch : 42, loss  3751163.75,  W : [[2.7347884]], b  [1.0006123]\n",
      "epoch : 43, loss  3378339.25,  W : [[2.7533507]], b  [1.000616]\n",
      "epoch : 44, loss  3042567.0,  W : [[2.7709663]], b  [1.0006194]\n",
      "epoch : 45, loss  2740171.25,  W : [[2.7876835]], b  [1.0006227]\n",
      "epoch : 46, loss  2467831.75,  W : [[2.8035483]], b  [1.0006258]\n",
      "epoch : 47, loss  2222558.0,  W : [[2.818604]], b  [1.0006288]\n",
      "epoch : 48, loss  2001664.5,  W : [[2.832892]], b  [1.0006317]\n",
      "epoch : 49, loss  1802724.75,  W : [[2.8464513]], b  [1.0006344]\n",
      "epoch : 50, loss  1623558.25,  W : [[2.859319]], b  [1.0006369]\n",
      "epoch : 51, loss  1462201.625,  W : [[2.8715305]], b  [1.0006393]\n",
      "epoch : 52, loss  1316881.5,  W : [[2.8831193]], b  [1.0006416]\n",
      "epoch : 53, loss  1186005.375,  W : [[2.894117]], b  [1.0006437]\n",
      "epoch : 54, loss  1068137.625,  W : [[2.9045541]], b  [1.0006458]\n",
      "epoch : 55, loss  961984.3125,  W : [[2.9144588]], b  [1.0006477]\n",
      "epoch : 56, loss  866383.0625,  W : [[2.9238584]], b  [1.0006496]\n",
      "epoch : 57, loss  780282.625,  W : [[2.9327786]], b  [1.0006514]\n",
      "epoch : 58, loss  702740.875,  W : [[2.941244]], b  [1.000653]\n",
      "epoch : 59, loss  632906.1875,  W : [[2.9492776]], b  [1.0006546]\n",
      "epoch : 60, loss  570011.3125,  W : [[2.9569016]], b  [1.0006561]\n",
      "epoch : 61, loss  513368.75,  W : [[2.9641368]], b  [1.0006576]\n",
      "epoch : 62, loss  462354.84375,  W : [[2.971003]], b  [1.0006589]\n",
      "epoch : 63, loss  416412.0,  W : [[2.977519]], b  [1.0006602]\n",
      "epoch : 64, loss  375036.03125,  W : [[2.983703]], b  [1.0006614]\n",
      "epoch : 65, loss  337771.46875,  W : [[2.9895713]], b  [1.0006626]\n",
      "epoch : 66, loss  304211.1875,  W : [[2.9951406]], b  [1.0006636]\n",
      "epoch : 67, loss  273986.1875,  W : [[3.0004256]], b  [1.0006647]\n",
      "epoch : 68, loss  246766.359375,  W : [[3.0054412]], b  [1.0006657]\n",
      "epoch : 69, loss  222251.4375,  W : [[3.010201]], b  [1.0006666]\n",
      "epoch : 70, loss  200173.265625,  W : [[3.014718]], b  [1.0006676]\n",
      "epoch : 71, loss  180289.359375,  W : [[3.0190048]], b  [1.0006684]\n",
      "epoch : 72, loss  162381.640625,  W : [[3.023073]], b  [1.0006692]\n",
      "epoch : 73, loss  146253.875,  W : [[3.0269337]], b  [1.00067]\n",
      "epoch : 74, loss  131728.953125,  W : [[3.0305974]], b  [1.0006707]\n",
      "epoch : 75, loss  118647.859375,  W : [[3.0340743]], b  [1.0006714]\n",
      "epoch : 76, loss  106867.2421875,  W : [[3.037374]], b  [1.000672]\n",
      "epoch : 77, loss  96256.953125,  W : [[3.0405054]], b  [1.0006726]\n",
      "epoch : 78, loss  86701.4296875,  W : [[3.043477]], b  [1.0006732]\n",
      "epoch : 79, loss  78095.78125,  W : [[3.0462973]], b  [1.0006738]\n",
      "epoch : 80, loss  70345.078125,  W : [[3.0489736]], b  [1.0006742]\n",
      "epoch : 81, loss  63365.2109375,  W : [[3.0515134]], b  [1.0006747]\n",
      "epoch : 82, loss  57078.78515625,  W : [[3.0539238]], b  [1.0006752]\n",
      "epoch : 83, loss  51417.12890625,  W : [[3.0562112]], b  [1.0006757]\n",
      "epoch : 84, loss  46318.390625,  W : [[3.058382]], b  [1.0006762]\n",
      "epoch : 85, loss  41726.296875,  W : [[3.060442]], b  [1.0006765]\n",
      "epoch : 86, loss  37590.94921875,  W : [[3.062397]], b  [1.0006769]\n",
      "epoch : 87, loss  33866.34375,  W : [[3.0642524]], b  [1.0006772]\n",
      "epoch : 88, loss  30511.859375,  W : [[3.066013]], b  [1.0006776]\n",
      "epoch : 89, loss  27490.85546875,  W : [[3.067684]], b  [1.000678]\n",
      "epoch : 90, loss  24770.26953125,  W : [[3.0692697]], b  [1.0006783]\n",
      "epoch : 91, loss  22319.947265625,  W : [[3.0707746]], b  [1.0006785]\n",
      "epoch : 92, loss  20113.107421875,  W : [[3.0722027]], b  [1.0006788]\n",
      "epoch : 93, loss  18125.65625,  W : [[3.0735579]], b  [1.000679]\n",
      "epoch : 94, loss  16335.912109375,  W : [[3.074844]], b  [1.0006793]\n",
      "epoch : 95, loss  14724.08984375,  W : [[3.0760643]], b  [1.0006795]\n",
      "epoch : 96, loss  13272.4423828125,  W : [[3.0772226]], b  [1.0006797]\n",
      "epoch : 97, loss  11965.0595703125,  W : [[3.078322]], b  [1.00068]\n",
      "epoch : 98, loss  10787.4287109375,  W : [[3.079365]], b  [1.0006802]\n",
      "epoch : 99, loss  9727.0625,  W : [[3.080355]], b  [1.0006804]\n",
      "epoch : 100, loss  8772.0546875,  W : [[3.0812945]], b  [1.0006807]\n",
      "epoch : 101, loss  7911.80859375,  W : [[3.0821862]], b  [1.0006808]\n",
      "epoch : 102, loss  7137.06982421875,  W : [[3.0830324]], b  [1.0006809]\n",
      "epoch : 103, loss  6439.39501953125,  W : [[3.0838354]], b  [1.000681]\n",
      "epoch : 104, loss  5811.0673828125,  W : [[3.0845973]], b  [1.0006812]\n",
      "epoch : 105, loss  5245.23486328125,  W : [[3.0853205]], b  [1.0006813]\n",
      "epoch : 106, loss  4735.642578125,  W : [[3.0860066]], b  [1.0006814]\n",
      "epoch : 107, loss  4276.75048828125,  W : [[3.086658]], b  [1.0006815]\n",
      "epoch : 108, loss  3863.3505859375,  W : [[3.087276]], b  [1.0006816]\n",
      "epoch : 109, loss  3491.138427734375,  W : [[3.0878625]], b  [1.0006818]\n",
      "epoch : 110, loss  3155.894287109375,  W : [[3.0884192]], b  [1.0006819]\n",
      "epoch : 111, loss  2853.912841796875,  W : [[3.0889475]], b  [1.000682]\n",
      "epoch : 112, loss  2581.93896484375,  W : [[3.089449]], b  [1.0006821]\n",
      "epoch : 113, loss  2336.998046875,  W : [[3.0899246]], b  [1.0006822]\n",
      "epoch : 114, loss  2116.485107421875,  W : [[3.0903761]], b  [1.0006824]\n",
      "epoch : 115, loss  1917.813720703125,  W : [[3.0908046]], b  [1.0006825]\n",
      "epoch : 116, loss  1738.9346923828125,  W : [[3.091211]], b  [1.0006826]\n",
      "epoch : 117, loss  1577.85546875,  W : [[3.0915968]], b  [1.0006827]\n",
      "epoch : 118, loss  1432.7974853515625,  W : [[3.091963]], b  [1.0006828]\n",
      "epoch : 119, loss  1302.112548828125,  W : [[3.0923107]], b  [1.000683]\n",
      "epoch : 120, loss  1184.3902587890625,  W : [[3.0926404]], b  [1.0006831]\n",
      "epoch : 121, loss  1078.419189453125,  W : [[3.0929534]], b  [1.0006832]\n",
      "epoch : 122, loss  982.9390869140625,  W : [[3.0932505]], b  [1.0006832]\n",
      "epoch : 123, loss  896.9567260742188,  W : [[3.0935323]], b  [1.0006832]\n",
      "epoch : 124, loss  819.5499877929688,  W : [[3.0937998]], b  [1.0006832]\n",
      "epoch : 125, loss  749.8173217773438,  W : [[3.0940537]], b  [1.0006832]\n",
      "epoch : 126, loss  687.0042114257812,  W : [[3.0942945]], b  [1.0006832]\n",
      "epoch : 127, loss  630.4712524414062,  W : [[3.0945232]], b  [1.0006832]\n",
      "epoch : 128, loss  579.5320434570312,  W : [[3.0947402]], b  [1.0006832]\n",
      "epoch : 129, loss  533.656005859375,  W : [[3.0949461]], b  [1.0006832]\n",
      "epoch : 130, loss  492.3266296386719,  W : [[3.0951416]], b  [1.0006832]\n",
      "epoch : 131, loss  455.1008605957031,  W : [[3.0953271]], b  [1.0006832]\n",
      "epoch : 132, loss  421.5848083496094,  W : [[3.095503]], b  [1.0006832]\n",
      "epoch : 133, loss  391.40985107421875,  W : [[3.09567]], b  [1.0006832]\n",
      "epoch : 134, loss  364.25140380859375,  W : [[3.0958285]], b  [1.0006832]\n",
      "epoch : 135, loss  339.7660827636719,  W : [[3.095979]], b  [1.0006832]\n",
      "epoch : 136, loss  317.7176513671875,  W : [[3.0961218]], b  [1.0006832]\n",
      "epoch : 137, loss  297.854736328125,  W : [[3.0962572]], b  [1.0006832]\n",
      "epoch : 138, loss  279.98028564453125,  W : [[3.0963857]], b  [1.0006832]\n",
      "epoch : 139, loss  263.8818664550781,  W : [[3.0965078]], b  [1.0006832]\n",
      "epoch : 140, loss  249.37351989746094,  W : [[3.0966237]], b  [1.0006832]\n",
      "epoch : 141, loss  236.30210876464844,  W : [[3.0967336]], b  [1.0006832]\n",
      "epoch : 142, loss  224.53675842285156,  W : [[3.0968378]], b  [1.0006832]\n",
      "epoch : 143, loss  213.9529266357422,  W : [[3.0969367]], b  [1.0006832]\n",
      "epoch : 144, loss  204.4139404296875,  W : [[3.0970306]], b  [1.0006832]\n",
      "epoch : 145, loss  195.81980895996094,  W : [[3.0971198]], b  [1.0006832]\n",
      "epoch : 146, loss  188.07765197753906,  W : [[3.0972044]], b  [1.0006832]\n",
      "epoch : 147, loss  181.10462951660156,  W : [[3.0972848]], b  [1.0006832]\n",
      "epoch : 148, loss  174.8246307373047,  W : [[3.0973608]], b  [1.0006832]\n",
      "epoch : 149, loss  169.18133544921875,  W : [[3.097433]], b  [1.0006832]\n",
      "epoch : 150, loss  164.09317016601562,  W : [[3.0975018]], b  [1.0006832]\n",
      "epoch : 151, loss  159.50674438476562,  W : [[3.0975668]], b  [1.0006832]\n",
      "epoch : 152, loss  155.37924194335938,  W : [[3.0976286]], b  [1.0006832]\n",
      "epoch : 153, loss  151.66409301757812,  W : [[3.0976872]], b  [1.0006832]\n",
      "epoch : 154, loss  148.31475830078125,  W : [[3.0977428]], b  [1.0006832]\n",
      "epoch : 155, loss  145.3032684326172,  W : [[3.0977955]], b  [1.0006832]\n",
      "epoch : 156, loss  142.59478759765625,  W : [[3.0978456]], b  [1.0006832]\n",
      "epoch : 157, loss  140.14938354492188,  W : [[3.097893]], b  [1.0006832]\n",
      "epoch : 158, loss  137.9523468017578,  W : [[3.097938]], b  [1.0006832]\n",
      "epoch : 159, loss  135.9710693359375,  W : [[3.097981]], b  [1.0006832]\n",
      "epoch : 160, loss  134.1785125732422,  W : [[3.0980215]], b  [1.0006832]\n",
      "epoch : 161, loss  132.57537841796875,  W : [[3.0980601]], b  [1.0006832]\n",
      "epoch : 162, loss  131.12469482421875,  W : [[3.0980966]], b  [1.0006832]\n",
      "epoch : 163, loss  129.8233184814453,  W : [[3.0981314]], b  [1.0006832]\n",
      "epoch : 164, loss  128.64556884765625,  W : [[3.0981643]], b  [1.0006832]\n",
      "epoch : 165, loss  127.58872985839844,  W : [[3.0981956]], b  [1.0006832]\n",
      "epoch : 166, loss  126.63589477539062,  W : [[3.0982254]], b  [1.0006832]\n",
      "epoch : 167, loss  125.77449035644531,  W : [[3.0982535]], b  [1.0006832]\n",
      "epoch : 168, loss  125.00182342529297,  W : [[3.0982802]], b  [1.0006832]\n",
      "epoch : 169, loss  124.30558776855469,  W : [[3.0983055]], b  [1.0006832]\n",
      "epoch : 170, loss  123.68000793457031,  W : [[3.0983295]], b  [1.0006832]\n",
      "epoch : 171, loss  123.11771392822266,  W : [[3.0983524]], b  [1.0006832]\n",
      "epoch : 172, loss  122.60704803466797,  W : [[3.0983741]], b  [1.0006832]\n",
      "epoch : 173, loss  122.1474838256836,  W : [[3.0983946]], b  [1.0006832]\n",
      "epoch : 174, loss  121.73692321777344,  W : [[3.0984142]], b  [1.0006832]\n",
      "epoch : 175, loss  121.36506652832031,  W : [[3.0984328]], b  [1.0006832]\n",
      "epoch : 176, loss  121.02742004394531,  W : [[3.0984504]], b  [1.0006832]\n",
      "epoch : 177, loss  120.72593688964844,  W : [[3.098467]], b  [1.0006832]\n",
      "epoch : 178, loss  120.45519256591797,  W : [[3.0984828]], b  [1.0006832]\n",
      "epoch : 179, loss  120.21142578125,  W : [[3.0984979]], b  [1.0006832]\n",
      "epoch : 180, loss  119.99190521240234,  W : [[3.0985122]], b  [1.0006832]\n",
      "epoch : 181, loss  119.79248809814453,  W : [[3.0985258]], b  [1.0006832]\n",
      "epoch : 182, loss  119.61408233642578,  W : [[3.0985386]], b  [1.0006832]\n",
      "epoch : 183, loss  119.45181274414062,  W : [[3.0985508]], b  [1.0006832]\n",
      "epoch : 184, loss  119.30786895751953,  W : [[3.0985625]], b  [1.0006832]\n",
      "epoch : 185, loss  119.17666625976562,  W : [[3.0985734]], b  [1.0006832]\n",
      "epoch : 186, loss  119.05855560302734,  W : [[3.098584]], b  [1.0006832]\n",
      "epoch : 187, loss  118.95222473144531,  W : [[3.0985937]], b  [1.0006832]\n",
      "epoch : 188, loss  118.8587875366211,  W : [[3.098603]], b  [1.0006832]\n",
      "epoch : 189, loss  118.77365112304688,  W : [[3.0986118]], b  [1.0006832]\n",
      "epoch : 190, loss  118.69695281982422,  W : [[3.0986202]], b  [1.0006832]\n",
      "epoch : 191, loss  118.62813568115234,  W : [[3.0986283]], b  [1.0006832]\n",
      "epoch : 192, loss  118.5639419555664,  W : [[3.098636]], b  [1.0006832]\n",
      "epoch : 193, loss  118.5077896118164,  W : [[3.098643]], b  [1.0006832]\n",
      "epoch : 194, loss  118.45712280273438,  W : [[3.09865]], b  [1.0006832]\n",
      "epoch : 195, loss  118.41193389892578,  W : [[3.0986564]], b  [1.0006832]\n",
      "epoch : 196, loss  118.37039184570312,  W : [[3.0986626]], b  [1.0006832]\n",
      "epoch : 197, loss  118.3331069946289,  W : [[3.0986686]], b  [1.0006832]\n",
      "epoch : 198, loss  118.29853820800781,  W : [[3.098674]], b  [1.0006832]\n",
      "epoch : 199, loss  118.26931762695312,  W : [[3.0986793]], b  [1.0006832]\n"
     ]
    }
   ],
   "source": [
    "#Model y=X*W + b\n",
    "#Model function\n",
    "def output(x):\n",
    "    return W*x + b\n",
    "\n",
    "#Loss function Reduce mean square\n",
    "def loss_function(y_pred, y_true):\n",
    "    return tf.reduce_mean(tf.square(y_pred - y_true))\n",
    "\n",
    "#Initialize Weights\n",
    "W = tf.Variable(tf.random.normal(shape=(1, 1)))\n",
    "b = tf.Variable(tf.ones(shape=(1,)))\n",
    "\n",
    "#Optimization\n",
    "## Writing training/learing loop with GradienTape\n",
    "learning_rate = 0.000000001\n",
    "steps = 200 #epochs\n",
    "\n",
    "for i in range(steps):\n",
    "    with tf.GradientTape() as tape:\n",
    "        predictions = output(x_train)\n",
    "        loss = loss_function(predictions,y_train)\n",
    "        dloss_dw, dloss_db = tape.gradient(loss, [W, b])\n",
    "    W.assign_sub(learning_rate * dloss_dw)\n",
    "    b.assign_sub(learning_rate * dloss_db)\n",
    "    print(f\"epoch : {i}, loss  {loss.numpy()},  W : {W.numpy()}, b  {b.numpy()}\")"
   ]
  },
  {
   "cell_type": "markdown",
   "metadata": {},
   "source": [
    "Final Weights"
   ]
  },
  {
   "cell_type": "code",
   "execution_count": 45,
   "metadata": {},
   "outputs": [
    {
     "name": "stdout",
     "output_type": "stream",
     "text": [
      "w  <tf.Variable 'Variable:0' shape=(1, 1) dtype=float32, numpy=array([[nan]], dtype=float32)>\n",
      "b  <tf.Variable 'Variable:0' shape=(1,) dtype=float32, numpy=array([nan], dtype=float32)>\n"
     ]
    }
   ],
   "source": [
    "print('w ', W)\n",
    "print('b ', b)"
   ]
  },
  {
   "cell_type": "markdown",
   "metadata": {},
   "source": [
    "Plotting"
   ]
  },
  {
   "cell_type": "code",
   "execution_count": 50,
   "metadata": {},
   "outputs": [
    {
     "name": "stdout",
     "output_type": "stream",
     "text": [
      "epoch is: 0, loss is 474050272.0,  W is: [[-0.9931169]], b is [1.0000435]\n"
     ]
    },
    {
     "data": {
      "image/png": "[encoded data removed]",
      "text/plain": [
       "<Figure size 640x480 with 1 Axes>"
      ]
     },
     "metadata": {},
     "output_type": "display_data"
    },
    {
     "name": "stdout",
     "output_type": "stream",
     "text": [
      "epoch is: 30, loss is 20506616.0,  W is: [[2.247722]], b is [1.0006852]\n"
     ]
    },
    {
     "data": {
      "image/png": "[encoded data removed]",
      "text/plain": [
       "<Figure size 640x480 with 1 Axes>"
      ]
     },
     "metadata": {},
     "output_type": "display_data"
    },
    {
     "name": "stdout",
     "output_type": "stream",
     "text": [
      "epoch is: 60, loss is 887189.125,  W is: [[2.9217703]], b is [1.0008188]\n"
     ]
    },
    {
     "data": {
      "image/png": "[encoded data removed]",
      "text/plain": [
       "<Figure size 640x480 with 1 Axes>"
      ]
     },
     "metadata": {},
     "output_type": "display_data"
    },
    {
     "name": "stdout",
     "output_type": "stream",
     "text": [
      "epoch is: 90, loss is 38490.73828125,  W is: [[3.0619628]], b is [1.0008465]\n"
     ]
    },
    {
     "data": {
      "image/png": "[encoded data removed]",
      "text/plain": [
       "<Figure size 640x480 with 1 Axes>"
      ]
     },
     "metadata": {},
     "output_type": "display_data"
    },
    {
     "name": "stdout",
     "output_type": "stream",
     "text": [
      "epoch is: 120, loss is 1777.84033203125,  W is: [[3.091121]], b is [1.0008523]\n"
     ]
    },
    {
     "data": {
      "image/png": "[encoded data removed]",
      "text/plain": [
       "<Figure size 640x480 with 1 Axes>"
      ]
     },
     "metadata": {},
     "output_type": "display_data"
    },
    {
     "name": "stdout",
     "output_type": "stream",
     "text": [
      "epoch is: 150, loss is 189.78077697753906,  W is: [[3.0971854]], b is [1.000853]\n"
     ]
    },
    {
     "data": {
      "image/png": "[encoded data removed]",
      "text/plain": [
       "<Figure size 640x480 with 1 Axes>"
      ]
     },
     "metadata": {},
     "output_type": "display_data"
    },
    {
     "name": "stdout",
     "output_type": "stream",
     "text": [
      "epoch is: 180, loss is 121.10013580322266,  W is: [[3.0984466]], b is [1.000853]\n"
     ]
    },
    {
     "data": {
      "image/png": "[encoded data removed]",
      "text/plain": [
       "<Figure size 640x480 with 1 Axes>"
      ]
     },
     "metadata": {},
     "output_type": "display_data"
    }
   ],
   "source": [
    "#Initialize Weights\n",
    "W = tf.Variable(tf.random.normal(shape=(1, 1)))\n",
    "b = tf.Variable(tf.ones(shape=(1,)))\n",
    "\n",
    "#Optimization\n",
    "## Writing training/learing loop with GradienTape\n",
    "learning_rate = 0.000000001\n",
    "steps = 200 #epochs\n",
    "\n",
    "for i in range(steps):\n",
    "    with tf.GradientTape() as tape:\n",
    "        predictions = output(x_train)\n",
    "        loss = loss_function(predictions,y_train)\n",
    "        dloss_dw, dloss_db = tape.gradient(loss, [W, b])\n",
    "    W.assign_sub(learning_rate * dloss_dw)\n",
    "    b.assign_sub(learning_rate * dloss_db)\n",
    "    if i%30 == 0:\n",
    "        print(f\"epoch is: {i}, loss is {loss.numpy()},  W is: {W.numpy()}, b is {b.numpy()}\")\n",
    "        plt.title([\"epoch\", i])\n",
    "        plt.plot(x_train, y_train, 'b.')\n",
    "        plt.plot(x_train, output(x_train), c='r')\n",
    "        plt.show()"
   ]
  },
  {
   "cell_type": "markdown",
   "metadata": {},
   "source": [
    "### Logistic Regression Model building in TensorFlow"
   ]
  },
  {
   "cell_type": "code",
   "execution_count": null,
   "metadata": {},
   "outputs": [],
   "source": [
    "# This step is for data creation\n",
    "x_train= np.random.rand(100,1)\n",
    "y_train=np.array([0 if i < 0.5 else 1 for i in x_train]).reshape(-1,1)\n",
    "\n",
    "import matplotlib.pyplot as plt\n",
    "plt.title(\"x_train vs y_train data\")\n",
    "plt.plot(x_train, y_train, 'b.',)\n",
    "plt.show()"
   ]
  },
  {
   "cell_type": "code",
   "execution_count": null,
   "metadata": {},
   "outputs": [],
   "source": [
    "#Model y=sigmoid(X*W + b)\n",
    "# same as the linear regression just sigmoid wrapped around the linear equation\n",
    "def output(x): \n",
    "    return tf.sigmoid(W*x + b)\n",
    "\n",
    "#Loss function : sum of squares\n",
    "def loss_function(y_pred, y_true):\n",
    "    return tf.reduce_sum(tf.square(y_pred - y_true))\n",
    "\n",
    "#Initialize Weights\n",
    "W = tf.Variable(tf.random.uniform(shape=(1, 1)))\n",
    "b = tf.Variable(tf.zeros(shape=(1,)))\n",
    "\n",
    "## Optimization\n",
    "learning_rate = 0.1\n",
    "steps = 300 #epochs\n",
    "\n",
    "for i in range(steps):\n",
    "    with tf.GradientTape() as tape:\n",
    "        predictions = output(x_train)\n",
    "        loss = loss_function(y_train, predictions)\n",
    "        dloss_dw, dloss_db = tape.gradient(loss, [W, b])\n",
    "    W.assign_sub(learning_rate * dloss_dw)\n",
    "    b.assign_sub(learning_rate * dloss_db)\n",
    "    print(f\"epoch : {i}, loss  {loss.numpy()},  W : {W.numpy()}, b  {b.numpy()}\")"
   ]
  },
  {
   "cell_type": "markdown",
   "metadata": {},
   "source": [
    "Plotting"
   ]
  },
  {
   "cell_type": "code",
   "execution_count": null,
   "metadata": {},
   "outputs": [],
   "source": [
    "#Model y=X*W + b\n",
    "# same as the linear regression just sigmoid wrapped around the linear equation\n",
    "def output(x): \n",
    "    return tf.sigmoid(W*x + b)\n",
    "\n",
    "#Loss function : sum of squares\n",
    "def loss_function(y_pred, y_true):\n",
    "    return tf.reduce_sum(tf.square(y_pred - y_true))\n",
    "\n",
    "#Initialize Weights\n",
    "W = tf.Variable(tf.random.uniform(shape=(1, 1)))\n",
    "b = tf.Variable(tf.zeros(shape=(1,)))\n",
    "\n",
    "## Optimization\n",
    "learning_rate = 0.1\n",
    "steps = 300 #epochs\n",
    "\n",
    "for i in range(steps):\n",
    "    with tf.GradientTape() as tape:\n",
    "        predictions = output(x_train)\n",
    "        loss = loss_function(y_train, predictions)\n",
    "        dloss_dw, dloss_db = tape.gradient(loss, [W, b])\n",
    "    W.assign_sub(learning_rate * dloss_dw)\n",
    "    b.assign_sub(learning_rate * dloss_db)\n",
    "\n",
    "    if i%40 == 0:\n",
    "        print(f\"epoch is: {i}, loss is {loss.numpy()},  W is: {W.numpy()}, b is {b.numpy()}\")\n",
    "        plt.title([\"epoch\", i])\n",
    "        plt.plot(x_train, y_train, 'b+')\n",
    "        plt.plot(x_train, output(x_train), '.', c='r')\n",
    "        plt.show()"
   ]
  },
  {
   "cell_type": "markdown",
   "metadata": {},
   "source": [
    "# Keras"
   ]
  },
  {
   "cell_type": "code",
   "execution_count": 7,
   "metadata": {},
   "outputs": [],
   "source": [
    "from tensorflow import keras\n",
    "from tensorflow.keras import layers\n",
    "from tensorflow.keras.models import Sequential\n",
    "from tensorflow.keras.layers import Dense, Input"
   ]
  },
  {
   "cell_type": "code",
   "execution_count": 8,
   "metadata": {},
   "outputs": [
    {
     "name": "stdout",
     "output_type": "stream",
     "text": [
      "(60000, 784) train input samples\n",
      "(10000, 784) test input samples\n",
      "(60000, 10) train output samples\n",
      "(10000, 10) test output samples\n"
     ]
    }
   ],
   "source": [
    "## The data, shuffled and split between train and test sets\n",
    "(X_train, Y_train), (X_test, Y_test) = keras.datasets.mnist.load_data()\n",
    "num_classes=10\n",
    "x_train = X_train.reshape(60000, 784)\n",
    "x_test = X_test.reshape(10000, 784)\n",
    "x_train = x_train.astype('float32')\n",
    "x_test = x_test.astype('float32')\n",
    "x_train /= 255\n",
    "x_test /= 255\n",
    "\n",
    "## Convert class vectors to binary class matrices\n",
    "y_train = keras.utils.to_categorical(Y_train, num_classes)\n",
    "y_test = keras.utils.to_categorical(Y_test, num_classes)\n",
    "\n",
    "print(x_train.shape, 'train input samples')\n",
    "print(x_test.shape, 'test input samples')\n",
    "\n",
    "print(y_train.shape, 'train output samples')\n",
    "print(y_test.shape, 'test output samples')"
   ]
  },
  {
   "cell_type": "code",
   "execution_count": 9,
   "metadata": {},
   "outputs": [
    {
     "data": {
      "image/png": "[encoded data removed]",
      "text/plain": [
       "<Figure size 640x480 with 4 Axes>"
      ]
     },
     "metadata": {},
     "output_type": "display_data"
    }
   ],
   "source": [
    "# Plot 4 images as gray scale\n",
    "\n",
    "%matplotlib inline\n",
    "import matplotlib.pyplot as plt\n",
    "plt.subplot(221)\n",
    "plt.imshow(X_train[24], cmap=plt.get_cmap('gray'))\n",
    "plt.subplot(222)\n",
    "plt.imshow(X_train[6], cmap=plt.get_cmap('gray'))\n",
    "plt.subplot(223)\n",
    "plt.imshow(X_train[59000], cmap=plt.get_cmap('gray'))\n",
    "plt.subplot(224)\n",
    "plt.imshow(X_train[32], cmap=plt.get_cmap('gray'))\n",
    "\n",
    "# show the plot\n",
    "plt.show()"
   ]
  },
  {
   "cell_type": "code",
   "execution_count": 10,
   "metadata": {},
   "outputs": [
    {
     "name": "stdout",
     "output_type": "stream",
     "text": [
      "Model: \"sequential_1\"\n",
      "_________________________________________________________________\n",
      " Layer (type)                Output Shape              Param #   \n",
      "=================================================================\n",
      " dense_3 (Dense)             (None, 300)               235500    \n",
      "                                                                 \n",
      " dense_4 (Dense)             (None, 100)               30100     \n",
      "                                                                 \n",
      " dense_5 (Dense)             (None, 10)                1010      \n",
      "                                                                 \n",
      "=================================================================\n",
      "Total params: 266,610\n",
      "Trainable params: 266,610\n",
      "Non-trainable params: 0\n",
      "_________________________________________________________________\n"
     ]
    }
   ],
   "source": [
    "model = keras.Sequential()\n",
    "model.add(layers.Input(shape=(784,)))\n",
    "#Input Layer. The model needs to know what input shape it should expect. \n",
    "#For this reason, the first layer in a Sequential model needs to receive information about its input shape.\n",
    "#Only the first need the snape information, because following layers can do automatic shape inference\n",
    "model.add(layers.Dense(300, activation='sigmoid')) #, input_shape=(784,)))\n",
    "\n",
    "#The dense layer is simply a layer where each unit or neuron is connected to each neuron in the next layer.\n",
    "model.add(layers.Dense(100, activation='sigmoid'))\n",
    "\n",
    "#In the final layer mention the output classes\n",
    "model.add(layers.Dense(10, activation='sigmoid'))\n",
    "\n",
    "#Model Summary\n",
    "model.summary()"
   ]
  },
  {
   "cell_type": "code",
   "execution_count": 11,
   "metadata": {},
   "outputs": [
    {
     "name": "stdout",
     "output_type": "stream",
     "text": [
      "Epoch 1/10\n",
      "1875/1875 [==============================] - 13s 4ms/step - loss: 0.3971 - accuracy: 0.8900\n",
      "Epoch 2/10\n",
      "1875/1875 [==============================] - 7s 4ms/step - loss: 0.1727 - accuracy: 0.9469\n",
      "Epoch 3/10\n",
      "1875/1875 [==============================] - 7s 4ms/step - loss: 0.1195 - accuracy: 0.9639\n",
      "Epoch 4/10\n",
      "1875/1875 [==============================] - 6s 3ms/step - loss: 0.0902 - accuracy: 0.9728\n",
      "Epoch 5/10\n",
      "1875/1875 [==============================] - 7s 4ms/step - loss: 0.0724 - accuracy: 0.9778\n",
      "Epoch 6/10\n",
      "1875/1875 [==============================] - 7s 4ms/step - loss: 0.0591 - accuracy: 0.9820\n",
      "Epoch 7/10\n",
      "1875/1875 [==============================] - 7s 3ms/step - loss: 0.0492 - accuracy: 0.9852\n",
      "Epoch 8/10\n",
      "1875/1875 [==============================] - 7s 4ms/step - loss: 0.0414 - accuracy: 0.9874\n",
      "Epoch 9/10\n",
      "1875/1875 [==============================] - 9s 5ms/step - loss: 0.0348 - accuracy: 0.9887\n",
      "Epoch 10/10\n",
      "1875/1875 [==============================] - 9s 5ms/step - loss: 0.0287 - accuracy: 0.9908\n"
     ]
    },
    {
     "data": {
      "text/plain": [
       "<keras.callbacks.History at 0x1f6e5df3790>"
      ]
     },
     "execution_count": 11,
     "metadata": {},
     "output_type": "execute_result"
    }
   ],
   "source": [
    "# Compiling model : we define loss function, optimizer and validation matric of our choice\n",
    "model.compile(loss='categorical_crossentropy', metrics=['accuracy'])\n",
    "\n",
    "# Fit method: actually running our model by supplying our input and validation data\n",
    "model.fit(x_train, y_train,epochs=10)"
   ]
  },
  {
   "cell_type": "code",
   "execution_count": 14,
   "metadata": {},
   "outputs": [
    {
     "name": "stdout",
     "output_type": "stream",
     "text": [
      "[array([[ 0.08359121],\n",
      "       [ 0.00274128],\n",
      "       [-0.00801397],\n",
      "       [ 0.08455515],\n",
      "       [-0.00282642],\n",
      "       [-0.04556565],\n",
      "       [-0.03228074],\n",
      "       [ 0.08369546],\n",
      "       [ 0.0157759 ],\n",
      "       [ 0.03356083],\n",
      "       [ 0.05596672],\n",
      "       [-0.08734491],\n",
      "       [-0.05654287],\n",
      "       [ 0.05854791],\n",
      "       [-0.0535578 ],\n",
      "       [ 0.05855481],\n",
      "       [ 0.08222272],\n",
      "       [-0.08260914],\n",
      "       [ 0.0449034 ],\n",
      "       [ 0.00417785],\n",
      "       [-0.03083979],\n",
      "       [-0.02511295],\n",
      "       [-0.02714121],\n",
      "       [-0.02291332],\n",
      "       [ 0.04987727],\n",
      "       [ 0.06863773],\n",
      "       [ 0.03691052],\n",
      "       [ 0.06619047],\n",
      "       [-0.08285968],\n",
      "       [ 0.05611886],\n",
      "       [ 0.00135988],\n",
      "       [ 0.02568557],\n",
      "       [ 0.02081525],\n",
      "       [-0.00969627],\n",
      "       [ 0.03193108],\n",
      "       [ 0.03709399],\n",
      "       [-0.00148482],\n",
      "       [-0.05276364],\n",
      "       [ 0.05360954],\n",
      "       [-0.07991417],\n",
      "       [ 0.08487223],\n",
      "       [-0.01173173],\n",
      "       [ 0.01666415],\n",
      "       [-0.02205363],\n",
      "       [ 0.08478604],\n",
      "       [-0.08569278],\n",
      "       [ 0.06622057],\n",
      "       [ 0.06813706],\n",
      "       [-0.00647169],\n",
      "       [ 0.01359426],\n",
      "       [ 0.00626156],\n",
      "       [ 0.02204411],\n",
      "       [ 0.06435649],\n",
      "       [ 0.00697017],\n",
      "       [-0.06737605],\n",
      "       [-0.03596433],\n",
      "       [ 0.0188744 ],\n",
      "       [ 0.07522231],\n",
      "       [ 0.02716931],\n",
      "       [ 0.01927963],\n",
      "       [ 0.02888124],\n",
      "       [ 0.02220955],\n",
      "       [ 0.01712768],\n",
      "       [ 0.01280151],\n",
      "       [ 0.02008527],\n",
      "       [ 0.03248792],\n",
      "       [ 0.05972157],\n",
      "       [ 0.02007364],\n",
      "       [ 0.01788948],\n",
      "       [ 0.00554823],\n",
      "       [-0.06904258],\n",
      "       [-0.00050692],\n",
      "       [ 0.00201412],\n",
      "       [ 0.05918726],\n",
      "       [ 0.049914  ],\n",
      "       [ 0.0208822 ],\n",
      "       [-0.02479605],\n",
      "       [-0.05500685],\n",
      "       [ 0.055178  ],\n",
      "       [-0.08147981],\n",
      "       [-0.02530865],\n",
      "       [ 0.01036488],\n",
      "       [-0.03091195],\n",
      "       [ 0.04545698],\n",
      "       [ 0.07310967],\n",
      "       [-0.05723923],\n",
      "       [-0.08091021],\n",
      "       [-0.07491045],\n",
      "       [-0.01186759],\n",
      "       [ 0.00747355],\n",
      "       [-0.0363653 ],\n",
      "       [ 0.06815889],\n",
      "       [ 0.01371222],\n",
      "       [-0.08141953],\n",
      "       [-0.00841466],\n",
      "       [-0.03215761],\n",
      "       [-0.04762273],\n",
      "       [-0.08105768],\n",
      "       [ 0.04092057],\n",
      "       [ 0.02642013],\n",
      "       [-0.0811898 ],\n",
      "       [-0.0270846 ],\n",
      "       [-0.04356036],\n",
      "       [-0.02074826],\n",
      "       [-0.04731657],\n",
      "       [ 0.00063927],\n",
      "       [-0.03827213],\n",
      "       [-0.03384503],\n",
      "       [ 0.0668252 ],\n",
      "       [ 0.00967601],\n",
      "       [-0.05372428],\n",
      "       [ 0.06393158],\n",
      "       [-0.06353401],\n",
      "       [ 0.0163632 ],\n",
      "       [-0.05275694],\n",
      "       [ 0.08169319],\n",
      "       [-0.07283541],\n",
      "       [ 0.02050146],\n",
      "       [ 0.01749063],\n",
      "       [ 0.0423888 ],\n",
      "       [ 0.07416487],\n",
      "       [ 0.02482469],\n",
      "       [ 0.06373265],\n",
      "       [ 0.06445727],\n",
      "       [-0.0370306 ],\n",
      "       [ 0.00816315],\n",
      "       [-0.04714742],\n",
      "       [-0.01244851],\n",
      "       [-0.03101379],\n",
      "       [ 0.01599374],\n",
      "       [ 0.06441216],\n",
      "       [ 0.01025706],\n",
      "       [-0.04351364],\n",
      "       [ 0.0344132 ],\n",
      "       [-0.05673628],\n",
      "       [ 0.07499611],\n",
      "       [ 0.05480465],\n",
      "       [ 0.03370909],\n",
      "       [ 0.00979722],\n",
      "       [ 0.08691019],\n",
      "       [ 0.04633084],\n",
      "       [ 0.03507679],\n",
      "       [-0.05429349],\n",
      "       [-0.08326153],\n",
      "       [-0.00098155],\n",
      "       [-0.08676539],\n",
      "       [ 0.04010142],\n",
      "       [ 0.05570428],\n",
      "       [-0.0769847 ],\n",
      "       [ 0.01831038],\n",
      "       [ 0.04175933],\n",
      "       [-0.06773476],\n",
      "       [ 0.03334563],\n",
      "       [ 0.00173182],\n",
      "       [-0.03504148],\n",
      "       [ 0.05521524],\n",
      "       [-0.01931594],\n",
      "       [-0.08298406],\n",
      "       [ 0.03641322],\n",
      "       [ 0.02776511],\n",
      "       [ 0.0242217 ],\n",
      "       [-0.06159385],\n",
      "       [ 0.04138353],\n",
      "       [ 0.0029806 ],\n",
      "       [-0.00899827],\n",
      "       [-0.02920033],\n",
      "       [ 0.0684707 ],\n",
      "       [ 0.02535455],\n",
      "       [ 0.06056358],\n",
      "       [ 0.04310112],\n",
      "       [-0.00403548],\n",
      "       [ 0.0676097 ],\n",
      "       [-0.03985359],\n",
      "       [ 0.05527043],\n",
      "       [ 0.05947268],\n",
      "       [ 0.0509917 ],\n",
      "       [ 0.07161291],\n",
      "       [ 0.07550828],\n",
      "       [-0.06300221],\n",
      "       [ 0.06273954],\n",
      "       [ 0.02717258],\n",
      "       [ 0.04182041],\n",
      "       [-0.03365821],\n",
      "       [ 0.06238182],\n",
      "       [-0.06703738],\n",
      "       [-0.01774355],\n",
      "       [ 0.05175711],\n",
      "       [ 0.0547801 ],\n",
      "       [ 0.03347263],\n",
      "       [-0.04233996],\n",
      "       [ 0.08622207],\n",
      "       [-0.07642585],\n",
      "       [ 0.05237573],\n",
      "       [-0.0865123 ],\n",
      "       [-0.0647622 ],\n",
      "       [-0.02105635],\n",
      "       [-0.04330829],\n",
      "       [ 0.04172875],\n",
      "       [ 0.0542542 ],\n",
      "       [ 0.02264802],\n",
      "       [-0.01791599],\n",
      "       [-0.02690127],\n",
      "       [ 0.05696392],\n",
      "       [-0.06793663],\n",
      "       [ 0.03743568],\n",
      "       [-0.01034816],\n",
      "       [ 0.06195994],\n",
      "       [ 0.05203688],\n",
      "       [-0.0839957 ],\n",
      "       [-0.0772773 ],\n",
      "       [-0.00399456],\n",
      "       [-0.04019862],\n",
      "       [-0.06983139],\n",
      "       [-0.04820911],\n",
      "       [-0.00924717],\n",
      "       [-0.01244228],\n",
      "       [ 0.05386326],\n",
      "       [ 0.06953953],\n",
      "       [-0.03744719],\n",
      "       [ 0.04144658],\n",
      "       [ 0.05232513],\n",
      "       [-0.08654679],\n",
      "       [-0.01330139],\n",
      "       [ 0.02105498],\n",
      "       [-0.04468333],\n",
      "       [ 0.07618585],\n",
      "       [-0.00331703],\n",
      "       [-0.05205351],\n",
      "       [-0.06695699],\n",
      "       [ 0.07022242],\n",
      "       [-0.0754219 ],\n",
      "       [ 0.02505823],\n",
      "       [ 0.02694523],\n",
      "       [ 0.00896911],\n",
      "       [-0.08184554],\n",
      "       [-0.06375597],\n",
      "       [ 0.05899593],\n",
      "       [-0.03583362],\n",
      "       [-0.00456806],\n",
      "       [ 0.0847345 ],\n",
      "       [ 0.06406131],\n",
      "       [ 0.05450693],\n",
      "       [ 0.05556118],\n",
      "       [ 0.017551  ],\n",
      "       [-0.07370721],\n",
      "       [ 0.07472663],\n",
      "       [-0.04340886],\n",
      "       [ 0.07840265],\n",
      "       [ 0.00691189],\n",
      "       [ 0.07865945],\n",
      "       [ 0.00500254],\n",
      "       [-0.07660182],\n",
      "       [-0.01344998],\n",
      "       [ 0.00807948],\n",
      "       [ 0.00871237],\n",
      "       [-0.05148574],\n",
      "       [-0.05019485],\n",
      "       [ 0.08015406],\n",
      "       [ 0.02352078],\n",
      "       [ 0.01633152],\n",
      "       [ 0.08398247],\n",
      "       [ 0.05954549],\n",
      "       [ 0.05968191],\n",
      "       [-0.08472282],\n",
      "       [-0.04304814],\n",
      "       [-0.0038132 ],\n",
      "       [-0.02755807],\n",
      "       [-0.04199243],\n",
      "       [ 0.01251759],\n",
      "       [-0.04556749],\n",
      "       [ 0.06297803],\n",
      "       [-0.01510233],\n",
      "       [ 0.01771475],\n",
      "       [ 0.00770767],\n",
      "       [ 0.06084169],\n",
      "       [-0.05165804],\n",
      "       [ 0.0700257 ],\n",
      "       [ 0.05815676],\n",
      "       [ 0.04523711],\n",
      "       [-0.01626974],\n",
      "       [ 0.05004142],\n",
      "       [ 0.01149844],\n",
      "       [ 0.04547396],\n",
      "       [ 0.05772191],\n",
      "       [-0.03202952],\n",
      "       [-0.053574  ],\n",
      "       [ 0.06182881],\n",
      "       [ 0.08078656],\n",
      "       [ 0.05174777],\n",
      "       [ 0.07974109],\n",
      "       [-0.00353985],\n",
      "       [ 0.05796647],\n",
      "       [-0.04688105],\n",
      "       [-0.08425552],\n",
      "       [-0.02756115],\n",
      "       [-0.08629098],\n",
      "       [ 0.08277659],\n",
      "       [-0.06762569],\n",
      "       [ 0.03436563],\n",
      "       [-0.08289459],\n",
      "       [ 0.0698379 ],\n",
      "       [ 0.01534714],\n",
      "       [ 0.00436642],\n",
      "       [ 0.03385577],\n",
      "       [-0.02368859],\n",
      "       [-0.07126912],\n",
      "       [ 0.0843522 ],\n",
      "       [-0.01812322],\n",
      "       [-0.07947218],\n",
      "       [-0.03070743],\n",
      "       [ 0.04313684],\n",
      "       [ 0.00739688],\n",
      "       [-0.07733546],\n",
      "       [-0.04852002],\n",
      "       [-0.07652938],\n",
      "       [-0.01411294],\n",
      "       [-0.00375532],\n",
      "       [ 0.0556709 ],\n",
      "       [ 0.06357598],\n",
      "       [-0.06032351],\n",
      "       [-0.05083326],\n",
      "       [ 0.00228548],\n",
      "       [-0.06670724],\n",
      "       [-0.0313354 ],\n",
      "       [-0.00524335],\n",
      "       [ 0.04795335],\n",
      "       [-0.04175912],\n",
      "       [ 0.01027358],\n",
      "       [ 0.05479856],\n",
      "       [ 0.00700629],\n",
      "       [-0.07438608],\n",
      "       [-0.086459  ],\n",
      "       [-0.06021771],\n",
      "       [-0.03121717],\n",
      "       [ 0.03708803],\n",
      "       [-0.08052561],\n",
      "       [-0.03945836],\n",
      "       [ 0.04582873],\n",
      "       [ 0.03163478],\n",
      "       [ 0.00046032],\n",
      "       [ 0.00811797],\n",
      "       [ 0.06378755],\n",
      "       [-0.07359703],\n",
      "       [-0.05280919],\n",
      "       [-0.00350343],\n",
      "       [ 0.03325699],\n",
      "       [ 0.02827454],\n",
      "       [ 0.07426766],\n",
      "       [ 0.08584379],\n",
      "       [-0.04368713],\n",
      "       [-0.03243369],\n",
      "       [-0.05685161],\n",
      "       [-0.04258029],\n",
      "       [-0.04801238],\n",
      "       [-0.03293142],\n",
      "       [ 0.06543046],\n",
      "       [-0.03239725],\n",
      "       [ 0.04899512],\n",
      "       [-0.03348128],\n",
      "       [-0.05334609],\n",
      "       [ 0.01394916],\n",
      "       [ 0.05511001],\n",
      "       [ 0.05846529],\n",
      "       [-0.04332367],\n",
      "       [-0.08296086],\n",
      "       [ 0.01952444],\n",
      "       [ 0.00445145],\n",
      "       [-0.03025487],\n",
      "       [-0.04511313],\n",
      "       [-0.07840257],\n",
      "       [-0.02101299],\n",
      "       [ 0.0470219 ],\n",
      "       [-0.00051291],\n",
      "       [-0.00362806],\n",
      "       [-0.04103434],\n",
      "       [ 0.03423413],\n",
      "       [ 0.0496123 ],\n",
      "       [ 0.0264829 ],\n",
      "       [ 0.00320856],\n",
      "       [-0.00672873],\n",
      "       [-0.00582646],\n",
      "       [ 0.03151922],\n",
      "       [-0.06000333],\n",
      "       [-0.06955014],\n",
      "       [-0.08562259],\n",
      "       [-0.08141857],\n",
      "       [-0.07670351],\n",
      "       [-0.02326942],\n",
      "       [-0.02296316],\n",
      "       [-0.00059973],\n",
      "       [ 0.06732526],\n",
      "       [ 0.04002717],\n",
      "       [-0.04629163],\n",
      "       [ 0.01747695],\n",
      "       [-0.06406574],\n",
      "       [-0.01219863],\n",
      "       [ 0.07509382],\n",
      "       [-0.02893686],\n",
      "       [ 0.04289393],\n",
      "       [-0.02935124],\n",
      "       [-0.08192539],\n",
      "       [ 0.02172915],\n",
      "       [ 0.04463255],\n",
      "       [ 0.03803718],\n",
      "       [ 0.06578782],\n",
      "       [-0.0203265 ],\n",
      "       [ 0.05400507],\n",
      "       [-0.00554148],\n",
      "       [-0.04150553],\n",
      "       [-0.03013399],\n",
      "       [-0.08309305],\n",
      "       [-0.01582792],\n",
      "       [-0.05801856],\n",
      "       [-0.06823568],\n",
      "       [-0.06786245],\n",
      "       [ 0.03496359],\n",
      "       [ 0.0696996 ],\n",
      "       [ 0.00692454],\n",
      "       [-0.02758679],\n",
      "       [ 0.01594669],\n",
      "       [-0.01680257],\n",
      "       [ 0.04803529],\n",
      "       [-0.06228806],\n",
      "       [ 0.06897768],\n",
      "       [-0.06031518],\n",
      "       [-0.00604495],\n",
      "       [ 0.03190492],\n",
      "       [ 0.07357837],\n",
      "       [-0.08489203],\n",
      "       [-0.00024498],\n",
      "       [-0.01222725],\n",
      "       [ 0.05884095],\n",
      "       [ 0.08491513],\n",
      "       [-0.03821635],\n",
      "       [-0.0736413 ],\n",
      "       [ 0.04736923],\n",
      "       [ 0.04542123],\n",
      "       [-0.0037905 ],\n",
      "       [ 0.08530718],\n",
      "       [-0.05387644],\n",
      "       [-0.05177927],\n",
      "       [-0.06000879],\n",
      "       [ 0.07140468],\n",
      "       [-0.04588907],\n",
      "       [ 0.06750046],\n",
      "       [ 0.04616898],\n",
      "       [ 0.01715623],\n",
      "       [ 0.03603472],\n",
      "       [-0.00530232],\n",
      "       [ 0.04511847],\n",
      "       [ 0.07203145],\n",
      "       [ 0.03408693],\n",
      "       [-0.02059624],\n",
      "       [-0.03571295],\n",
      "       [ 0.00060622],\n",
      "       [-0.01513588],\n",
      "       [ 0.02165678],\n",
      "       [-0.01079097],\n",
      "       [ 0.07709812],\n",
      "       [-0.06757534],\n",
      "       [-0.01968016],\n",
      "       [-0.03922034],\n",
      "       [ 0.07796682],\n",
      "       [ 0.0534914 ],\n",
      "       [ 0.06915678],\n",
      "       [ 0.04165576],\n",
      "       [-0.01203255],\n",
      "       [-0.05259166],\n",
      "       [-0.07349896],\n",
      "       [-0.02003814],\n",
      "       [ 0.03000178],\n",
      "       [ 0.00946782],\n",
      "       [ 0.00633638],\n",
      "       [ 0.06020512],\n",
      "       [-0.04971213],\n",
      "       [-0.06308588],\n",
      "       [ 0.02242491],\n",
      "       [-0.01268434],\n",
      "       [-0.00672361],\n",
      "       [-0.04584327],\n",
      "       [-0.05748677],\n",
      "       [ 0.04403022],\n",
      "       [-0.06576066],\n",
      "       [-0.03911833],\n",
      "       [ 0.05645116],\n",
      "       [ 0.03157131],\n",
      "       [-0.01718162],\n",
      "       [ 0.04707703],\n",
      "       [-0.02038763],\n",
      "       [-0.00419152],\n",
      "       [ 0.08674556],\n",
      "       [-0.04202367],\n",
      "       [ 0.05564262],\n",
      "       [ 0.07139608],\n",
      "       [ 0.03617229],\n",
      "       [ 0.04130739],\n",
      "       [-0.0454577 ],\n",
      "       [-0.0682466 ],\n",
      "       [ 0.00905631],\n",
      "       [ 0.06677298],\n",
      "       [-0.07089564],\n",
      "       [-0.01318864],\n",
      "       [ 0.03089727],\n",
      "       [ 0.05468972],\n",
      "       [ 0.06655344],\n",
      "       [ 0.02419083],\n",
      "       [ 0.00551928],\n",
      "       [ 0.01803058],\n",
      "       [ 0.06343387],\n",
      "       [ 0.06253378],\n",
      "       [-0.03778788],\n",
      "       [ 0.0550468 ],\n",
      "       [-0.07506545],\n",
      "       [-0.06571686],\n",
      "       [-0.02327746],\n",
      "       [-0.06123343],\n",
      "       [ 0.02551417],\n",
      "       [ 0.03546207],\n",
      "       [-0.05198098],\n",
      "       [ 0.08589083],\n",
      "       [ 0.02086179],\n",
      "       [-0.0183287 ],\n",
      "       [-0.04490206],\n",
      "       [-0.00065825],\n",
      "       [-0.02563569],\n",
      "       [ 0.00873909],\n",
      "       [ 0.01954556],\n",
      "       [ 0.01323868],\n",
      "       [ 0.04567635],\n",
      "       [ 0.03532938],\n",
      "       [-0.07613508],\n",
      "       [-0.01790243],\n",
      "       [ 0.00530131],\n",
      "       [ 0.00612138],\n",
      "       [ 0.00568743],\n",
      "       [-0.07231289],\n",
      "       [ 0.01370701],\n",
      "       [-0.08532363],\n",
      "       [ 0.0662559 ],\n",
      "       [-0.00786867],\n",
      "       [-0.01814578],\n",
      "       [-0.05523589],\n",
      "       [-0.0847538 ],\n",
      "       [ 0.03970705],\n",
      "       [-0.03910176],\n",
      "       [ 0.02682121],\n",
      "       [-0.02375669],\n",
      "       [-0.04956386],\n",
      "       [ 0.01544319],\n",
      "       [-0.01004072],\n",
      "       [ 0.06858042],\n",
      "       [-0.05429906],\n",
      "       [-0.05600391],\n",
      "       [ 0.04512289],\n",
      "       [ 0.02715507],\n",
      "       [-0.04162539],\n",
      "       [ 0.07915218],\n",
      "       [-0.08278108],\n",
      "       [-0.06095752],\n",
      "       [-0.08636003],\n",
      "       [ 0.05244271],\n",
      "       [ 0.07768674],\n",
      "       [ 0.04278705],\n",
      "       [ 0.06459796],\n",
      "       [-0.02273825],\n",
      "       [ 0.04609483],\n",
      "       [ 0.03812802],\n",
      "       [ 0.0802983 ],\n",
      "       [ 0.01192735],\n",
      "       [-0.08472288],\n",
      "       [-0.02072009],\n",
      "       [-0.05727749],\n",
      "       [-0.02711222],\n",
      "       [ 0.05238712],\n",
      "       [-0.01002338],\n",
      "       [ 0.00088453],\n",
      "       [ 0.03943248],\n",
      "       [ 0.06160736],\n",
      "       [-0.07285836],\n",
      "       [ 0.01427636],\n",
      "       [-0.07803513],\n",
      "       [-0.06781095],\n",
      "       [-0.08414282],\n",
      "       [ 0.08048232],\n",
      "       [-0.01297705],\n",
      "       [ 0.08354096],\n",
      "       [-0.08732263],\n",
      "       [-0.03563303],\n",
      "       [-0.02090365],\n",
      "       [ 0.01175755],\n",
      "       [-0.03573913],\n",
      "       [-0.01590724],\n",
      "       [-0.08491313],\n",
      "       [ 0.05116092],\n",
      "       [-0.07053702],\n",
      "       [-0.03472086],\n",
      "       [ 0.03741978],\n",
      "       [ 0.08318612],\n",
      "       [ 0.0589295 ],\n",
      "       [ 0.04171522],\n",
      "       [-0.05168714],\n",
      "       [ 0.07574202],\n",
      "       [ 0.08577786],\n",
      "       [ 0.06911439],\n",
      "       [ 0.07802756],\n",
      "       [-0.07340001],\n",
      "       [ 0.02393311],\n",
      "       [ 0.06274112],\n",
      "       [-0.03095352],\n",
      "       [-0.00732954],\n",
      "       [ 0.05831723],\n",
      "       [ 0.01555735],\n",
      "       [-0.06267701],\n",
      "       [-0.07558821],\n",
      "       [ 0.0153792 ],\n",
      "       [ 0.01993132],\n",
      "       [ 0.03295885],\n",
      "       [-0.00792243],\n",
      "       [-0.08449927],\n",
      "       [-0.07967903],\n",
      "       [-0.00365207],\n",
      "       [-0.08294677],\n",
      "       [-0.05608526],\n",
      "       [-0.04671205],\n",
      "       [-0.0151852 ],\n",
      "       [ 0.0698934 ],\n",
      "       [-0.01280253],\n",
      "       [ 0.03583509],\n",
      "       [-0.05007788],\n",
      "       [-0.03292042],\n",
      "       [-0.07730536],\n",
      "       [ 0.02884617],\n",
      "       [ 0.07541519],\n",
      "       [-0.02582029],\n",
      "       [ 0.00584117],\n",
      "       [-0.01284096],\n",
      "       [-0.03930468],\n",
      "       [ 0.06643499],\n",
      "       [-0.07405272],\n",
      "       [ 0.02275276],\n",
      "       [-0.08512688],\n",
      "       [ 0.06488536],\n",
      "       [ 0.08420777],\n",
      "       [-0.04172556],\n",
      "       [ 0.04265189],\n",
      "       [ 0.03749471],\n",
      "       [ 0.04622574],\n",
      "       [-0.01506031],\n",
      "       [-0.04766698],\n",
      "       [-0.0319499 ],\n",
      "       [ 0.00686128],\n",
      "       [-0.00076662],\n",
      "       [ 0.04684247],\n",
      "       [ 0.01182757],\n",
      "       [-0.03717219],\n",
      "       [ 0.05585492],\n",
      "       [ 0.01250489],\n",
      "       [ 0.01968342],\n",
      "       [-0.04157903],\n",
      "       [ 0.0200104 ],\n",
      "       [ 0.02883153],\n",
      "       [ 0.05088948],\n",
      "       [ 0.04130524],\n",
      "       [ 0.02228965],\n",
      "       [-0.00896654],\n",
      "       [ 0.0004747 ],\n",
      "       [ 0.03487188],\n",
      "       [ 0.06633168],\n",
      "       [-0.00294344],\n",
      "       [ 0.0531726 ],\n",
      "       [ 0.00438526],\n",
      "       [ 0.03122682],\n",
      "       [-0.06130645],\n",
      "       [-0.03305054],\n",
      "       [-0.05805404],\n",
      "       [ 0.04731812],\n",
      "       [-0.02775728],\n",
      "       [ 0.04311192],\n",
      "       [ 0.02010257],\n",
      "       [ 0.03802857],\n",
      "       [ 0.04788101],\n",
      "       [-0.04598445],\n",
      "       [-0.03411222],\n",
      "       [ 0.04464751],\n",
      "       [-0.02518675],\n",
      "       [ 0.04585008],\n",
      "       [ 0.07515027],\n",
      "       [ 0.02366839],\n",
      "       [-0.06310289],\n",
      "       [ 0.06232618],\n",
      "       [ 0.07845554],\n",
      "       [-0.05840605],\n",
      "       [-0.05281567],\n",
      "       [-0.06557047],\n",
      "       [-0.04754804],\n",
      "       [ 0.08174728],\n",
      "       [ 0.0548766 ],\n",
      "       [ 0.04626244],\n",
      "       [-0.02846768],\n",
      "       [-0.0335067 ],\n",
      "       [ 0.06409492],\n",
      "       [ 0.01461289],\n",
      "       [ 0.01975431],\n",
      "       [ 0.03528471],\n",
      "       [-0.03471863],\n",
      "       [ 0.03174471],\n",
      "       [ 0.02669   ],\n",
      "       [-0.05124589],\n",
      "       [ 0.06677301],\n",
      "       [ 0.07373428],\n",
      "       [-0.0180195 ],\n",
      "       [ 0.03043573],\n",
      "       [ 0.05240111],\n",
      "       [ 0.0782582 ],\n",
      "       [-0.01935115],\n",
      "       [-0.03350148],\n",
      "       [-0.07250889],\n",
      "       [-0.02518936],\n",
      "       [-0.07305108],\n",
      "       [-0.01338614],\n",
      "       [ 0.03099404],\n",
      "       [-0.02366599],\n",
      "       [-0.06538875],\n",
      "       [ 0.03197083],\n",
      "       [-0.08416864],\n",
      "       [ 0.01211021],\n",
      "       [ 0.01895357],\n",
      "       [-0.06149444],\n",
      "       [-0.03804504],\n",
      "       [-0.06394795],\n",
      "       [-0.02524537],\n",
      "       [ 0.02516216],\n",
      "       [-0.07152513],\n",
      "       [ 0.05994409],\n",
      "       [-0.01915827],\n",
      "       [-0.00702664],\n",
      "       [-0.07101642],\n",
      "       [ 0.05842452],\n",
      "       [-0.01079734],\n",
      "       [-0.00880212],\n",
      "       [-0.05165616],\n",
      "       [-0.07786731],\n",
      "       [ 0.04705247],\n",
      "       [ 0.0621513 ],\n",
      "       [ 0.01223227],\n",
      "       [ 0.01304521],\n",
      "       [ 0.00987411],\n",
      "       [ 0.07118148],\n",
      "       [ 0.06087881],\n",
      "       [-0.07284348],\n",
      "       [-0.00247964],\n",
      "       [ 0.04259028],\n",
      "       [-0.07674088],\n",
      "       [-0.04389832],\n",
      "       [ 0.06764503],\n",
      "       [ 0.04783528],\n",
      "       [-0.08296295],\n",
      "       [-0.08266198],\n",
      "       [-0.06826018],\n",
      "       [ 0.0656862 ],\n",
      "       [-0.0584363 ],\n",
      "       [ 0.05058476],\n",
      "       [-0.041723  ],\n",
      "       [ 0.05331674],\n",
      "       [ 0.00320643],\n",
      "       [-0.00699805],\n",
      "       [ 0.03581644],\n",
      "       [ 0.02835438],\n",
      "       [-0.00160243],\n",
      "       [-0.03630411],\n",
      "       [ 0.01273862],\n",
      "       [ 0.00024373],\n",
      "       [ 0.03152107],\n",
      "       [ 0.05252819],\n",
      "       [ 0.0296834 ],\n",
      "       [ 0.01391359],\n",
      "       [-0.02249056],\n",
      "       [-0.05917482],\n",
      "       [-0.04926444],\n",
      "       [ 0.0393464 ],\n",
      "       [ 0.05404109],\n",
      "       [ 0.02008492],\n",
      "       [-0.05418127],\n",
      "       [ 0.05306776]], dtype=float32), array([0.], dtype=float32), array([[ 0.4410196 , -0.53920835,  0.42402035, -0.35048914, -0.5920254 ,\n",
      "        -0.15969795, -0.6848273 ,  0.34692234, -0.6023434 ,  0.5352363 ]],\n",
      "      dtype=float32), array([0., 0., 0., 0., 0., 0., 0., 0., 0., 0.], dtype=float32)]\n"
     ]
    }
   ],
   "source": [
    "print(model.get_weights())"
   ]
  },
  {
   "cell_type": "code",
   "execution_count": 13,
   "metadata": {},
   "outputs": [
    {
     "ename": "RuntimeError",
     "evalue": "You must compile your model before training/testing. Use `model.compile(optimizer, loss)`.",
     "output_type": "error",
     "traceback": [
      "\u001b[1;31m---------------------------------------------------------------------------\u001b[0m",
      "\u001b[1;31mRuntimeError\u001b[0m                              Traceback (most recent call last)",
      "Cell \u001b[1;32mIn[13], line 1\u001b[0m\n\u001b[1;32m----> 1\u001b[0m loss, acc \u001b[38;5;241m=\u001b[39m \u001b[43mmodel\u001b[49m\u001b[38;5;241;43m.\u001b[39;49m\u001b[43mevaluate\u001b[49m\u001b[43m(\u001b[49m\u001b[43mx_test\u001b[49m\u001b[43m,\u001b[49m\u001b[43m  \u001b[49m\u001b[43my_test\u001b[49m\u001b[43m,\u001b[49m\u001b[43m \u001b[49m\u001b[43mverbose\u001b[49m\u001b[38;5;241;43m=\u001b[39;49m\u001b[38;5;241;43m2\u001b[39;49m\u001b[43m)\u001b[49m\n\u001b[0;32m      2\u001b[0m \u001b[38;5;28mprint\u001b[39m(\u001b[38;5;124m\"\u001b[39m\u001b[38;5;124mTest Accuracy: \u001b[39m\u001b[38;5;132;01m{:5.2f}\u001b[39;00m\u001b[38;5;124m%\u001b[39m\u001b[38;5;124m\"\u001b[39m\u001b[38;5;241m.\u001b[39mformat(\u001b[38;5;241m100\u001b[39m\u001b[38;5;241m*\u001b[39macc))\n",
      "File \u001b[1;32m~\\AppData\\Local\\anaconda3\\lib\\site-packages\\keras\\utils\\traceback_utils.py:70\u001b[0m, in \u001b[0;36mfilter_traceback.<locals>.error_handler\u001b[1;34m(*args, **kwargs)\u001b[0m\n\u001b[0;32m     67\u001b[0m     filtered_tb \u001b[38;5;241m=\u001b[39m _process_traceback_frames(e\u001b[38;5;241m.\u001b[39m__traceback__)\n\u001b[0;32m     68\u001b[0m     \u001b[38;5;66;03m# To get the full stack trace, call:\u001b[39;00m\n\u001b[0;32m     69\u001b[0m     \u001b[38;5;66;03m# `tf.debugging.disable_traceback_filtering()`\u001b[39;00m\n\u001b[1;32m---> 70\u001b[0m     \u001b[38;5;28;01mraise\u001b[39;00m e\u001b[38;5;241m.\u001b[39mwith_traceback(filtered_tb) \u001b[38;5;28;01mfrom\u001b[39;00m \u001b[38;5;28;01mNone\u001b[39;00m\n\u001b[0;32m     71\u001b[0m \u001b[38;5;28;01mfinally\u001b[39;00m:\n\u001b[0;32m     72\u001b[0m     \u001b[38;5;28;01mdel\u001b[39;00m filtered_tb\n",
      "File \u001b[1;32m~\\AppData\\Local\\anaconda3\\lib\\site-packages\\keras\\engine\\training.py:3685\u001b[0m, in \u001b[0;36mModel._assert_compile_was_called\u001b[1;34m(self)\u001b[0m\n\u001b[0;32m   3679\u001b[0m \u001b[38;5;28;01mdef\u001b[39;00m \u001b[38;5;21m_assert_compile_was_called\u001b[39m(\u001b[38;5;28mself\u001b[39m):\n\u001b[0;32m   3680\u001b[0m     \u001b[38;5;66;03m# Checks whether `compile` has been called. If it has been called,\u001b[39;00m\n\u001b[0;32m   3681\u001b[0m     \u001b[38;5;66;03m# then the optimizer is set. This is different from whether the\u001b[39;00m\n\u001b[0;32m   3682\u001b[0m     \u001b[38;5;66;03m# model is compiled\u001b[39;00m\n\u001b[0;32m   3683\u001b[0m     \u001b[38;5;66;03m# (i.e. whether the model is built and its inputs/outputs are set).\u001b[39;00m\n\u001b[0;32m   3684\u001b[0m     \u001b[38;5;28;01mif\u001b[39;00m \u001b[38;5;129;01mnot\u001b[39;00m \u001b[38;5;28mself\u001b[39m\u001b[38;5;241m.\u001b[39m_is_compiled:\n\u001b[1;32m-> 3685\u001b[0m         \u001b[38;5;28;01mraise\u001b[39;00m \u001b[38;5;167;01mRuntimeError\u001b[39;00m(\n\u001b[0;32m   3686\u001b[0m             \u001b[38;5;124m\"\u001b[39m\u001b[38;5;124mYou must compile your model before \u001b[39m\u001b[38;5;124m\"\u001b[39m\n\u001b[0;32m   3687\u001b[0m             \u001b[38;5;124m\"\u001b[39m\u001b[38;5;124mtraining/testing. \u001b[39m\u001b[38;5;124m\"\u001b[39m\n\u001b[0;32m   3688\u001b[0m             \u001b[38;5;124m\"\u001b[39m\u001b[38;5;124mUse `model.compile(optimizer, loss)`.\u001b[39m\u001b[38;5;124m\"\u001b[39m\n\u001b[0;32m   3689\u001b[0m         )\n",
      "\u001b[1;31mRuntimeError\u001b[0m: You must compile your model before training/testing. Use `model.compile(optimizer, loss)`."
     ]
    }
   ],
   "source": [
    "loss, acc = model.evaluate(x_test,  y_test, verbose=2)\n",
    "print(\"Test Accuracy: {:5.2f}%\".format(100*acc))"
   ]
  },
  {
   "cell_type": "code",
   "execution_count": 15,
   "metadata": {},
   "outputs": [
    {
     "name": "stdout",
     "output_type": "stream",
     "text": [
      "Model: \"sequential_3\"\n",
      "_________________________________________________________________\n",
      " Layer (type)                Output Shape              Param #   \n",
      "=================================================================\n",
      " dense_8 (Dense)             (None, 1)                 785       \n",
      "                                                                 \n",
      " dense_9 (Dense)             (None, 10)                20        \n",
      "                                                                 \n",
      "=================================================================\n",
      "Total params: 805\n",
      "Trainable params: 805\n",
      "Non-trainable params: 0\n",
      "_________________________________________________________________\n"
     ]
    }
   ],
   "source": [
    "#We will use 1 node in hidden\n",
    "model = keras.Sequential()\n",
    "model.add(layers.Input(shape=(784,)))\n",
    "#Input Layer. The model needs to know what input shape it should expect. \n",
    "#For this reason, the first layer in a Sequential model needs to receive information about its input shape.\n",
    "#Only the first need the snape information, because following layers can do automatic shape inference\n",
    "model.add(layers.Dense(1, activation='sigmoid')) #, input_shape=(784,)))\n",
    "\n",
    "#The dense layer is simply a layer where each unit or neuron is connected to each neuron in the next layer.\n",
    "#model.add(layers.Dense(100, activation='sigmoid'))\n",
    "\n",
    "#In the final layer mention the output classes\n",
    "model.add(layers.Dense(10, activation='sigmoid'))\n",
    "\n",
    "#Model Summary\n",
    "model.summary()"
   ]
  },
  {
   "cell_type": "code",
   "execution_count": 16,
   "metadata": {},
   "outputs": [
    {
     "name": "stdout",
     "output_type": "stream",
     "text": [
      "Epoch 1/10\n",
      "1875/1875 [==============================] - 6s 3ms/step - loss: 2.0787 - accuracy: 0.1968\n",
      "Epoch 2/10\n",
      "1875/1875 [==============================] - 5s 3ms/step - loss: 1.8810 - accuracy: 0.2210\n",
      "Epoch 3/10\n",
      "1875/1875 [==============================] - 4s 2ms/step - loss: 1.8021 - accuracy: 0.2306\n",
      "Epoch 4/10\n",
      "1875/1875 [==============================] - 4s 2ms/step - loss: 1.7671 - accuracy: 0.2587\n",
      "Epoch 5/10\n",
      "1875/1875 [==============================] - 4s 2ms/step - loss: 1.7478 - accuracy: 0.2762\n",
      "Epoch 6/10\n",
      "1875/1875 [==============================] - 4s 2ms/step - loss: 1.7330 - accuracy: 0.2937\n",
      "Epoch 7/10\n",
      "1875/1875 [==============================] - 4s 2ms/step - loss: 1.7169 - accuracy: 0.3067\n",
      "Epoch 8/10\n",
      "1875/1875 [==============================] - 5s 3ms/step - loss: 1.6987 - accuracy: 0.3263\n",
      "Epoch 9/10\n",
      "1875/1875 [==============================] - 5s 3ms/step - loss: 1.6794 - accuracy: 0.3396\n",
      "Epoch 10/10\n",
      "1875/1875 [==============================] - 5s 3ms/step - loss: 1.6613 - accuracy: 0.3438\n"
     ]
    },
    {
     "data": {
      "text/plain": [
       "<keras.callbacks.History at 0x1f6e4eaae30>"
      ]
     },
     "execution_count": 16,
     "metadata": {},
     "output_type": "execute_result"
    }
   ],
   "source": [
    "# Compiling model : we define loss function, optimizer and validation matric of our choice\n",
    "model.compile(loss='categorical_crossentropy', metrics=['accuracy'])\n",
    "\n",
    "# Fit method: actually running our model by supplying our input and validation data\n",
    "model.fit(x_train, y_train,epochs=10)"
   ]
  },
  {
   "cell_type": "code",
   "execution_count": 17,
   "metadata": {},
   "outputs": [
    {
     "name": "stdout",
     "output_type": "stream",
     "text": [
      "Epoch 1/10\n"
     ]
    },
    {
     "ename": "ValueError",
     "evalue": "in user code:\n\n    File \"C:\\Users\\gowtham.balachan\\AppData\\Local\\anaconda3\\lib\\site-packages\\keras\\engine\\training.py\", line 1284, in train_function  *\n        return step_function(self, iterator)\n    File \"C:\\Users\\gowtham.balachan\\AppData\\Local\\anaconda3\\lib\\site-packages\\keras\\engine\\training.py\", line 1268, in step_function  **\n        outputs = model.distribute_strategy.run(run_step, args=(data,))\n    File \"C:\\Users\\gowtham.balachan\\AppData\\Local\\anaconda3\\lib\\site-packages\\keras\\engine\\training.py\", line 1249, in run_step  **\n        outputs = model.train_step(data)\n    File \"C:\\Users\\gowtham.balachan\\AppData\\Local\\anaconda3\\lib\\site-packages\\keras\\engine\\training.py\", line 1051, in train_step\n        loss = self.compute_loss(x, y, y_pred, sample_weight)\n    File \"C:\\Users\\gowtham.balachan\\AppData\\Local\\anaconda3\\lib\\site-packages\\keras\\engine\\training.py\", line 1109, in compute_loss\n        return self.compiled_loss(\n    File \"C:\\Users\\gowtham.balachan\\AppData\\Local\\anaconda3\\lib\\site-packages\\keras\\engine\\compile_utils.py\", line 265, in __call__\n        loss_value = loss_obj(y_t, y_p, sample_weight=sw)\n    File \"C:\\Users\\gowtham.balachan\\AppData\\Local\\anaconda3\\lib\\site-packages\\keras\\losses.py\", line 142, in __call__\n        losses = call_fn(y_true, y_pred)\n    File \"C:\\Users\\gowtham.balachan\\AppData\\Local\\anaconda3\\lib\\site-packages\\keras\\losses.py\", line 268, in call  **\n        return ag_fn(y_true, y_pred, **self._fn_kwargs)\n    File \"C:\\Users\\gowtham.balachan\\AppData\\Local\\anaconda3\\lib\\site-packages\\keras\\losses.py\", line 2078, in sparse_categorical_crossentropy\n        return backend.sparse_categorical_crossentropy(\n    File \"C:\\Users\\gowtham.balachan\\AppData\\Local\\anaconda3\\lib\\site-packages\\keras\\backend.py\", line 5660, in sparse_categorical_crossentropy\n        res = tf.nn.sparse_softmax_cross_entropy_with_logits(\n\n    ValueError: `labels.shape` must equal `logits.shape` except for the last dimension. Received: labels.shape=(320,) and logits.shape=(32, 10)\n",
     "output_type": "error",
     "traceback": [
      "\u001b[1;31m---------------------------------------------------------------------------\u001b[0m",
      "\u001b[1;31mValueError\u001b[0m                                Traceback (most recent call last)",
      "Cell \u001b[1;32mIn[17], line 5\u001b[0m\n\u001b[0;32m      2\u001b[0m model\u001b[38;5;241m.\u001b[39mcompile(loss\u001b[38;5;241m=\u001b[39m\u001b[38;5;124m'\u001b[39m\u001b[38;5;124msparse_categorical_crossentropy\u001b[39m\u001b[38;5;124m'\u001b[39m, metrics\u001b[38;5;241m=\u001b[39m[\u001b[38;5;124m'\u001b[39m\u001b[38;5;124maccuracy\u001b[39m\u001b[38;5;124m'\u001b[39m])\n\u001b[0;32m      4\u001b[0m \u001b[38;5;66;03m# Fit method: actually running our model by supplying our input and validation data\u001b[39;00m\n\u001b[1;32m----> 5\u001b[0m \u001b[43mmodel\u001b[49m\u001b[38;5;241;43m.\u001b[39;49m\u001b[43mfit\u001b[49m\u001b[43m(\u001b[49m\u001b[43mx_train\u001b[49m\u001b[43m,\u001b[49m\u001b[43m \u001b[49m\u001b[43my_train\u001b[49m\u001b[43m,\u001b[49m\u001b[43mepochs\u001b[49m\u001b[38;5;241;43m=\u001b[39;49m\u001b[38;5;241;43m10\u001b[39;49m\u001b[43m)\u001b[49m\n",
      "File \u001b[1;32m~\\AppData\\Local\\anaconda3\\lib\\site-packages\\keras\\utils\\traceback_utils.py:70\u001b[0m, in \u001b[0;36mfilter_traceback.<locals>.error_handler\u001b[1;34m(*args, **kwargs)\u001b[0m\n\u001b[0;32m     67\u001b[0m     filtered_tb \u001b[38;5;241m=\u001b[39m _process_traceback_frames(e\u001b[38;5;241m.\u001b[39m__traceback__)\n\u001b[0;32m     68\u001b[0m     \u001b[38;5;66;03m# To get the full stack trace, call:\u001b[39;00m\n\u001b[0;32m     69\u001b[0m     \u001b[38;5;66;03m# `tf.debugging.disable_traceback_filtering()`\u001b[39;00m\n\u001b[1;32m---> 70\u001b[0m     \u001b[38;5;28;01mraise\u001b[39;00m e\u001b[38;5;241m.\u001b[39mwith_traceback(filtered_tb) \u001b[38;5;28;01mfrom\u001b[39;00m \u001b[38;5;28;01mNone\u001b[39;00m\n\u001b[0;32m     71\u001b[0m \u001b[38;5;28;01mfinally\u001b[39;00m:\n\u001b[0;32m     72\u001b[0m     \u001b[38;5;28;01mdel\u001b[39;00m filtered_tb\n",
      "File \u001b[1;32mC:\\Users\\GOWTHA~1.BAL\\AppData\\Local\\Temp\\__autograph_generated_fileiff3q_06.py:15\u001b[0m, in \u001b[0;36mouter_factory.<locals>.inner_factory.<locals>.tf__train_function\u001b[1;34m(iterator)\u001b[0m\n\u001b[0;32m     13\u001b[0m \u001b[38;5;28;01mtry\u001b[39;00m:\n\u001b[0;32m     14\u001b[0m     do_return \u001b[38;5;241m=\u001b[39m \u001b[38;5;28;01mTrue\u001b[39;00m\n\u001b[1;32m---> 15\u001b[0m     retval_ \u001b[38;5;241m=\u001b[39m ag__\u001b[38;5;241m.\u001b[39mconverted_call(ag__\u001b[38;5;241m.\u001b[39mld(step_function), (ag__\u001b[38;5;241m.\u001b[39mld(\u001b[38;5;28mself\u001b[39m), ag__\u001b[38;5;241m.\u001b[39mld(iterator)), \u001b[38;5;28;01mNone\u001b[39;00m, fscope)\n\u001b[0;32m     16\u001b[0m \u001b[38;5;28;01mexcept\u001b[39;00m:\n\u001b[0;32m     17\u001b[0m     do_return \u001b[38;5;241m=\u001b[39m \u001b[38;5;28;01mFalse\u001b[39;00m\n",
      "\u001b[1;31mValueError\u001b[0m: in user code:\n\n    File \"C:\\Users\\gowtham.balachan\\AppData\\Local\\anaconda3\\lib\\site-packages\\keras\\engine\\training.py\", line 1284, in train_function  *\n        return step_function(self, iterator)\n    File \"C:\\Users\\gowtham.balachan\\AppData\\Local\\anaconda3\\lib\\site-packages\\keras\\engine\\training.py\", line 1268, in step_function  **\n        outputs = model.distribute_strategy.run(run_step, args=(data,))\n    File \"C:\\Users\\gowtham.balachan\\AppData\\Local\\anaconda3\\lib\\site-packages\\keras\\engine\\training.py\", line 1249, in run_step  **\n        outputs = model.train_step(data)\n    File \"C:\\Users\\gowtham.balachan\\AppData\\Local\\anaconda3\\lib\\site-packages\\keras\\engine\\training.py\", line 1051, in train_step\n        loss = self.compute_loss(x, y, y_pred, sample_weight)\n    File \"C:\\Users\\gowtham.balachan\\AppData\\Local\\anaconda3\\lib\\site-packages\\keras\\engine\\training.py\", line 1109, in compute_loss\n        return self.compiled_loss(\n    File \"C:\\Users\\gowtham.balachan\\AppData\\Local\\anaconda3\\lib\\site-packages\\keras\\engine\\compile_utils.py\", line 265, in __call__\n        loss_value = loss_obj(y_t, y_p, sample_weight=sw)\n    File \"C:\\Users\\gowtham.balachan\\AppData\\Local\\anaconda3\\lib\\site-packages\\keras\\losses.py\", line 142, in __call__\n        losses = call_fn(y_true, y_pred)\n    File \"C:\\Users\\gowtham.balachan\\AppData\\Local\\anaconda3\\lib\\site-packages\\keras\\losses.py\", line 268, in call  **\n        return ag_fn(y_true, y_pred, **self._fn_kwargs)\n    File \"C:\\Users\\gowtham.balachan\\AppData\\Local\\anaconda3\\lib\\site-packages\\keras\\losses.py\", line 2078, in sparse_categorical_crossentropy\n        return backend.sparse_categorical_crossentropy(\n    File \"C:\\Users\\gowtham.balachan\\AppData\\Local\\anaconda3\\lib\\site-packages\\keras\\backend.py\", line 5660, in sparse_categorical_crossentropy\n        res = tf.nn.sparse_softmax_cross_entropy_with_logits(\n\n    ValueError: `labels.shape` must equal `logits.shape` except for the last dimension. Received: labels.shape=(320,) and logits.shape=(32, 10)\n"
     ]
    }
   ],
   "source": [
    "# Compiling model : we define loss function, optimizer and validation matric of our choice\n",
    "model.compile(loss='sparse_categorical_crossentropy', metrics=['accuracy'])\n",
    "\n",
    "# Fit method: actually running our model by supplying our input and validation data\n",
    "model.fit(x_train, y_train,epochs=10)"
   ]
  },
  {
   "cell_type": "code",
   "execution_count": 18,
   "metadata": {},
   "outputs": [
    {
     "name": "stdout",
     "output_type": "stream",
     "text": [
      "Epoch 1/10\n",
      "1875/1875 [==============================] - 4s 2ms/step - loss: 0.3206 - accuracy: 0.2759\n",
      "Epoch 2/10\n",
      "1875/1875 [==============================] - 4s 2ms/step - loss: 0.2795 - accuracy: 0.3286\n",
      "Epoch 3/10\n",
      "1875/1875 [==============================] - 4s 2ms/step - loss: 0.2709 - accuracy: 0.3400\n",
      "Epoch 4/10\n",
      "1875/1875 [==============================] - 4s 2ms/step - loss: 0.2672 - accuracy: 0.3409\n",
      "Epoch 5/10\n",
      "1875/1875 [==============================] - 4s 2ms/step - loss: 0.2657 - accuracy: 0.3429\n",
      "Epoch 6/10\n",
      "1875/1875 [==============================] - 4s 2ms/step - loss: 0.2649 - accuracy: 0.3462\n",
      "Epoch 7/10\n",
      "1875/1875 [==============================] - 5s 2ms/step - loss: 0.2643 - accuracy: 0.3473\n",
      "Epoch 8/10\n",
      "1875/1875 [==============================] - 4s 2ms/step - loss: 0.2639 - accuracy: 0.3471\n",
      "Epoch 9/10\n",
      "1875/1875 [==============================] - 5s 2ms/step - loss: 0.2636 - accuracy: 0.3518\n",
      "Epoch 10/10\n",
      "1875/1875 [==============================] - 5s 3ms/step - loss: 0.2633 - accuracy: 0.3490\n"
     ]
    },
    {
     "data": {
      "text/plain": [
       "<keras.callbacks.History at 0x1f6e5c6f400>"
      ]
     },
     "execution_count": 18,
     "metadata": {},
     "output_type": "execute_result"
    }
   ],
   "source": [
    "# Compiling model : we define loss function, optimizer and validation matric of our choice\n",
    "model.compile(loss='binary_crossentropy', metrics=['accuracy'])\n",
    "\n",
    "# Fit method: actually running our model by supplying our input and validation data\n",
    "model.fit(x_train, y_train,epochs=10)"
   ]
  },
  {
   "cell_type": "code",
   "execution_count": null,
   "metadata": {},
   "outputs": [
    {
     "name": "stdout",
     "output_type": "stream",
     "text": [
      "Epoch 1/10\n",
      "1875/1875 [==============================] - 6s 3ms/step - loss: 1.6278 - accuracy: 0.3601\n",
      "Epoch 2/10\n",
      "1875/1875 [==============================] - 5s 2ms/step - loss: 1.6094 - accuracy: 0.3642\n",
      "Epoch 3/10\n",
      "1875/1875 [==============================] - 5s 3ms/step - loss: 1.5978 - accuracy: 0.3686\n",
      "Epoch 4/10\n",
      "1875/1875 [==============================] - 5s 3ms/step - loss: 1.5885 - accuracy: 0.3733\n",
      "Epoch 5/10\n",
      "1875/1875 [==============================] - 5s 3ms/step - loss: 1.5807 - accuracy: 0.3736\n",
      "Epoch 6/10\n",
      "1875/1875 [==============================] - 4s 2ms/step - loss: 1.5746 - accuracy: 0.3773\n",
      "Epoch 7/10\n",
      "1875/1875 [==============================] - 5s 2ms/step - loss: 1.5689 - accuracy: 0.3812\n",
      "Epoch 8/10\n",
      "1875/1875 [==============================] - 5s 3ms/step - loss: 1.5638 - accuracy: 0.3835\n",
      "Epoch 9/10\n",
      " 406/1875 [=====>........................] - ETA: 3s - loss: 1.5515 - accuracy: 0.3881"
     ]
    }
   ],
   "source": [
    "# Compiling model : we define loss function, optimizer and validation matric of our choice\n",
    "model.compile(loss='categorical_crossentropy', metrics=['accuracy'])\n",
    "\n",
    "# Fit method: actually running our model by supplying our input and validation data\n",
    "model.fit(x_train, y_train,epochs=10)"
   ]
  },
  {
   "cell_type": "code",
   "execution_count": null,
   "metadata": {},
   "outputs": [],
   "source": [
    "import numpy as np\n",
    "import tensorflow as tf\n",
    "from tensorflow import keras\n",
    "from tensorflow.keras import layers\n",
    "\n",
    "# Load the MNIST dataset\n",
    "(X_train, Y_train), (X_test, Y_test) = keras.datasets.mnist.load_data()\n",
    "\n",
    "# Normalize the images to the range [0, 1]\n",
    "X_train, X_test = X_train / 255.0, X_test / 255.0\n",
    "\n",
    "# Reshape the data to include the channel dimension (28, 28, 1)\n",
    "X_train = X_train.reshape(-1, 28, 28, 1)\n",
    "X_test = X_test.reshape(-1, 28, 28, 1)\n",
    "\n",
    "# Build the CNN model\n",
    "model = keras.Sequential([\n",
    "    layers.Conv2D(32, (3, 3), activation='relu', input_shape=(28, 28, 1)),\n",
    "    layers.MaxPooling2D((2, 2)),\n",
    "    layers.Conv2D(64, (3, 3), activation='relu'),\n",
    "    layers.MaxPooling2D((2, 2)),\n",
    "    layers.Conv2D(64, (3, 3), activation='relu'),\n",
    "    layers.Flatten(),\n",
    "    layers.Dense(64, activation='relu'),\n",
    "    layers.Dense(10, activation='softmax')  # 10 classes for MNIST\n",
    "])\n",
    "\n",
    "# Compile the model with Sparse Categorical Cross-Entropy loss\n",
    "model.compile(\n",
    "    optimizer='adam',\n",
    "    loss=tf.keras.losses.SparseCategoricalCrossentropy(),\n",
    "    metrics=['accuracy']\n",
    ")\n",
    "\n",
    "# Train the model\n",
    "model.fit(X_train, Y_train, epochs=5, batch_size=64, validation_data=(X_test, Y_test))\n"
   ]
  },
  {
   "cell_type": "code",
   "execution_count": 4,
   "metadata": {},
   "outputs": [],
   "source": [
    "import numpy as np"
   ]
  },
  {
   "cell_type": "code",
   "execution_count": 10,
   "metadata": {},
   "outputs": [],
   "source": [
    "x1 = np.array([0,0,1,1])\n",
    "x2 = np.array([0,1,1,0])\n",
    "y = np.array([0,1,1,1])\n",
    "\n",
    "def or_gate(x1,x2,w1,w2):\n",
    "    return (x1*w1)+(x2*w2)"
   ]
  },
  {
   "cell_type": "code",
   "execution_count": 15,
   "metadata": {},
   "outputs": [
    {
     "name": "stdout",
     "output_type": "stream",
     "text": [
      "Best weights: w1 = 0.6666666683548553 , w2 = 0.6666666649784779\n",
      "Best loss: 0.3333333333333333\n"
     ]
    }
   ],
   "source": [
    "# Initialize weights\n",
    "weights = np.random.randn(2)\n",
    "w1 = weights[0]\n",
    "w2 = weights[1]\n",
    "\n",
    "# Hyperparameters\n",
    "eta = 0.01\n",
    "iterations = 1000\n",
    "\n",
    "error = []\n",
    "best_loss = float('inf')\n",
    "best_w1 = 0\n",
    "best_w2 = 0\n",
    "\n",
    "for i in range(iterations):\n",
    "    # Linear prediction\n",
    "    y_pred = w1 * x1 + w2 * x2\n",
    "    \n",
    "    # Loss (Mean Squared Error)\n",
    "    diff = y_pred - y\n",
    "    loss = np.sum(diff ** 2)\n",
    "    error.append(loss)\n",
    "\n",
    "    # Store best weights\n",
    "    if loss < best_loss:\n",
    "        best_loss = loss\n",
    "        best_w1 = w1\n",
    "        best_w2 = w2\n",
    "\n",
    "    # Compute gradients\n",
    "    dw1 = np.sum(2 * diff * x1)\n",
    "    dw2 = np.sum(2 * diff * x2)\n",
    "\n",
    "    # Weight updates\n",
    "    w1 = w1 - eta * dw1\n",
    "    w2 = w2 - eta * dw2\n",
    "\n",
    "print(\"Best weights: w1 =\", best_w1, \", w2 =\", best_w2)\n",
    "print(\"Best loss:\", best_loss)"
   ]
  },
  {
   "cell_type": "code",
   "execution_count": 17,
   "metadata": {},
   "outputs": [
    {
     "data": {
      "text/plain": [
       "array([0.        , 0.66666667, 1.33333333, 0.66666667])"
      ]
     },
     "execution_count": 17,
     "metadata": {},
     "output_type": "execute_result"
    }
   ],
   "source": [
    "or_gate(x1,x2,w1,w2)"
   ]
  },
  {
   "cell_type": "code",
   "execution_count": 28,
   "metadata": {},
   "outputs": [
    {
     "name": "stdout",
     "output_type": "stream",
     "text": [
      "Best weights: w1 = 0.9967127971170376 , w2 = 0.9967127958513418 w3= -0.9910191929799875\n",
      "Best loss: 2.7402174812844392e-05\n"
     ]
    }
   ],
   "source": [
    "# Initialize weights\n",
    "x1 = np.array([0,0,1,1])\n",
    "x2 = np.array([0,1,1,0])\n",
    "x3 = x1&x2\n",
    "y = np.array([0,1,1,1])\n",
    "\n",
    "def or_gate(x1,x2,w1,w2,w3):\n",
    "    return (x1*w1)+(x2*w2)+(x3*w3)\n",
    "weights = np.random.randn(3)\n",
    "w1 = weights[0]\n",
    "w2 = weights[1]\n",
    "w3 = weights[2]\n",
    "\n",
    "# Hyperparameters\n",
    "eta = 0.01\n",
    "iterations = 1000\n",
    "\n",
    "error = []\n",
    "best_loss = float('inf')\n",
    "best_w1 = 0\n",
    "best_w2 = 0\n",
    "best_w3 = 0\n",
    "for i in range(iterations):\n",
    "    # Linear prediction\n",
    "    y_pred = w1 * x1 + w2 * x2 + w3 * x3\n",
    "    \n",
    "    # Loss (Mean Squared Error)\n",
    "    diff = y_pred - y\n",
    "    loss = np.sum(diff ** 2)\n",
    "    error.append(loss)\n",
    "\n",
    "    # Store best weights\n",
    "    if loss < best_loss:\n",
    "        best_loss = loss\n",
    "        best_w1 = w1\n",
    "        best_w2 = w2\n",
    "        best_w3 = w3\n",
    "\n",
    "    # Compute gradients\n",
    "    dw1 = np.sum(2 * diff * x1)\n",
    "    dw2 = np.sum(2 * diff * x2)\n",
    "    dw3 = np.sum(2 * diff * x3)\n",
    "    # Weight updates\n",
    "    w1 = w1 - eta * dw1\n",
    "    w2 = w2 - eta * dw2\n",
    "    w3 = w3 - eta * dw3\n",
    "\n",
    "print(\"Best weights: w1 =\", best_w1, \", w2 =\", best_w2,\"w3=\",best_w3)\n",
    "print(\"Best loss:\", best_loss)"
   ]
  },
  {
   "cell_type": "code",
   "execution_count": 29,
   "metadata": {},
   "outputs": [
    {
     "data": {
      "text/plain": [
       "array([0.        , 0.99673041, 1.0023935 , 0.99673041])"
      ]
     },
     "execution_count": 29,
     "metadata": {},
     "output_type": "execute_result"
    }
   ],
   "source": [
    "or_gate(x1,x2,w1,w2,w3)"
   ]
  },
  {
   "cell_type": "code",
   "execution_count": 27,
   "metadata": {},
   "outputs": [
    {
     "data": {
      "text/plain": [
       "array([0, 0, 1, 0])"
      ]
     },
     "execution_count": 27,
     "metadata": {},
     "output_type": "execute_result"
    }
   ],
   "source": [
    "x3"
   ]
  },
  {
   "cell_type": "markdown",
   "metadata": {},
   "source": [
    "# Lets do polynomial feature "
   ]
  },
  {
   "cell_type": "code",
   "execution_count": 30,
   "metadata": {},
   "outputs": [
    {
     "name": "stdout",
     "output_type": "stream",
     "text": [
      "Best weights: w1 = 0.9992982453080909 , w2 = 0.9992982396503557 w3= -0.9980827627986442\n",
      "Best loss: 1.2488376934214252e-06\n"
     ]
    }
   ],
   "source": [
    "# Initialize weights\n",
    "x1 = np.array([0,0,1,1])\n",
    "x2 = np.array([0,1,1,0])\n",
    "x3 = x1&x2\n",
    "y = np.array([0,1,1,1])\n",
    "\n",
    "def or_gate(x1,x2,w1,w2,w3):\n",
    "    return (x1*w1)+(x2*w2)+(x3*w3)\n",
    "weights = np.random.randn(3)\n",
    "w1 = weights[0]\n",
    "w2 = weights[1]\n",
    "w3 = weights[2]\n",
    "\n",
    "# Hyperparameters\n",
    "eta = 0.01\n",
    "iterations = 1000\n",
    "\n",
    "error = []\n",
    "best_loss = float('inf')\n",
    "best_w1 = 0\n",
    "best_w2 = 0\n",
    "best_w3 = 0\n",
    "for i in range(iterations):\n",
    "    # Linear prediction\n",
    "    y_pred = w1 * x1 + w2 * x2 + w3 * x3\n",
    "    \n",
    "    # Loss (Mean Squared Error)\n",
    "    diff = y_pred - y\n",
    "    loss = np.sum(diff ** 2)\n",
    "    error.append(loss)\n",
    "\n",
    "    # Store best weights\n",
    "    if loss < best_loss:\n",
    "        best_loss = loss\n",
    "        best_w1 = w1\n",
    "        best_w2 = w2\n",
    "        best_w3 = w3\n",
    "\n",
    "    # Compute gradients\n",
    "    dw1 = np.sum(2 * diff * x1)\n",
    "    dw2 = np.sum(2 * diff * x2)\n",
    "    dw3 = np.sum(2 * diff * x3)\n",
    "    # Weight updates\n",
    "    w1 = w1 - eta * dw1\n",
    "    w2 = w2 - eta * dw2\n",
    "    w3 = w3 - eta * dw3\n",
    "\n",
    "print(\"Best weights: w1 =\", best_w1, \", w2 =\", best_w2,\"w3=\",best_w3)\n",
    "print(\"Best loss:\", best_loss)"
   ]
  },
  {
   "cell_type": "code",
   "execution_count": 31,
   "metadata": {},
   "outputs": [
    {
     "ename": "ValueError",
     "evalue": "The truth value of an array with more than one element is ambiguous. Use a.any() or a.all()",
     "output_type": "error",
     "traceback": [
      "\u001b[1;31m---------------------------------------------------------------------------\u001b[0m",
      "\u001b[1;31mValueError\u001b[0m                                Traceback (most recent call last)",
      "Cell \u001b[1;32mIn[31], line 1\u001b[0m\n\u001b[1;32m----> 1\u001b[0m x4 \u001b[38;5;241m=\u001b[39m x1 \u001b[38;5;129;01mor\u001b[39;00m x1\n\u001b[0;32m      2\u001b[0m x5 \u001b[38;5;241m=\u001b[39m x2 \u001b[38;5;129;01mor\u001b[39;00m x2\n",
      "\u001b[1;31mValueError\u001b[0m: The truth value of an array with more than one element is ambiguous. Use a.any() or a.all()"
     ]
    }
   ],
   "source": [
    "x4 = x1 or x1\n",
    "x5 = x2 or x2\n"
   ]
  },
  {
   "cell_type": "code",
   "execution_count": 32,
   "metadata": {},
   "outputs": [
    {
     "name": "stdout",
     "output_type": "stream",
     "text": [
      "tf.Tensor([50 10], shape=(2,), dtype=int32)\n"
     ]
    }
   ],
   "source": [
    "a = tf.constant((50,10))\n",
    "print(a)"
   ]
  },
  {
   "cell_type": "code",
   "execution_count": null,
   "metadata": {},
   "outputs": [],
   "source": []
  }
 ],
 "metadata": {
  "kernelspec": {
   "display_name": "Python 3 (ipykernel)",
   "language": "python",
   "name": "python3"
  },
  "language_info": {
   "codemirror_mode": {
    "name": "ipython",
    "version": 3
   },
   "file_extension": ".py",
   "mimetype": "text/x-python",
   "name": "python",
   "nbconvert_exporter": "python",
   "pygments_lexer": "ipython3",
   "version": "3.10.9"
  }
 },
 "nbformat": 4,
 "nbformat_minor": 2
}
