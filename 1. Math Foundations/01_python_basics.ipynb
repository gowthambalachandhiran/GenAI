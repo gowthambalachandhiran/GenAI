{
  "cells": [
    {
      "cell_type": "markdown",
      "metadata": {
        "id": "zsBLZL0WhWbf"
      },
      "source": [
        "### Data Types and Type Conversion\n",
        "\n",
        "- Every value in a program has a specific type.\n",
        "\n",
        "- Integer (int): represents positive or negative whole numbers.\n",
        "\n",
        "- Floating point number (float): represents real numbers like 3.14159.\n",
        "\n",
        "- Character string (usually called “string”, str): text.\n",
        "Written in either single quotes or double quotes (as long as they match).\n",
        "\n",
        "    - The quote marks aren’t printed when the string is displayed.\n",
        "\n"
      ]
    },
    {
      "cell_type": "code",
      "execution_count": null,
      "metadata": {
        "id": "hkT7qfMlJUPk"
      },
      "outputs": [],
      "source": [
        "print(type(5), type(5.2), type(\"5\"))"
      ]
    },
    {
      "cell_type": "code",
      "execution_count": null,
      "metadata": {
        "id": "Klw-7xfaiOQz"
      },
      "outputs": [],
      "source": [
        "a = \"5\"\n",
        "b = int(a)\n",
        "print(b, type(b))"
      ]
    },
    {
      "cell_type": "code",
      "execution_count": null,
      "metadata": {
        "id": "JRV40OTdjZ_G"
      },
      "outputs": [],
      "source": [
        "print(\"This is a string.\")"
      ]
    },
    {
      "cell_type": "code",
      "execution_count": null,
      "metadata": {
        "id": "zk2Xhp4Giboe"
      },
      "outputs": [],
      "source": [
        "print(5+2,'\\t', 5-2,'\\t', 5*2,'\\t', 5/2,'\\t', 5//2,'\\t', 5**2)"
      ]
    },
    {
      "cell_type": "markdown",
      "metadata": {
        "id": "4UWeM0_3jpOJ"
      },
      "source": [
        "### Lists in Python \n",
        "- Lists are one of the most powerful tools in python. \n",
        "- They are just like the arrays declared in other languages. \n",
        "- The most powerful thing is that list need not be always homogeneous.\n",
        "-  Lists are mutable, i.e., they can be altered once declared."
      ]
    },
    {
      "cell_type": "code",
      "execution_count": null,
      "metadata": {
        "id": "riVq6n7Ti_Uy"
      },
      "outputs": [],
      "source": [
        "alist = [1, \"a\" , 2 , 5.3]\n",
        "print(alist)"
      ]
    },
    {
      "cell_type": "code",
      "execution_count": null,
      "metadata": {
        "id": "RwLsgtoSkHx_"
      },
      "outputs": [],
      "source": [
        "print(alist[0],'\\t', alist[1], '\\t', alist[1:3], '\\t', len(alist))"
      ]
    },
    {
      "cell_type": "code",
      "execution_count": null,
      "metadata": {
        "id": "i_WYQelLkW8G"
      },
      "outputs": [],
      "source": [
        "blist = []\n",
        "blist.append(4)\n",
        "print(blist)"
      ]
    },
    {
      "cell_type": "code",
      "execution_count": null,
      "metadata": {
        "id": "pEuQACLIkfQY"
      },
      "outputs": [],
      "source": [
        "blist.pop()"
      ]
    },
    {
      "cell_type": "code",
      "execution_count": null,
      "metadata": {
        "id": "3v4FpU-skwLf"
      },
      "outputs": [],
      "source": [
        "print(blist)"
      ]
    },
    {
      "cell_type": "code",
      "execution_count": null,
      "metadata": {
        "id": "MNJBY2R3kxos"
      },
      "outputs": [],
      "source": [
        "alist = [1, \"a\" , 2 , 5.3]\n",
        "alist.index(5.3)"
      ]
    },
    {
      "cell_type": "code",
      "execution_count": null,
      "metadata": {
        "id": "WxyPdrQ6kzfY"
      },
      "outputs": [],
      "source": [
        "alist[0] = 0\n",
        "print(alist)"
      ]
    },
    {
      "cell_type": "markdown",
      "metadata": {
        "id": "MPAtgwuNlJg4"
      },
      "source": [
        "### Tuples in Python \n",
        "- Tuples are just like lists with the exception that tuples cannot be changed once declared."
      ]
    },
    {
      "cell_type": "code",
      "execution_count": null,
      "metadata": {
        "id": "4hmd9jq1k_Sk"
      },
      "outputs": [],
      "source": [
        "t = (1, \"a\", \"string\", 1+2)\n",
        "print(t,'\\t', type(t))\n",
        "print(t[1])"
      ]
    },
    {
      "cell_type": "markdown",
      "metadata": {
        "id": "6o4eAd9Jlobk"
      },
      "source": [
        "### Dictionaries in Python\n",
        "- Dictionary holds key:value pairs.\n",
        "- Indexing of Python Dictionary is done with the help of keys."
      ]
    },
    {
      "cell_type": "code",
      "execution_count": null,
      "metadata": {
        "id": "sQFnhIeflVqy"
      },
      "outputs": [],
      "source": [
        "d = {}\n",
        "d[\"fall2021\"] = 50 \n",
        "d[\"spring2022\"] = 80\n",
        "print(d)"
      ]
    },
    {
      "cell_type": "code",
      "execution_count": null,
      "metadata": {
        "id": "z1QzJwyJmChe"
      },
      "outputs": [],
      "source": [
        "print(d.keys())"
      ]
    },
    {
      "cell_type": "code",
      "execution_count": null,
      "metadata": {
        "id": "o2TXYo7jmHxG"
      },
      "outputs": [],
      "source": [
        "print(d.items())"
      ]
    },
    {
      "cell_type": "markdown",
      "metadata": {
        "id": "SPtaz2Pomcmq"
      },
      "source": [
        "### Sets in Python\n",
        "- Set does not allow any duplicate element."
      ]
    },
    {
      "cell_type": "code",
      "execution_count": null,
      "metadata": {
        "id": "ZjABTSl3mKnA"
      },
      "outputs": [],
      "source": [
        "my_set = set([1, 2, 2, 4, 4, 6, 7])\n",
        "print(my_set)"
      ]
    },
    {
      "cell_type": "code",
      "execution_count": null,
      "metadata": {
        "id": "bOtotsKUmzVv"
      },
      "outputs": [],
      "source": [
        "type(my_set)"
      ]
    },
    {
      "cell_type": "markdown",
      "metadata": {
        "id": "GaeNx9dZqh9O"
      },
      "source": [
        "### Iterate over a list in Python\n",
        "- Method 1: Using For loop \n",
        "- Method 2: For loop and range()\n",
        "- Method 3: Using while loop \n",
        "- Method 4: Using list comprehension\n",
        "- Method 5: Using enumerate()"
      ]
    },
    {
      "cell_type": "code",
      "execution_count": null,
      "metadata": {
        "id": "8546fDyvm1eV"
      },
      "outputs": [],
      "source": [
        "alist = [1, 3, 5, 7, 9]"
      ]
    },
    {
      "cell_type": "code",
      "execution_count": null,
      "metadata": {
        "id": "rxpqwy6qm3lQ"
      },
      "outputs": [],
      "source": [
        "for item in alist:\n",
        "    print(item)"
      ]
    },
    {
      "cell_type": "code",
      "execution_count": null,
      "metadata": {
        "id": "dxnUYoJrrvVf"
      },
      "outputs": [],
      "source": [
        "for index in range(len(alist)):\n",
        "    print(alist[index])"
      ]
    },
    {
      "cell_type": "code",
      "execution_count": null,
      "metadata": {
        "id": "TPcli0DVr0xY"
      },
      "outputs": [],
      "source": [
        "i = 0 \n",
        "while i < len(alist):\n",
        "    print(alist[i])\n",
        "    i += 1"
      ]
    },
    {
      "cell_type": "code",
      "execution_count": null,
      "metadata": {
        "id": "e7lkPjTlsJAH"
      },
      "outputs": [],
      "source": [
        "for i, val in enumerate(alist):\n",
        "    print (\"index\", i, \", value:\",val)"
      ]
    },
    {
      "cell_type": "markdown",
      "metadata": {
        "id": "oBmv7i_8tYy4"
      },
      "source": [
        "### if statement"
      ]
    },
    {
      "cell_type": "code",
      "execution_count": null,
      "metadata": {
        "id": "9M4LtZkAsY59"
      },
      "outputs": [],
      "source": [
        "x = 5\n",
        "\n",
        "if x < 0:\n",
        "    print('Negative')\n",
        "elif x == 0:\n",
        "    print('Zero')\n",
        "else:\n",
        "    print('Positive')"
      ]
    },
    {
      "cell_type": "markdown",
      "metadata": {
        "id": "ctPF9qlStutC"
      },
      "source": [
        "### Defining Functions"
      ]
    },
    {
      "cell_type": "code",
      "execution_count": null,
      "metadata": {
        "id": "oUr2PrPdtoa6"
      },
      "outputs": [],
      "source": [
        "def square(num):\n",
        "    num_new = num ** 2\n",
        "    return num_new"
      ]
    },
    {
      "cell_type": "code",
      "execution_count": null,
      "metadata": {
        "id": "7D8zOWeqt5Ur"
      },
      "outputs": [],
      "source": [
        "square(4)"
      ]
    },
    {
      "cell_type": "code",
      "execution_count": null,
      "metadata": {
        "id": "44aXnMCz5FfG"
      },
      "outputs": [],
      "source": [
        "import time \n",
        "start_time = time.time()\n",
        "\n",
        "for i in range(1000000):\n",
        "    square(i)\n",
        "\n",
        "end_time = time.time()\n",
        "print(\"running time %s seconds\" % (end_time - start_time))"
      ]
    },
    {
      "cell_type": "markdown",
      "metadata": {
        "id": "DK-evnNwt_V6"
      },
      "source": [
        "### Defining Classes"
      ]
    },
    {
      "cell_type": "code",
      "execution_count": null,
      "metadata": {
        "id": "kWQA3Om2t6qf"
      },
      "outputs": [],
      "source": [
        "import time \n",
        "\"\"\"\n",
        "Record multiple running times.\n",
        "\"\"\"\n",
        "class Timer: \n",
        "    def __init__(self):\n",
        "        self.times = []\n",
        "\n",
        "    def start(self):\n",
        "        self.tik = time.time()\n",
        "    \n",
        "    def stop(self):\n",
        "        self.times.append(time.time() - self.tik)\n",
        "        return self.times[-1]"
      ]
    },
    {
      "cell_type": "code",
      "execution_count": null,
      "metadata": {
        "id": "jWvaMb6R6f1f"
      },
      "outputs": [],
      "source": [
        "timer = Timer()\n",
        "\n",
        "timer.start()\n",
        "for i in range(100):\n",
        "    square(i)\n",
        "\n",
        "print(timer.stop())\n",
        "\n",
        "timer.start()\n",
        "for i in range(10000):\n",
        "    square(i)\n",
        "\n",
        "print(timer.stop())\n",
        "\n",
        "timer.start()\n",
        "for i in range(1000000):\n",
        "    square(i)\n",
        "\n",
        "print(timer.stop())"
      ]
    },
    {
      "cell_type": "code",
      "execution_count": null,
      "metadata": {
        "id": "kcmTaBf76kdo"
      },
      "outputs": [],
      "source": [
        "timer.times"
      ]
    }
  ],
  "metadata": {
    "colab": {
      "collapsed_sections": [],
      "name": "python_basics.ipynb",
      "provenance": []
    },
    "kernelspec": {
      "display_name": "Python 3",
      "name": "python3"
    },
    "language_info": {
      "name": "python"
    }
  },
  "nbformat": 4,
  "nbformat_minor": 0
}
